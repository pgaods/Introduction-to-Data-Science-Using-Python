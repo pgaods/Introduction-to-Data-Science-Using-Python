{
 "cells": [
  {
   "cell_type": "markdown",
   "metadata": {},
   "source": [
    "In this lecture we study how to scrape Yelp reviews:"
   ]
  },
  {
   "cell_type": "code",
   "execution_count": 1,
   "metadata": {
    "collapsed": true
   },
   "outputs": [],
   "source": [
    "import webbrowser\n",
    "import requests\n",
    "import pandas as pd\n",
    "import numpy as np\n",
    "import matplotlib.pyplot as plt\n",
    "import seaborn as sns\n",
    "import os\n",
    "import bs4\n",
    "import json\n",
    "\n",
    "pd.options.display.max_rows = 999"
   ]
  },
  {
   "cell_type": "code",
   "execution_count": 2,
   "metadata": {
    "collapsed": true
   },
   "outputs": [],
   "source": [
    "#res = requests.get('https://www.yelp.com/biz/froedtert-hospital-milwaukee') \n",
    "res = requests.get('https://www.yelp.com/biz/rush-university-medical-center-chicago-3?osq=Rush+University+Hospital')\n",
    "try:\n",
    "    res.raise_for_status()\n",
    "except Exception as exc:\n",
    "    print('There was a problem: %s' % (exc))\n",
    "soup = bs4.BeautifulSoup(res.text, 'html.parser')"
   ]
  },
  {
   "cell_type": "markdown",
   "metadata": {
    "collapsed": true
   },
   "source": [
    "Here we need to press F12 on the keyboard and look at the html file. We will need to identify where the reviews all are. They are stored in some type of json files:"
   ]
  },
  {
   "cell_type": "code",
   "execution_count": 3,
   "metadata": {},
   "outputs": [
    {
     "data": {
      "text/plain": [
       "dict_keys(['aggregateRating', 'review', 'priceRange', 'name', 'address', '@context', 'image', '@type', 'telephone'])"
      ]
     },
     "execution_count": 3,
     "metadata": {},
     "output_type": "execute_result"
    }
   ],
   "source": [
    "data = soup.find_all('script', type='application/ld+json')\n",
    "data2=list(data[1].children)\n",
    "data3=json.loads(data2[0]) # this can only take a list and change it to a dictionary\n",
    "data3.keys()"
   ]
  },
  {
   "cell_type": "code",
   "execution_count": 4,
   "metadata": {},
   "outputs": [
    {
     "name": "stdout",
     "output_type": "stream",
     "text": [
      "{'reviewRating': {'ratingValue': 5}, 'datePublished': '2018-08-21', 'description': \"I came here for back surgery and kept overnight for observation. The medical staff was really nice. I'm in a room but only in an area for 1 night so the room isn't all that. Then again it is private and everyone kept me comfortable.\\n\\nNurses are great and even though I could tell a few were tired they were friendly and made sure I had whatever I needed.\\n\\nThe layout of the hospital got me lost initially but everyone helped me to where I need to go.\\n\\nI came in for surgery last week BUT I had a heart murmur and I had to cancel and come back the other day for surgery. No one has ever told me I had one before.\\n\\nThey did an echocardiogram on me last Thursday they were going to do it with contrast and the person who put in my IV had a blow out so I have a huge bruise. Not too bad. \\n\\nThey went ahead with surgery, satisfaction on the echocardiogram. Cleared for surgery. \\n\\nThe food is pretty decent. I've been to many places that were bad. The foods here are easy to order from your phone. \\n\\nAlso I'm on floor 4 and holy moly it's so quiet I can hear a pin drop, which was nice.\", 'author': 'Leslie L.'} \n",
      "\n",
      "{'reviewRating': {'ratingValue': 1}, 'datePublished': '2019-01-15', 'description': 'After conforming several times that coverage was in network via phone and online. I waited an hour in the waiting room, just to be told it is NOT in network. I would not suggest using unless you are absolutely sure. The doctor I picked that showed in network took me to a site that was not in network.', 'author': 'Porscha M.'} \n",
      "\n",
      "{'reviewRating': {'ratingValue': 4}, 'datePublished': '2018-11-05', 'description': 'Excellent health care and health focused training.\\nPay parking in designated lots. Valet parking is available for some buildings during specific hours.', 'author': 'Claudia D.'} \n",
      "\n"
     ]
    }
   ],
   "source": [
    "print(data3['review'][0], '\\n') # this is a list\n",
    "print(data3['review'][1], '\\n') # this is a list\n",
    "print(data3['review'][2], '\\n') # this is a list"
   ]
  },
  {
   "cell_type": "code",
   "execution_count": 5,
   "metadata": {},
   "outputs": [
    {
     "name": "stdout",
     "output_type": "stream",
     "text": [
      "5\n",
      "2018-08-21\n",
      "I came here for back surgery and kept overnight for observation. The medical staff was really nice. I'm in a room but only in an area for 1 night so the room isn't all that. Then again it is private and everyone kept me comfortable.\n",
      "\n",
      "Nurses are great and even though I could tell a few were tired they were friendly and made sure I had whatever I needed.\n",
      "\n",
      "The layout of the hospital got me lost initially but everyone helped me to where I need to go.\n",
      "\n",
      "I came in for surgery last week BUT I had a heart murmur and I had to cancel and come back the other day for surgery. No one has ever told me I had one before.\n",
      "\n",
      "They did an echocardiogram on me last Thursday they were going to do it with contrast and the person who put in my IV had a blow out so I have a huge bruise. Not too bad. \n",
      "\n",
      "They went ahead with surgery, satisfaction on the echocardiogram. Cleared for surgery. \n",
      "\n",
      "The food is pretty decent. I've been to many places that were bad. The foods here are easy to order from your phone. \n",
      "\n",
      "Also I'm on floor 4 and holy moly it's so quiet I can hear a pin drop, which was nice.\n"
     ]
    }
   ],
   "source": [
    "data4=data3['review']\n",
    "print(data4[0]['reviewRating']['ratingValue'])\n",
    "print(data4[0]['datePublished'])\n",
    "print(data4[0]['description'])"
   ]
  },
  {
   "cell_type": "code",
   "execution_count": 6,
   "metadata": {
    "collapsed": true
   },
   "outputs": [],
   "source": [
    "for k in range(0,len(data4)):\n",
    "    del(data4[k]['author']) # gettiing rid of authorship\n",
    "    data4[k]['StarRating']=data4[k]['reviewRating']['ratingValue'] # making a new key from existing key\n",
    "    del(data4[k]['reviewRating']) # getting rid of the existing key since the value of the key is a dictionary"
   ]
  },
  {
   "cell_type": "code",
   "execution_count": 7,
   "metadata": {},
   "outputs": [
    {
     "data": {
      "text/html": [
       "<div>\n",
       "<style scoped>\n",
       "    .dataframe tbody tr th:only-of-type {\n",
       "        vertical-align: middle;\n",
       "    }\n",
       "\n",
       "    .dataframe tbody tr th {\n",
       "        vertical-align: top;\n",
       "    }\n",
       "\n",
       "    .dataframe thead th {\n",
       "        text-align: right;\n",
       "    }\n",
       "</style>\n",
       "<table border=\"1\" class=\"dataframe\">\n",
       "  <thead>\n",
       "    <tr style=\"text-align: right;\">\n",
       "      <th></th>\n",
       "      <th>StarRating</th>\n",
       "      <th>datePublished</th>\n",
       "      <th>description</th>\n",
       "    </tr>\n",
       "  </thead>\n",
       "  <tbody>\n",
       "    <tr>\n",
       "      <th>1</th>\n",
       "      <td>1</td>\n",
       "      <td>2019-01-15</td>\n",
       "      <td>After conforming several times that coverage w...</td>\n",
       "    </tr>\n",
       "    <tr>\n",
       "      <th>3</th>\n",
       "      <td>1</td>\n",
       "      <td>2019-01-04</td>\n",
       "      <td>The price is unreasonable. I just have a docto...</td>\n",
       "    </tr>\n",
       "    <tr>\n",
       "      <th>16</th>\n",
       "      <td>1</td>\n",
       "      <td>2017-10-18</td>\n",
       "      <td>In May 2016, my parents visited my brother and...</td>\n",
       "    </tr>\n",
       "    <tr>\n",
       "      <th>10</th>\n",
       "      <td>1</td>\n",
       "      <td>2018-07-09</td>\n",
       "      <td>Illegally balance billing Medicaid patients. I...</td>\n",
       "    </tr>\n",
       "    <tr>\n",
       "      <th>15</th>\n",
       "      <td>1</td>\n",
       "      <td>2018-02-01</td>\n",
       "      <td>Had a horrible time with Kidney Transplant Pro...</td>\n",
       "    </tr>\n",
       "    <tr>\n",
       "      <th>14</th>\n",
       "      <td>1</td>\n",
       "      <td>2018-09-13</td>\n",
       "      <td>Went to the dermatology department with a bad ...</td>\n",
       "    </tr>\n",
       "    <tr>\n",
       "      <th>5</th>\n",
       "      <td>2</td>\n",
       "      <td>2018-09-17</td>\n",
       "      <td>Just an update: my Yelp review got the attenti...</td>\n",
       "    </tr>\n",
       "    <tr>\n",
       "      <th>2</th>\n",
       "      <td>4</td>\n",
       "      <td>2018-11-05</td>\n",
       "      <td>Excellent health care and health focused train...</td>\n",
       "    </tr>\n",
       "    <tr>\n",
       "      <th>4</th>\n",
       "      <td>4</td>\n",
       "      <td>2018-06-20</td>\n",
       "      <td>I have been living with Multiple Sclerosis for...</td>\n",
       "    </tr>\n",
       "    <tr>\n",
       "      <th>7</th>\n",
       "      <td>4</td>\n",
       "      <td>2018-07-07</td>\n",
       "      <td>The nurses and doctors here are great, .. the ...</td>\n",
       "    </tr>\n",
       "    <tr>\n",
       "      <th>18</th>\n",
       "      <td>4</td>\n",
       "      <td>2017-12-25</td>\n",
       "      <td>We have had an excellent experience with the O...</td>\n",
       "    </tr>\n",
       "    <tr>\n",
       "      <th>11</th>\n",
       "      <td>4</td>\n",
       "      <td>2018-01-08</td>\n",
       "      <td>I'm going to bump Rush down to 4 stars based o...</td>\n",
       "    </tr>\n",
       "    <tr>\n",
       "      <th>12</th>\n",
       "      <td>4</td>\n",
       "      <td>2017-10-19</td>\n",
       "      <td>Been to this hospital so many times for so man...</td>\n",
       "    </tr>\n",
       "    <tr>\n",
       "      <th>0</th>\n",
       "      <td>5</td>\n",
       "      <td>2018-08-21</td>\n",
       "      <td>I came here for back surgery and kept overnigh...</td>\n",
       "    </tr>\n",
       "    <tr>\n",
       "      <th>17</th>\n",
       "      <td>5</td>\n",
       "      <td>2018-02-24</td>\n",
       "      <td>The doctors were so great and took full precau...</td>\n",
       "    </tr>\n",
       "    <tr>\n",
       "      <th>9</th>\n",
       "      <td>5</td>\n",
       "      <td>2018-09-11</td>\n",
       "      <td>Dr Stenson and Debbie are amazing people and t...</td>\n",
       "    </tr>\n",
       "    <tr>\n",
       "      <th>8</th>\n",
       "      <td>5</td>\n",
       "      <td>2018-02-25</td>\n",
       "      <td>I am from New York and I have worked in the me...</td>\n",
       "    </tr>\n",
       "    <tr>\n",
       "      <th>6</th>\n",
       "      <td>5</td>\n",
       "      <td>2018-09-30</td>\n",
       "      <td>We live in Northwest Indiana. I am extremely g...</td>\n",
       "    </tr>\n",
       "    <tr>\n",
       "      <th>13</th>\n",
       "      <td>5</td>\n",
       "      <td>2018-07-13</td>\n",
       "      <td>I was released from Rush yesterday after havin...</td>\n",
       "    </tr>\n",
       "    <tr>\n",
       "      <th>19</th>\n",
       "      <td>5</td>\n",
       "      <td>2017-10-18</td>\n",
       "      <td>I most prefer this location than the Oak Park ...</td>\n",
       "    </tr>\n",
       "  </tbody>\n",
       "</table>\n",
       "</div>"
      ],
      "text/plain": [
       "    StarRating datePublished  \\\n",
       "1            1    2019-01-15   \n",
       "3            1    2019-01-04   \n",
       "16           1    2017-10-18   \n",
       "10           1    2018-07-09   \n",
       "15           1    2018-02-01   \n",
       "14           1    2018-09-13   \n",
       "5            2    2018-09-17   \n",
       "2            4    2018-11-05   \n",
       "4            4    2018-06-20   \n",
       "7            4    2018-07-07   \n",
       "18           4    2017-12-25   \n",
       "11           4    2018-01-08   \n",
       "12           4    2017-10-19   \n",
       "0            5    2018-08-21   \n",
       "17           5    2018-02-24   \n",
       "9            5    2018-09-11   \n",
       "8            5    2018-02-25   \n",
       "6            5    2018-09-30   \n",
       "13           5    2018-07-13   \n",
       "19           5    2017-10-18   \n",
       "\n",
       "                                          description  \n",
       "1   After conforming several times that coverage w...  \n",
       "3   The price is unreasonable. I just have a docto...  \n",
       "16  In May 2016, my parents visited my brother and...  \n",
       "10  Illegally balance billing Medicaid patients. I...  \n",
       "15  Had a horrible time with Kidney Transplant Pro...  \n",
       "14  Went to the dermatology department with a bad ...  \n",
       "5   Just an update: my Yelp review got the attenti...  \n",
       "2   Excellent health care and health focused train...  \n",
       "4   I have been living with Multiple Sclerosis for...  \n",
       "7   The nurses and doctors here are great, .. the ...  \n",
       "18  We have had an excellent experience with the O...  \n",
       "11  I'm going to bump Rush down to 4 stars based o...  \n",
       "12  Been to this hospital so many times for so man...  \n",
       "0   I came here for back surgery and kept overnigh...  \n",
       "17  The doctors were so great and took full precau...  \n",
       "9   Dr Stenson and Debbie are amazing people and t...  \n",
       "8   I am from New York and I have worked in the me...  \n",
       "6   We live in Northwest Indiana. I am extremely g...  \n",
       "13  I was released from Rush yesterday after havin...  \n",
       "19  I most prefer this location than the Oak Park ...  "
      ]
     },
     "execution_count": 7,
     "metadata": {},
     "output_type": "execute_result"
    }
   ],
   "source": [
    "pd.options.display.max_rows=999\n",
    "df=pd.DataFrame(data4)\n",
    "df.sort_values(by='StarRating', inplace=True)\n",
    "df"
   ]
  },
  {
   "cell_type": "code",
   "execution_count": 8,
   "metadata": {
    "collapsed": true
   },
   "outputs": [],
   "source": [
    "writer = pd.ExcelWriter('H:\\\\Hospital Yelp Review.xlsx')\n",
    "df.to_excel(writer,'Yelp Review')\n",
    "writer.save()"
   ]
  },
  {
   "cell_type": "code",
   "execution_count": null,
   "metadata": {
    "collapsed": true
   },
   "outputs": [],
   "source": []
  }
 ],
 "metadata": {
  "kernelspec": {
   "display_name": "Python 3",
   "language": "python",
   "name": "python3"
  },
  "language_info": {
   "codemirror_mode": {
    "name": "ipython",
    "version": 3
   },
   "file_extension": ".py",
   "mimetype": "text/x-python",
   "name": "python",
   "nbconvert_exporter": "python",
   "pygments_lexer": "ipython3",
   "version": "3.6.3"
  }
 },
 "nbformat": 4,
 "nbformat_minor": 2
}
