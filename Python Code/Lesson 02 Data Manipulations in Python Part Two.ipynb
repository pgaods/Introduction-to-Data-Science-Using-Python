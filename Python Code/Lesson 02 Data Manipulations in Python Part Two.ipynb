{
 "cells": [
  {
   "cell_type": "markdown",
   "metadata": {},
   "source": [
    "In this lecture, we study how to convert other types of objects into elements of pandas' DataFrame objects. The main focus of our will be on lists, tuples, dictionaries and array-objects. This is often used when it comes to ETL process in business operational settings. \n",
    "\n",
    "We first look at how we can convert a list into a 'Series' object and a DataFrame object. Remember that a 'Series' object can have axis labels (instead of just an axis location). We start from lists because the 'DataFrame' object has the closest affinity to lists when it comes to conversion. "
   ]
  },
  {
   "cell_type": "code",
   "execution_count": 1,
   "metadata": {
    "collapsed": true
   },
   "outputs": [],
   "source": [
    "import numpy as np\n",
    "import pandas as pd"
   ]
  },
  {
   "cell_type": "markdown",
   "metadata": {},
   "source": [
    "First, we use a single list to convert to a 'Series' object and a column of a DataFrame object. "
   ]
  },
  {
   "cell_type": "code",
   "execution_count": 2,
   "metadata": {},
   "outputs": [
    {
     "name": "stdout",
     "output_type": "stream",
     "text": [
      "0    13.0\n",
      "1    53.0\n",
      "2    42.9\n",
      "3    43.8\n",
      "4     0.0\n",
      "dtype: float64 <class 'pandas.core.series.Series'>\n"
     ]
    },
    {
     "data": {
      "text/html": [
       "<div>\n",
       "<style>\n",
       "    .dataframe thead tr:only-child th {\n",
       "        text-align: right;\n",
       "    }\n",
       "\n",
       "    .dataframe thead th {\n",
       "        text-align: left;\n",
       "    }\n",
       "\n",
       "    .dataframe tbody tr th {\n",
       "        vertical-align: top;\n",
       "    }\n",
       "</style>\n",
       "<table border=\"1\" class=\"dataframe\">\n",
       "  <thead>\n",
       "    <tr style=\"text-align: right;\">\n",
       "      <th></th>\n",
       "      <th>list1</th>\n",
       "    </tr>\n",
       "  </thead>\n",
       "  <tbody>\n",
       "    <tr>\n",
       "      <th>0</th>\n",
       "      <td>13.0</td>\n",
       "    </tr>\n",
       "    <tr>\n",
       "      <th>1</th>\n",
       "      <td>53.0</td>\n",
       "    </tr>\n",
       "    <tr>\n",
       "      <th>2</th>\n",
       "      <td>42.9</td>\n",
       "    </tr>\n",
       "    <tr>\n",
       "      <th>3</th>\n",
       "      <td>43.8</td>\n",
       "    </tr>\n",
       "    <tr>\n",
       "      <th>4</th>\n",
       "      <td>0.0</td>\n",
       "    </tr>\n",
       "  </tbody>\n",
       "</table>\n",
       "</div>"
      ],
      "text/plain": [
       "   list1\n",
       "0   13.0\n",
       "1   53.0\n",
       "2   42.9\n",
       "3   43.8\n",
       "4    0.0"
      ]
     },
     "execution_count": 2,
     "metadata": {},
     "output_type": "execute_result"
    }
   ],
   "source": [
    "list1=[13,53,42.9,43.8,0]\n",
    "series1=pd.Series(data=list1)\n",
    "print(series1, type(series1))\n",
    "df=pd.DataFrame(series1, columns=['list1'])\n",
    "df"
   ]
  },
  {
   "cell_type": "markdown",
   "metadata": {},
   "source": [
    "If we have additional lists, we can do the same thing:"
   ]
  },
  {
   "cell_type": "code",
   "execution_count": 3,
   "metadata": {},
   "outputs": [
    {
     "data": {
      "text/html": [
       "<div>\n",
       "<style>\n",
       "    .dataframe thead tr:only-child th {\n",
       "        text-align: right;\n",
       "    }\n",
       "\n",
       "    .dataframe thead th {\n",
       "        text-align: left;\n",
       "    }\n",
       "\n",
       "    .dataframe tbody tr th {\n",
       "        vertical-align: top;\n",
       "    }\n",
       "</style>\n",
       "<table border=\"1\" class=\"dataframe\">\n",
       "  <thead>\n",
       "    <tr style=\"text-align: right;\">\n",
       "      <th></th>\n",
       "      <th>l1</th>\n",
       "      <th>l2</th>\n",
       "    </tr>\n",
       "  </thead>\n",
       "  <tbody>\n",
       "    <tr>\n",
       "      <th>0</th>\n",
       "      <td>13.0</td>\n",
       "      <td>12.0</td>\n",
       "    </tr>\n",
       "    <tr>\n",
       "      <th>1</th>\n",
       "      <td>53.0</td>\n",
       "      <td>543.0</td>\n",
       "    </tr>\n",
       "    <tr>\n",
       "      <th>2</th>\n",
       "      <td>42.9</td>\n",
       "      <td>5.0</td>\n",
       "    </tr>\n",
       "    <tr>\n",
       "      <th>3</th>\n",
       "      <td>43.8</td>\n",
       "      <td>0.0</td>\n",
       "    </tr>\n",
       "    <tr>\n",
       "      <th>4</th>\n",
       "      <td>0.0</td>\n",
       "      <td>0.4</td>\n",
       "    </tr>\n",
       "  </tbody>\n",
       "</table>\n",
       "</div>"
      ],
      "text/plain": [
       "     l1     l2\n",
       "0  13.0   12.0\n",
       "1  53.0  543.0\n",
       "2  42.9    5.0\n",
       "3  43.8    0.0\n",
       "4   0.0    0.4"
      ]
     },
     "execution_count": 3,
     "metadata": {},
     "output_type": "execute_result"
    }
   ],
   "source": [
    "list2=[12,543,5,0,0.4]\n",
    "data=list(zip(list1, list2))\n",
    "df=pd.DataFrame(data, columns=['l1', 'l2'])\n",
    "df"
   ]
  },
  {
   "cell_type": "markdown",
   "metadata": {},
   "source": [
    "Alternatively, one can do these two methods below as well:"
   ]
  },
  {
   "cell_type": "code",
   "execution_count": 4,
   "metadata": {},
   "outputs": [
    {
     "name": "stdout",
     "output_type": "stream",
     "text": [
      "df:\n",
      "      l1     l2\n",
      "0  13.0   12.0\n",
      "1  53.0  543.0\n",
      "2  42.9    5.0\n",
      "3  43.8    0.0\n",
      "4   0.0    0.4\n",
      "df:\n",
      "      l1     l2\n",
      "0  13.0   12.0\n",
      "1  53.0  543.0\n",
      "2  42.9    5.0\n",
      "3  43.8    0.0\n",
      "4   0.0    0.4\n"
     ]
    }
   ],
   "source": [
    "df_a = pd.DataFrame() #creates a new dataframe that's empty\n",
    "df_a['l1']=list1\n",
    "df_a['l2']=list2\n",
    "print('df:\\n', df_a)\n",
    "\n",
    "series2=pd.Series(data=list2)\n",
    "df_b=pd.concat([series1,series2],axis=1)\n",
    "df_b.columns=['l1','l2']\n",
    "print('df:\\n', df_b)"
   ]
  },
  {
   "cell_type": "markdown",
   "metadata": {},
   "source": [
    "Now let's make the problem a bit harder. Suppose we have a list that contains lists. We want to make a dataset out of it. Notice that there are 2 ways of doing this: either the values in the list are shown as rows, or the values of lists become columns in DataFrame. We show both ways below:"
   ]
  },
  {
   "cell_type": "code",
   "execution_count": 5,
   "metadata": {},
   "outputs": [
    {
     "data": {
      "text/html": [
       "<div>\n",
       "<style>\n",
       "    .dataframe thead tr:only-child th {\n",
       "        text-align: right;\n",
       "    }\n",
       "\n",
       "    .dataframe thead th {\n",
       "        text-align: left;\n",
       "    }\n",
       "\n",
       "    .dataframe tbody tr th {\n",
       "        vertical-align: top;\n",
       "    }\n",
       "</style>\n",
       "<table border=\"1\" class=\"dataframe\">\n",
       "  <thead>\n",
       "    <tr style=\"text-align: right;\">\n",
       "      <th></th>\n",
       "      <th>Col1</th>\n",
       "      <th>Col2</th>\n",
       "      <th>Col3</th>\n",
       "      <th>Col4</th>\n",
       "      <th>Col5</th>\n",
       "    </tr>\n",
       "  </thead>\n",
       "  <tbody>\n",
       "    <tr>\n",
       "      <th>0</th>\n",
       "      <td>a</td>\n",
       "      <td>b</td>\n",
       "      <td>c</td>\n",
       "      <td>d</td>\n",
       "      <td>e</td>\n",
       "    </tr>\n",
       "    <tr>\n",
       "      <th>1</th>\n",
       "      <td>1</td>\n",
       "      <td>2</td>\n",
       "      <td>3</td>\n",
       "      <td>4</td>\n",
       "      <td>5</td>\n",
       "    </tr>\n",
       "    <tr>\n",
       "      <th>2</th>\n",
       "      <td>0.4</td>\n",
       "      <td>23</td>\n",
       "      <td>5</td>\n",
       "      <td>67</td>\n",
       "      <td>76.9034</td>\n",
       "    </tr>\n",
       "  </tbody>\n",
       "</table>\n",
       "</div>"
      ],
      "text/plain": [
       "  Col1 Col2 Col3 Col4     Col5\n",
       "0    a    b    c    d        e\n",
       "1    1    2    3    4        5\n",
       "2  0.4   23    5   67  76.9034"
      ]
     },
     "execution_count": 5,
     "metadata": {},
     "output_type": "execute_result"
    }
   ],
   "source": [
    "list3=[['a','b','c','d','e'], [1,2,3,4,5], [0.4,23,5,67,76.9034]]\n",
    "df1=pd.DataFrame(list3, columns=['Col1', 'Col2', 'Col3', 'Col4', 'Col5'])\n",
    "df1"
   ]
  },
  {
   "cell_type": "code",
   "execution_count": 6,
   "metadata": {},
   "outputs": [
    {
     "data": {
      "text/html": [
       "<div>\n",
       "<style>\n",
       "    .dataframe thead tr:only-child th {\n",
       "        text-align: right;\n",
       "    }\n",
       "\n",
       "    .dataframe thead th {\n",
       "        text-align: left;\n",
       "    }\n",
       "\n",
       "    .dataframe tbody tr th {\n",
       "        vertical-align: top;\n",
       "    }\n",
       "</style>\n",
       "<table border=\"1\" class=\"dataframe\">\n",
       "  <thead>\n",
       "    <tr style=\"text-align: right;\">\n",
       "      <th></th>\n",
       "      <th>C1</th>\n",
       "      <th>C2</th>\n",
       "      <th>C3</th>\n",
       "    </tr>\n",
       "  </thead>\n",
       "  <tbody>\n",
       "    <tr>\n",
       "      <th>0</th>\n",
       "      <td>a</td>\n",
       "      <td>1</td>\n",
       "      <td>0.4</td>\n",
       "    </tr>\n",
       "    <tr>\n",
       "      <th>1</th>\n",
       "      <td>b</td>\n",
       "      <td>2</td>\n",
       "      <td>23</td>\n",
       "    </tr>\n",
       "    <tr>\n",
       "      <th>2</th>\n",
       "      <td>c</td>\n",
       "      <td>3</td>\n",
       "      <td>5</td>\n",
       "    </tr>\n",
       "    <tr>\n",
       "      <th>3</th>\n",
       "      <td>d</td>\n",
       "      <td>4</td>\n",
       "      <td>67</td>\n",
       "    </tr>\n",
       "    <tr>\n",
       "      <th>4</th>\n",
       "      <td>e</td>\n",
       "      <td>5</td>\n",
       "      <td>76.9034</td>\n",
       "    </tr>\n",
       "  </tbody>\n",
       "</table>\n",
       "</div>"
      ],
      "text/plain": [
       "  C1 C2       C3\n",
       "0  a  1      0.4\n",
       "1  b  2       23\n",
       "2  c  3        5\n",
       "3  d  4       67\n",
       "4  e  5  76.9034"
      ]
     },
     "execution_count": 6,
     "metadata": {},
     "output_type": "execute_result"
    }
   ],
   "source": [
    "df2=pd.DataFrame(list3).transpose()\n",
    "df2.columns=['C1', 'C2', 'C3']\n",
    "df2"
   ]
  },
  {
   "cell_type": "markdown",
   "metadata": {},
   "source": [
    "To convert a column in a 'DataFrame' back to lists, simply use the tolist() method:"
   ]
  },
  {
   "cell_type": "code",
   "execution_count": 7,
   "metadata": {},
   "outputs": [
    {
     "data": {
      "text/plain": [
       "['a', 'b', 'c', 'd', 'e']"
      ]
     },
     "execution_count": 7,
     "metadata": {},
     "output_type": "execute_result"
    }
   ],
   "source": [
    "df2['C1'].tolist()"
   ]
  },
  {
   "cell_type": "markdown",
   "metadata": {},
   "source": [
    "Now let's talk about tuples conversion. The way we build datasets out of tuples is very similar to the cases when we build out of lists."
   ]
  },
  {
   "cell_type": "code",
   "execution_count": 8,
   "metadata": {},
   "outputs": [
    {
     "name": "stdout",
     "output_type": "stream",
     "text": [
      "    COL1 COL2\n",
      "0  1.500    a\n",
      "1  2.336    b\n",
      "2  4.600    c\n",
      "3  9.054    d\n",
      "4  7.342    e\n"
     ]
    },
    {
     "data": {
      "text/html": [
       "<div>\n",
       "<style>\n",
       "    .dataframe thead tr:only-child th {\n",
       "        text-align: right;\n",
       "    }\n",
       "\n",
       "    .dataframe thead th {\n",
       "        text-align: left;\n",
       "    }\n",
       "\n",
       "    .dataframe tbody tr th {\n",
       "        vertical-align: top;\n",
       "    }\n",
       "</style>\n",
       "<table border=\"1\" class=\"dataframe\">\n",
       "  <thead>\n",
       "    <tr style=\"text-align: right;\">\n",
       "      <th></th>\n",
       "      <th>tup1</th>\n",
       "      <th>tup2</th>\n",
       "    </tr>\n",
       "  </thead>\n",
       "  <tbody>\n",
       "    <tr>\n",
       "      <th>0</th>\n",
       "      <td>1.5</td>\n",
       "      <td>a</td>\n",
       "    </tr>\n",
       "    <tr>\n",
       "      <th>1</th>\n",
       "      <td>2.336</td>\n",
       "      <td>b</td>\n",
       "    </tr>\n",
       "    <tr>\n",
       "      <th>2</th>\n",
       "      <td>4.6</td>\n",
       "      <td>c</td>\n",
       "    </tr>\n",
       "    <tr>\n",
       "      <th>3</th>\n",
       "      <td>9.054</td>\n",
       "      <td>d</td>\n",
       "    </tr>\n",
       "    <tr>\n",
       "      <th>4</th>\n",
       "      <td>7.342</td>\n",
       "      <td>e</td>\n",
       "    </tr>\n",
       "  </tbody>\n",
       "</table>\n",
       "</div>"
      ],
      "text/plain": [
       "    tup1 tup2\n",
       "0    1.5    a\n",
       "1  2.336    b\n",
       "2    4.6    c\n",
       "3  9.054    d\n",
       "4  7.342    e"
      ]
     },
     "execution_count": 8,
     "metadata": {},
     "output_type": "execute_result"
    }
   ],
   "source": [
    "tup1=(1.5,2.336,4.6,9.054,7.342)\n",
    "tup2=('a','b','c','d','e')\n",
    "Series1=pd.Series(data=tup1) # the pd.Series() method can take on tuples as arguments as well\n",
    "Series2=pd.Series(data=tup2)\n",
    "df=pd.concat([Series1,Series2], axis=1)\n",
    "df.columns=['COL1','COL2']\n",
    "print(df)\n",
    "\n",
    "data=[tup1,tup2]\n",
    "df=pd.DataFrame(data).transpose()\n",
    "df.columns=['tup1', 'tup2']\n",
    "df"
   ]
  },
  {
   "cell_type": "markdown",
   "metadata": {},
   "source": [
    "Now let's work with dictionaries. Dictionaries are more complicated. Depending on what the dictionary looks like what the final target dataset should look like, Python has varieties of ways of handling them. One simple way is to convert dictionaries into lists and apply what we have learned so far. For example:"
   ]
  },
  {
   "cell_type": "code",
   "execution_count": 9,
   "metadata": {},
   "outputs": [
    {
     "name": "stdout",
     "output_type": "stream",
     "text": [
      "The dictionary d1 looks like this:  {'k1': 3, 'k2': 34.3, 'k3': 54.92}\n",
      "['k1', 'k2', 'k3']\n",
      "[3, 34.3, 54.92]\n",
      "[('k1', 3), ('k2', 34.3), ('k3', 54.92)]\n",
      "df3:\n",
      "   var1   var2\n",
      "0   k1   3.00\n",
      "1   k2  34.30\n",
      "2   k3  54.92\n",
      "df4:\n",
      "   pair1 pair2  pair3\n",
      "0    k1    k2     k3\n",
      "1     3  34.3  54.92\n"
     ]
    }
   ],
   "source": [
    "d1={'k1':3,'k2':34.3,'k3':54.92}\n",
    "print('The dictionary d1 looks like this: ', d1)\n",
    "list_keys=[j for j in d1.keys()]\n",
    "print(list_keys)\n",
    "list_values=[i for i in d1.values()]\n",
    "print(list_values)\n",
    "list_items=[r for r in d1.items()]\n",
    "print(list_items)\n",
    "\n",
    "df3=pd.DataFrame(list_items, columns=['var1', 'var2'])\n",
    "print('df3:\\n',df3)\n",
    "df4=pd.DataFrame(list_items).transpose()\n",
    "df4.columns=['pair1','pair2','pair3']\n",
    "print('df4:\\n',df4)"
   ]
  },
  {
   "cell_type": "markdown",
   "metadata": {},
   "source": [
    "Most of the time we have scenarios like this: we have a dictionary and we want to use the key as the column name and the values as data. Here is how we can achieve it:"
   ]
  },
  {
   "cell_type": "code",
   "execution_count": 10,
   "metadata": {},
   "outputs": [
    {
     "name": "stdout",
     "output_type": "stream",
     "text": [
      "{'k1': [13, 53, 42.9, 43.8, 0], 'k2': [12, 543, 5, 0, 0.4]}\n",
      "     k1     k2\n",
      "0  13.0   12.0\n",
      "1  53.0  543.0\n",
      "2  42.9    5.0\n",
      "3  43.8    0.0\n",
      "4   0.0    0.4\n"
     ]
    }
   ],
   "source": [
    "d2={'k1': list1, 'k2': list2}\n",
    "print(d2)\n",
    "df5=pd.DataFrame(d2)\n",
    "print(df5)"
   ]
  },
  {
   "cell_type": "markdown",
   "metadata": {},
   "source": [
    "If we want to convert a given 'DataFrame' back to a dicationary form, wen can do the following:"
   ]
  },
  {
   "cell_type": "code",
   "execution_count": 11,
   "metadata": {},
   "outputs": [
    {
     "name": "stdout",
     "output_type": "stream",
     "text": [
      "{'k1': {0: 13.0, 1: 53.0, 2: 42.9, 3: 43.8, 4: 0.0}, 'k2': {0: 12.0, 1: 543.0, 2: 5.0, 3: 0.0, 4: 0.4}}\n"
     ]
    }
   ],
   "source": [
    "dic_from_df5=df5.to_dict()\n",
    "print(dic_from_df5)"
   ]
  },
  {
   "cell_type": "markdown",
   "metadata": {},
   "source": [
    "When we have multiple dictioaries to be converted to a 'DataFrame' object, here is what we can do (assuming the dimensionality matches eventually for the final 'DataFrame' object):"
   ]
  },
  {
   "cell_type": "code",
   "execution_count": 12,
   "metadata": {},
   "outputs": [
    {
     "data": {
      "text/html": [
       "<div>\n",
       "<style>\n",
       "    .dataframe thead tr:only-child th {\n",
       "        text-align: right;\n",
       "    }\n",
       "\n",
       "    .dataframe thead th {\n",
       "        text-align: left;\n",
       "    }\n",
       "\n",
       "    .dataframe tbody tr th {\n",
       "        vertical-align: top;\n",
       "    }\n",
       "</style>\n",
       "<table border=\"1\" class=\"dataframe\">\n",
       "  <thead>\n",
       "    <tr style=\"text-align: right;\">\n",
       "      <th></th>\n",
       "      <th>k1</th>\n",
       "      <th>k2</th>\n",
       "    </tr>\n",
       "  </thead>\n",
       "  <tbody>\n",
       "    <tr>\n",
       "      <th>0</th>\n",
       "      <td>2.5</td>\n",
       "      <td>2.000</td>\n",
       "    </tr>\n",
       "    <tr>\n",
       "      <th>1</th>\n",
       "      <td>3.8</td>\n",
       "      <td>6.000</td>\n",
       "    </tr>\n",
       "    <tr>\n",
       "      <th>2</th>\n",
       "      <td>4.0</td>\n",
       "      <td>0.000</td>\n",
       "    </tr>\n",
       "    <tr>\n",
       "      <th>3</th>\n",
       "      <td>7.9</td>\n",
       "      <td>9.400</td>\n",
       "    </tr>\n",
       "    <tr>\n",
       "      <th>4</th>\n",
       "      <td>0.3</td>\n",
       "      <td>2.345</td>\n",
       "    </tr>\n",
       "    <tr>\n",
       "      <th>5</th>\n",
       "      <td>3.5</td>\n",
       "      <td>6.103</td>\n",
       "    </tr>\n",
       "    <tr>\n",
       "      <th>6</th>\n",
       "      <td>4.5</td>\n",
       "      <td>9.863</td>\n",
       "    </tr>\n",
       "  </tbody>\n",
       "</table>\n",
       "</div>"
      ],
      "text/plain": [
       "    k1     k2\n",
       "0  2.5  2.000\n",
       "1  3.8  6.000\n",
       "2  4.0  0.000\n",
       "3  7.9  9.400\n",
       "4  0.3  2.345\n",
       "5  3.5  6.103\n",
       "6  4.5  9.863"
      ]
     },
     "execution_count": 12,
     "metadata": {},
     "output_type": "execute_result"
    }
   ],
   "source": [
    "d1={'k1': [2.5, 3.8, 4, 7.9], 'k2': [2, 6, 0, 9.4]}\n",
    "d2={'k1': [0.3,3.5,4.5], 'k2': [2.345,6.103,9.863]}\n",
    "\n",
    "def merge_dicts(dic1,dic2):\n",
    "    from collections import defaultdict\n",
    "    dd = defaultdict(list)\n",
    "    for d in (dic1, dic2):\n",
    "        for key, value in d.items():\n",
    "            dd[key].extend(value)\n",
    "    data=dict(dd) # turning the defaultdict back to a dictionary object\n",
    "    return data\n",
    "combined_d=merge_dicts(d1,d2)\n",
    "\n",
    "df6=pd.DataFrame(combined_d)\n",
    "df6"
   ]
  },
  {
   "cell_type": "markdown",
   "metadata": {},
   "source": [
    "Here is the wrong way:"
   ]
  },
  {
   "cell_type": "code",
   "execution_count": 13,
   "metadata": {},
   "outputs": [
    {
     "data": {
      "text/html": [
       "<div>\n",
       "<style>\n",
       "    .dataframe thead tr:only-child th {\n",
       "        text-align: right;\n",
       "    }\n",
       "\n",
       "    .dataframe thead th {\n",
       "        text-align: left;\n",
       "    }\n",
       "\n",
       "    .dataframe tbody tr th {\n",
       "        vertical-align: top;\n",
       "    }\n",
       "</style>\n",
       "<table border=\"1\" class=\"dataframe\">\n",
       "  <thead>\n",
       "    <tr style=\"text-align: right;\">\n",
       "      <th></th>\n",
       "      <th>k1</th>\n",
       "      <th>k2</th>\n",
       "    </tr>\n",
       "  </thead>\n",
       "  <tbody>\n",
       "    <tr>\n",
       "      <th>0</th>\n",
       "      <td>[2.5, 3.8, 4, 7.9]</td>\n",
       "      <td>[2, 6, 0, 9.4]</td>\n",
       "    </tr>\n",
       "    <tr>\n",
       "      <th>1</th>\n",
       "      <td>[0.3, 3.5, 4.5]</td>\n",
       "      <td>[2.345, 6.103, 9.863]</td>\n",
       "    </tr>\n",
       "  </tbody>\n",
       "</table>\n",
       "</div>"
      ],
      "text/plain": [
       "                   k1                     k2\n",
       "0  [2.5, 3.8, 4, 7.9]         [2, 6, 0, 9.4]\n",
       "1     [0.3, 3.5, 4.5]  [2.345, 6.103, 9.863]"
      ]
     },
     "execution_count": 13,
     "metadata": {},
     "output_type": "execute_result"
    }
   ],
   "source": [
    "d1={'k1': [2.5, 3.8, 4, 7.9], 'k2': [2, 6, 0, 9.4]}\n",
    "d2={'k1': [0.3,3.5,4.5], 'k2': [2.345,6.103,9.863]}\n",
    "df6=pd.DataFrame([d1,d2])\n",
    "df6"
   ]
  },
  {
   "cell_type": "markdown",
   "metadata": {
    "collapsed": true
   },
   "source": [
    "Lastly, we talk about the interchangeability between numpy 'ndarrays' and pandas' 'DataFrame' objects. First, we transform an array to a 'DataFrame' and then we do the other way from 'DataFrame' to an array:"
   ]
  },
  {
   "cell_type": "code",
   "execution_count": 14,
   "metadata": {},
   "outputs": [
    {
     "name": "stdout",
     "output_type": "stream",
     "text": [
      "[[1.  2.  3. ]\n",
      " [3.5 4.7 0.9]] \n",
      "\n",
      "   col1  col2  col3\n",
      "0   1.0   2.0   3.0\n",
      "1   3.5   4.7   0.9 \n",
      "\n",
      "Back to array: \n",
      " [[1.  2.  3. ]\n",
      " [3.5 4.7 0.9]]\n"
     ]
    }
   ],
   "source": [
    "array=np.array([[1,2,3],[3.5,4.7,0.9]], float)\n",
    "df7=pd.DataFrame(data=array, columns=['col1', 'col2', 'col3'])\n",
    "print(array, '\\n')\n",
    "print(df7, '\\n')\n",
    "\n",
    "back_to_array=df7.values\n",
    "print('Back to array: \\n', back_to_array)"
   ]
  },
  {
   "cell_type": "code",
   "execution_count": null,
   "metadata": {
    "collapsed": true
   },
   "outputs": [],
   "source": []
  }
 ],
 "metadata": {
  "kernelspec": {
   "display_name": "Python 3",
   "language": "python",
   "name": "python3"
  },
  "language_info": {
   "codemirror_mode": {
    "name": "ipython",
    "version": 3
   },
   "file_extension": ".py",
   "mimetype": "text/x-python",
   "name": "python",
   "nbconvert_exporter": "python",
   "pygments_lexer": "ipython3",
   "version": "3.6.3"
  }
 },
 "nbformat": 4,
 "nbformat_minor": 2
}
