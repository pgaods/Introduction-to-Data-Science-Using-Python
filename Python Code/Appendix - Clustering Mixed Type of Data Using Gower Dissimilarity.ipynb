{
 "cells": [
  {
   "cell_type": "code",
   "execution_count": 2,
   "metadata": {},
   "outputs": [
    {
     "name": "stdout",
     "output_type": "stream",
     "text": [
      "Requirement already satisfied: gower in c:\\users\\gao\\.conda\\envs\\gao_uat\\lib\\site-packages (0.0.5)\n",
      "Collecting b\n",
      "  Downloading b-1.0.0.zip (770 bytes)\n",
      "  Preparing metadata (setup.py): started\n",
      "  Preparing metadata (setup.py): finished with status 'done'\n",
      "Requirement already satisfied: scipy in c:\\users\\gao\\.conda\\envs\\gao_uat\\lib\\site-packages (from gower) (1.6.2)\n",
      "Requirement already satisfied: numpy in c:\\users\\gao\\.conda\\envs\\gao_uat\\lib\\site-packages (from gower) (1.21.4)\n",
      "Building wheels for collected packages: b\n",
      "  Building wheel for b (setup.py): started\n",
      "  Building wheel for b (setup.py): finished with status 'done'\n",
      "  Created wheel for b: filename=b-1.0.0-py3-none-any.whl size=1212 sha256=841b79461828140a91672a9dc8e8942692ea87c1ff7cbc20da890df0fcbea906\n",
      "  Stored in directory: c:\\users\\gao\\appdata\\local\\pip\\cache\\wheels\\f1\\d6\\78\\735baef0efc84019e856ffee0d92c8d2646833e263ed6c0777\n",
      "Successfully built b\n",
      "Installing collected packages: b\n",
      "Successfully installed b-1.0.0\n"
     ]
    },
    {
     "name": "stderr",
     "output_type": "stream",
     "text": [
      "WARNING: Ignoring invalid distribution -mart-open (c:\\users\\gao\\.conda\\envs\\gao_uat\\lib\\site-packages)\n",
      "WARNING: Ignoring invalid distribution -mart-open (c:\\users\\gao\\.conda\\envs\\gao_uat\\lib\\site-packages)\n",
      "WARNING: Ignoring invalid distribution -mart-open (c:\\users\\gao\\.conda\\envs\\gao_uat\\lib\\site-packages)\n",
      "WARNING: Ignoring invalid distribution -mart-open (c:\\users\\gao\\.conda\\envs\\gao_uat\\lib\\site-packages)\n",
      "WARNING: Ignoring invalid distribution -mart-open (c:\\users\\gao\\.conda\\envs\\gao_uat\\lib\\site-packages)\n",
      "WARNING: Ignoring invalid distribution -mart-open (c:\\users\\gao\\.conda\\envs\\gao_uat\\lib\\site-packages)\n",
      "WARNING: Ignoring invalid distribution -mart-open (c:\\users\\gao\\.conda\\envs\\gao_uat\\lib\\site-packages)\n",
      "WARNING: You are using pip version 21.3.1; however, version 22.0.4 is available.\n",
      "You should consider upgrading via the 'c:\\users\\gao\\.conda\\envs\\gao_uat\\python.exe -m pip install --upgrade pip' command.\n"
     ]
    }
   ],
   "source": [
    "!pip install gower b"
   ]
  },
  {
   "cell_type": "code",
   "execution_count": 3,
   "metadata": {},
   "outputs": [],
   "source": [
    "import numpy as np\n",
    "import pandas as pd\n",
    "import matplotlib.pyplot as plt\n",
    "import seaborn as sns\n",
    "import os\n",
    "import sklearn\n",
    "\n",
    "import gower"
   ]
  },
  {
   "cell_type": "code",
   "execution_count": 4,
   "metadata": {},
   "outputs": [
    {
     "data": {
      "text/html": [
       "<div>\n",
       "<style scoped>\n",
       "    .dataframe tbody tr th:only-of-type {\n",
       "        vertical-align: middle;\n",
       "    }\n",
       "\n",
       "    .dataframe tbody tr th {\n",
       "        vertical-align: top;\n",
       "    }\n",
       "\n",
       "    .dataframe thead th {\n",
       "        text-align: right;\n",
       "    }\n",
       "</style>\n",
       "<table border=\"1\" class=\"dataframe\">\n",
       "  <thead>\n",
       "    <tr style=\"text-align: right;\">\n",
       "      <th></th>\n",
       "      <th>age</th>\n",
       "      <th>gender</th>\n",
       "      <th>civil_status</th>\n",
       "      <th>salary</th>\n",
       "      <th>has_children</th>\n",
       "      <th>purchaser_type</th>\n",
       "    </tr>\n",
       "  </thead>\n",
       "  <tbody>\n",
       "    <tr>\n",
       "      <th>0</th>\n",
       "      <td>22</td>\n",
       "      <td>M</td>\n",
       "      <td>SINGLE</td>\n",
       "      <td>18000</td>\n",
       "      <td>False</td>\n",
       "      <td>LOW_PURCHASER</td>\n",
       "    </tr>\n",
       "    <tr>\n",
       "      <th>1</th>\n",
       "      <td>25</td>\n",
       "      <td>M</td>\n",
       "      <td>SINGLE</td>\n",
       "      <td>23000</td>\n",
       "      <td>False</td>\n",
       "      <td>LOW_PURCHASER</td>\n",
       "    </tr>\n",
       "    <tr>\n",
       "      <th>2</th>\n",
       "      <td>30</td>\n",
       "      <td>F</td>\n",
       "      <td>SINGLE</td>\n",
       "      <td>27000</td>\n",
       "      <td>False</td>\n",
       "      <td>LOW_PURCHASER</td>\n",
       "    </tr>\n",
       "    <tr>\n",
       "      <th>3</th>\n",
       "      <td>38</td>\n",
       "      <td>F</td>\n",
       "      <td>MARRIED</td>\n",
       "      <td>32000</td>\n",
       "      <td>True</td>\n",
       "      <td>HEAVY_PURCHASER</td>\n",
       "    </tr>\n",
       "    <tr>\n",
       "      <th>4</th>\n",
       "      <td>42</td>\n",
       "      <td>F</td>\n",
       "      <td>MARRIED</td>\n",
       "      <td>34000</td>\n",
       "      <td>True</td>\n",
       "      <td>HEAVY_PURCHASER</td>\n",
       "    </tr>\n",
       "  </tbody>\n",
       "</table>\n",
       "</div>"
      ],
      "text/plain": [
       "   age gender civil_status  salary  has_children   purchaser_type\n",
       "0   22      M       SINGLE   18000         False    LOW_PURCHASER\n",
       "1   25      M       SINGLE   23000         False    LOW_PURCHASER\n",
       "2   30      F       SINGLE   27000         False    LOW_PURCHASER\n",
       "3   38      F      MARRIED   32000          True  HEAVY_PURCHASER\n",
       "4   42      F      MARRIED   34000          True  HEAVY_PURCHASER"
      ]
     },
     "execution_count": 4,
     "metadata": {},
     "output_type": "execute_result"
    }
   ],
   "source": [
    "dictionary = {\"age\": [22, 25, 30, 38, 42, 47, 55, 62, 61, 90, 92], \n",
    "              \"gender\": [\"M\", \"M\", \"F\", \"F\", \"F\", \"M\", \"M\", \"M\", \"M\", \"M\", \"M\"], \n",
    "              \"civil_status\": [\"SINGLE\", \"SINGLE\", \"SINGLE\", \"MARRIED\", \"MARRIED\", \"SINGLE\", \"MARRIED\", \"DIVORCED\", \"MARRIED\", \"DIVORCED\", \"SINGLE\"], \n",
    "              \"salary\": [18000, 23000, 27000, 32000, 34000, 20000, 40000, 42000, 25000, 70000, 80000], \n",
    "              \"has_children\": [False, False, False, True, True, False, False, False, False, True, False], \n",
    "              \"purchaser_type\": [\"LOW_PURCHASER\", \"LOW_PURCHASER\", \"LOW_PURCHASER\", \"HEAVY_PURCHASER\", \"HEAVY_PURCHASER\", \"LOW_PURCHASER\", \"MEDIUM_PURCHASER\", \"MEDIUM_PURCHASER\", \"MEDIUM_PURCHASER\", \"LOW_PURCHASER\", \"LOW_PURCHASER\"]}\n",
    "\n",
    "# Creating a Pandas DataFrame from the dictionary\n",
    "df = pd.DataFrame.from_dict(dictionary)\n",
    "df.head()"
   ]
  },
  {
   "cell_type": "code",
   "execution_count": 5,
   "metadata": {},
   "outputs": [
    {
     "name": "stdout",
     "output_type": "stream",
     "text": [
      "<class 'pandas.core.frame.DataFrame'>\n",
      "RangeIndex: 11 entries, 0 to 10\n",
      "Data columns (total 6 columns):\n",
      " #   Column          Non-Null Count  Dtype \n",
      "---  ------          --------------  ----- \n",
      " 0   age             11 non-null     int64 \n",
      " 1   gender          11 non-null     object\n",
      " 2   civil_status    11 non-null     object\n",
      " 3   salary          11 non-null     int64 \n",
      " 4   has_children    11 non-null     bool  \n",
      " 5   purchaser_type  11 non-null     object\n",
      "dtypes: bool(1), int64(2), object(3)\n",
      "memory usage: 579.0+ bytes\n"
     ]
    }
   ],
   "source": [
    "df.info()"
   ]
  },
  {
   "cell_type": "code",
   "execution_count": 9,
   "metadata": {},
   "outputs": [
    {
     "name": "stdout",
     "output_type": "stream",
     "text": [
      "<class 'numpy.ndarray'>\n"
     ]
    }
   ],
   "source": [
    "distance_matrix = gower.gower_matrix(df)\n",
    "print(type(distance_matrix))"
   ]
  },
  {
   "cell_type": "code",
   "execution_count": 12,
   "metadata": {},
   "outputs": [
    {
     "data": {
      "text/plain": [
       "0    0\n",
       "1    0\n",
       "2    0\n",
       "3    1\n",
       "4    1\n",
       "Name: cluster, dtype: int64"
      ]
     },
     "execution_count": 12,
     "metadata": {},
     "output_type": "execute_result"
    }
   ],
   "source": [
    "from sklearn.cluster import DBSCAN\n",
    "\n",
    "# Configuring the parameters of the clustering algorithm\n",
    "dbscan_cluster = DBSCAN(eps=0.3, \n",
    "                        min_samples=2, \n",
    "                        metric=\"precomputed\")\n",
    "\n",
    "# Fitting the clustering algorithm\n",
    "dbscan_cluster.fit(distance_matrix)\n",
    "\n",
    "# Adding the results to a new column in the dataframe\n",
    "df[\"cluster\"] = dbscan_cluster.labels_\n",
    "df.cluster.head()"
   ]
  },
  {
   "cell_type": "code",
   "execution_count": null,
   "metadata": {},
   "outputs": [],
   "source": [
    "https://miro.medium.com/max/1400/1*Uqu6nhccWwxdD8P77vJeiA.png"
   ]
  },
  {
   "cell_type": "code",
   "execution_count": null,
   "metadata": {},
   "outputs": [],
   "source": []
  },
  {
   "cell_type": "code",
   "execution_count": null,
   "metadata": {},
   "outputs": [],
   "source": []
  }
 ],
 "metadata": {
  "interpreter": {
   "hash": "83242e1a9ec8b643d57fa32edcbc4e662e00a392e679248885719c5ceb6ac4dd"
  },
  "kernelspec": {
   "display_name": "Python 3.7.1 64-bit ('gao_uat': conda)",
   "language": "python",
   "name": "python3"
  },
  "language_info": {
   "codemirror_mode": {
    "name": "ipython",
    "version": 3
   },
   "file_extension": ".py",
   "mimetype": "text/x-python",
   "name": "python",
   "nbconvert_exporter": "python",
   "pygments_lexer": "ipython3",
   "version": "3.7.1"
  },
  "orig_nbformat": 4
 },
 "nbformat": 4,
 "nbformat_minor": 2
}
