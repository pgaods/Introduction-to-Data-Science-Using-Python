{
 "cells": [
  {
   "cell_type": "markdown",
   "metadata": {},
   "source": [
    "In this mini-lecture, we explore the 'pickle' module in Python, which is widely used by data scientists for large scale projects."
   ]
  },
  {
   "cell_type": "code",
   "execution_count": 15,
   "metadata": {},
   "outputs": [],
   "source": [
    "import numpy as np\n",
    "import pandas as pd\n",
    "import pickle\n",
    "import bz2\n",
    "import gzip\n",
    "import os"
   ]
  },
  {
   "cell_type": "markdown",
   "metadata": {},
   "source": [
    "As a data scientist, one may work with different types of data in varieties of forms such as dictionaries, 'DataFrames' objects, lists or any other data types. In many times we want to save them to a file, so we can use them later on or send them to someone. For example, instead of recreating a final dataset that needs to go through a lengthy script, we can simply get the 'pickled' dataset for later use (as if from a jar!). It's useful for ML because when you are wokring with some algorithms, you wan to save them to be able to make new predictions at a later time, without having to rewrite everything or retrain the model all over again. This is the basic idea of 'picklin: it is used for serializing and de-serializing Python object structures, also called **marshalling** or **flattening**. **Serialization** refers to the process of converting an object in memory to a byte stream that can be stored on disk or sent over a network. later on, this character stream can then be retreived and deserialized back to a Python object. **Pickling** is not the same as compression. The former is the conversion of an object from one representation (data in RAM to anther), while the latter is the process of encoding data with few bits, in order to save disk space. \n",
    "\n",
    "Pickling is specific to Python language, so if you want to use data across different programming languages, pickle is not recommended. Also, unpickling a file that was pickeld in a different version of Python may not alawys work propertly. In Python, we can pickle objects of the following data types: booleans, integers, floats, complex numbers, tuples, strings, lists, sets, dictionaries, classes, functions, 'DataFrame' objects etc. However, not everything can be pickled easily, examples of this include generators, inner classes, lambda functions and 'defaultdict' objects. In thes case of lambda functions, you need to use an additional package called 'dill'. With 'defaultdict' objects, you need to create them with a module-level function.\n",
    "\n",
    "Pickle is very similar to JSON, which stands for 'JavaScript Object Notation'. JSON is a lightweight format for data-interchange, that is easily readable by humans. Although it was derived from JavaScript, JSON is standardized and language-independent. This is a serious advantage over pickle. It's also more secure and much faster than pickle. However, if you only need to use Python, then the pickle module is still a good choice for its ease of use and ability to reconstruct complete Python objects. An alternative is 'cPickle'. It is nearly identical to pickle, but written in C, which makes it up to 1000 times faster. For small files, however, you won't notice the difference in speed. Both produce the same data streams, which means that pickle and 'cPickle' can use the same files.\n"
   ]
  },
  {
   "cell_type": "code",
   "execution_count": 7,
   "metadata": {},
   "outputs": [],
   "source": [
    "os.chdir(\"C:\\\\Users\\\\GAO\\\\GAO_Jupyter_Notebook\\\\Datasets\")"
   ]
  },
  {
   "cell_type": "markdown",
   "metadata": {},
   "source": [
    "Let's first pickle a dictionary, called dogs_dict. Call the pickled file 'dogs'. To pickle this dictionary, you first need to specify the name of the file you will write it to, which is dogs in this case. Do not add an extension. \n",
    "\n",
    "To open the file for writing, simply use the open() method. The first argument should be the name of your file. The second argument is 'wb'. The 'w' means that you'll be writing to the file, and 'b' refers to binary mode. This means that the data will be written in the form of byte objects. If you forget the 'b', an errow will show up. You may sometimes come across a slightly different notation, like 'w+b', but it provides the same functionality. \n",
    "\n",
    "Once the file is opened for writing, you can use pickle.dump(), which takes two arguments: the object you want to pickle and the file to which the object has to be saved. In this case, the former will be dogs_dict, while the latter will be outfile."
   ]
  },
  {
   "cell_type": "code",
   "execution_count": 8,
   "metadata": {},
   "outputs": [],
   "source": [
    "dogs_dict = { 'Ozzy': 3, 'Filou': 8, 'Luna': 5, 'Skippy': 10, 'Barco': 12, 'Balou': 9, 'Laika': 16 }\n",
    "filename = 'dogs' # step 1\n",
    "outfile = open(filename,'wb') # step 2\n",
    "pickle.dump(dogs_dict,outfile) # step 3\n",
    "outfile.close()"
   ]
  },
  {
   "cell_type": "markdown",
   "metadata": {},
   "source": [
    "So to summarize, you can pickle a dataset in the following steps:\n",
    "   1. name the jar of the pickle\n",
    "   2. open the jar of the pickle\n",
    "   3. dump the pickle in the jar\n",
    "   4. close the lid of the pickle\n",
    "   \n",
    "Now let's discuss unpicling files. The process of loading a pickled file back into a Python program is similar, the steps involve:\n",
    "\n",
    "   1. open the jar of the pickle\n",
    "   2. name the bowl in your Python code that will contain the pickle, and load the pickle from the jar to the bowl\n",
    "   3. close the jar\n",
    "   \n",
    "Below, let's load the pickled file 'dopgs':"
   ]
  },
  {
   "cell_type": "code",
   "execution_count": 12,
   "metadata": {},
   "outputs": [
    {
     "name": "stdout",
     "output_type": "stream",
     "text": [
      "{'Ozzy': 3, 'Filou': 8, 'Luna': 5, 'Skippy': 10, 'Barco': 12, 'Balou': 9, 'Laika': 16}\n"
     ]
    }
   ],
   "source": [
    "infile=open(filename, 'rb') # step 1\n",
    "new_dict=pickle.load(infile) # step 2\n",
    "infile.close() # step 3\n",
    "print(new_dict) # Stare at the pickle, smell it, and drool as much as you can (make sure you validate what you see)"
   ]
  },
  {
   "cell_type": "markdown",
   "metadata": {},
   "source": [
    "If you are unpickling Python 2 objects in Python 3, we recommend adding an addtional argument encoding='latin1' in the pickle.load() method to avoid possible errors. \n",
    "\n",
    "Additionally, you can compress the pickled file. This can be done using 'bzip2' or 'gzip' libraries. They both compress files, but 'bzip2' is a bit slower, whereas 'gzip' produces files about twice as large as 'bzip2'."
   ]
  },
  {
   "cell_type": "code",
   "execution_count": 16,
   "metadata": {},
   "outputs": [],
   "source": [
    "smallerfile='dogs'\n",
    "sfile=bz2.BZ2File('smallerfile','w')\n",
    "pickle.dump(dogs_dict, sfile)\n",
    "sfile.close()"
   ]
  },
  {
   "cell_type": "markdown",
   "metadata": {},
   "source": [
    "We can also pickle a function (lambda expressions excluded). A very similar method is the pickle.dumps(), which returns the pickled representation of the object as a string, instead of writing it to a file. Notice that pickle.dump() is different from pickle.dumps(). Similarly, pickle.loads() reads a pickled object hierarchy from a string. Characters in the string past the pickled object’s representation are ignored. More details of pickling protocols and methods can be found here: https://docs.python.org/2/library/pickle.html "
   ]
  },
  {
   "cell_type": "code",
   "execution_count": 38,
   "metadata": {},
   "outputs": [
    {
     "data": {
      "text/plain": [
       "5.5"
      ]
     },
     "execution_count": 38,
     "metadata": {},
     "output_type": "execute_result"
    }
   ],
   "source": [
    "def linear(x):\n",
    "    return 3*x+4\n",
    "linear(0.5)"
   ]
  },
  {
   "cell_type": "code",
   "execution_count": 42,
   "metadata": {},
   "outputs": [
    {
     "data": {
      "text/plain": [
       "b'\\x80\\x03c__main__\\nlinear\\nq\\x00.'"
      ]
     },
     "execution_count": 42,
     "metadata": {},
     "output_type": "execute_result"
    }
   ],
   "source": [
    "show_pickle = pickle.dumps(linear) # this does not dump the pickle into the jar\n",
    "show_pickle"
   ]
  },
  {
   "cell_type": "markdown",
   "metadata": {},
   "source": [
    "Let's actually pickle the function now:"
   ]
  },
  {
   "cell_type": "code",
   "execution_count": 51,
   "metadata": {},
   "outputs": [
    {
     "name": "stdout",
     "output_type": "stream",
     "text": [
      "<function linear at 0x00000245B399B378>\n"
     ]
    },
    {
     "data": {
      "text/plain": [
       "2.5"
      ]
     },
     "execution_count": 51,
     "metadata": {},
     "output_type": "execute_result"
    }
   ],
   "source": [
    "filename='pickled_function'\n",
    "outfile=open(filename, 'wb')\n",
    "pickle.dump(linear, outfile)\n",
    "outfile.close()\n",
    "\n",
    "infile=open(filename, 'rb') \n",
    "new_function=pickle.load(infile) \n",
    "infile.close()\n",
    "print(new_function) \n",
    "new_function(-0.5)"
   ]
  },
  {
   "cell_type": "markdown",
   "metadata": {},
   "source": [
    "For lambda expressions, basically replace the 'pickle' with 'dill':"
   ]
  },
  {
   "cell_type": "code",
   "execution_count": 60,
   "metadata": {},
   "outputs": [
    {
     "data": {
      "text/plain": [
       "0"
      ]
     },
     "execution_count": 60,
     "metadata": {},
     "output_type": "execute_result"
    }
   ],
   "source": [
    "import dill\n",
    "\n",
    "func=lambda x: x-2\n",
    "\n",
    "filename='pickled_lamda_exp'\n",
    "outfile=open(filename, 'wb')\n",
    "dill.dump(func, outfile)\n",
    "outfile.close()\n",
    "\n",
    "infile=open(filename, 'rb') \n",
    "new_lambda_expr=dill.load(infile) \n",
    "infile.close()\n",
    "\n",
    "new_lambda_expr(2)"
   ]
  },
  {
   "cell_type": "markdown",
   "metadata": {},
   "source": [
    "References:\n",
    "   - https://www.datacamp.com/community/tutorials/pickle-python-tutorial\n",
    "   - https://medium.com/@emlynoregan/serialising-all-the-functions-in-python-cd880a63b591\n",
    "   - https://docs.python.org/2/library/pickle.html\n",
    "   - https://docs.python.org/3/library/pickle.html"
   ]
  },
  {
   "cell_type": "code",
   "execution_count": null,
   "metadata": {},
   "outputs": [],
   "source": []
  }
 ],
 "metadata": {
  "kernelspec": {
   "display_name": "Python 3",
   "language": "python",
   "name": "python3"
  },
  "language_info": {
   "codemirror_mode": {
    "name": "ipython",
    "version": 3
   },
   "file_extension": ".py",
   "mimetype": "text/x-python",
   "name": "python",
   "nbconvert_exporter": "python",
   "pygments_lexer": "ipython3",
   "version": "3.7.6"
  }
 },
 "nbformat": 4,
 "nbformat_minor": 2
}
