{
 "cells": [
  {
   "cell_type": "markdown",
   "metadata": {},
   "source": [
    "Imbalanced classification are those prediction tasks where the distribution of examples across class labels is not equal. Most imbalanced classification examples focus on binary classification tasks, yet many of the tools and techniques for imbalanced classification also directly support multi-class classification problems.\n",
    "\n",
    "In this tutorial, we will learn how to use the tools of imbalanced classification with multi-class datasets."
   ]
  },
  {
   "cell_type": "code",
   "execution_count": 1,
   "metadata": {},
   "outputs": [],
   "source": [
    "import imblearn\n",
    "import os\n",
    "\n",
    "import numpy as np\n",
    "import pandas as pd\n",
    "import matplotlib.pyplot as plt\n",
    "import seaborn as sns\n",
    "import warnings \n",
    "\n",
    "from collections import Counter\n",
    "from sklearn.preprocessing import LabelEncoder\n",
    "\n",
    "from imblearn.over_sampling import SMOTE\n",
    "from imblearn.under_sampling import RandomUnderSampler\n",
    "from imblearn.over_sampling import BorderlineSMOTE\n",
    "from imblearn.over_sampling import SVMSMOTE\n",
    "from imblearn.over_sampling import ADASYN\n",
    "from imblearn.pipeline import Pipeline\n",
    "\n",
    "%matplotlib inline"
   ]
  },
  {
   "cell_type": "markdown",
   "metadata": {},
   "source": [
    "We will be using a dataset for glass identification. The dataset describes the chemical properties of glass and involves classifying samples of glass using their chemical properties as one of six classes. Ignoring the sample identification number, there are nine input variables that summarize the properties of the glass dataset; they are: RI (Refractive Index), Na (Sodium), Mg (Magnesium), Al (Aluminum), Si (Silicon), K (Potassium), Ca (Calcium), Ba (Barium), Fe (Iron). The chemical compositions are measured as the weight percent in corresponding oxide.\n",
    "\n",
    "There are seven types of glass listed; they are:\n",
    "   - Class 1: building windows (float processed)\n",
    "   - Class 2: building windows (non-float processed)\n",
    "   - Class 3: vehicle windows (float processed)\n",
    "   - Class 4: vehicle windows (non-float processed)\n",
    "   - Class 5: containers\n",
    "   - Class 6: tableware\n",
    "   - Class 7: headlamps\n",
    "   \n",
    "Float glass refers to the process used to make the glass. Float glass is a sheet of glass made by floating molten glass on a bed of molten metal, typically tin, although lead and other various low-melting-point alloys were used in the past. This method gives the sheet uniform thickness and very flat surfaces. Modern windows are made from float glass. The float glass process is also known as the Pilkington process, named after the British glass manufacturer Pilkington, which pioneered the technique in the 1950s.\n",
    "\n",
    "There are 214 observations in the dataset and the number of observations in each class is imbalanced. Note that there are no examples for class 4 (non-float processed vehicle windows) in the dataset:\n",
    "   - Class 1: 70 examples\n",
    "   - Class 2: 76 examples\n",
    "   - Class 3: 17 examples\n",
    "   - Class 4: 0 examples\n",
    "   - Class 5: 13 examples\n",
    "   - Class 6: 9 examples\n",
    "   - Class 7: 29 examples\n",
    "   \n",
    "The dataset can be divided into window glass (classes 1-4) and non-window glass (classes 5-7). There are 163 examples of window glass and 51 examples of non-window glass. Another division of the observations would be between float processed glass and non-float processed glass, in the case of window glass only. This division is more balance (87 float glass vs. 76 non-float glass). The dataset can be retrieved from an URL. "
   ]
  },
  {
   "cell_type": "code",
   "execution_count": 9,
   "metadata": {},
   "outputs": [
    {
     "name": "stdout",
     "output_type": "stream",
     "text": [
      "0.7.0\n"
     ]
    }
   ],
   "source": [
    "os.chdir(\"C:\\\\Users\\\\GAO\\\\GAO_Jupyter_Notebook\\\\Datasets\")\n",
    "print(imblearn.__version__)\n",
    "\n",
    "warnings.filterwarnings(\"ignore\")"
   ]
  },
  {
   "cell_type": "code",
   "execution_count": 3,
   "metadata": {},
   "outputs": [],
   "source": [
    "url = 'https://raw.githubusercontent.com/jbrownlee/Datasets/master/glass.csv'\n",
    "df = pd.read_csv(url, header=None)\n",
    "data = df.values\n",
    "X, y = data[:, :-1], data[:, -1] # splitting into input and output elements\n",
    "y = LabelEncoder().fit_transform(y) # label-encoding the target variable"
   ]
  },
  {
   "cell_type": "code",
   "execution_count": 4,
   "metadata": {},
   "outputs": [
    {
     "name": "stdout",
     "output_type": "stream",
     "text": [
      "Class=0, n=70 (32.710%)\n",
      "Class=1, n=76 (35.514%)\n",
      "Class=2, n=17 (7.944%)\n",
      "Class=3, n=13 (6.075%)\n",
      "Class=4, n=9 (4.206%)\n",
      "Class=5, n=29 (13.551%)\n"
     ]
    },
    {
     "data": {
      "image/png": "[encoded data removed]",
      "text/plain": [
       "<Figure size 432x288 with 1 Axes>"
      ]
     },
     "metadata": {
      "needs_background": "light"
     },
     "output_type": "display_data"
    }
   ],
   "source": [
    "counter = Counter(y)\n",
    "for k,v in counter.items():\n",
    "    per = v / len(y) * 100\n",
    "    print('Class=%d, n=%d (%.3f%%)' % (k, v, per))\n",
    "plt.bar(counter.keys(), counter.values())\n",
    "plt.show()"
   ]
  },
  {
   "cell_type": "markdown",
   "metadata": {},
   "source": [
    "Next, we can apply SMOTE to oversample the dataset. By default, SMOTE will oversample all classes to have the same number of examples as the class with the most examples. In this case, class 1 has the most examples with 76, therefore, SMOTE will oversample all classes to have 76 examples."
   ]
  },
  {
   "cell_type": "code",
   "execution_count": 5,
   "metadata": {},
   "outputs": [
    {
     "name": "stdout",
     "output_type": "stream",
     "text": [
      "Class=0, n=76 (16.667%)\n",
      "Class=1, n=76 (16.667%)\n",
      "Class=2, n=76 (16.667%)\n",
      "Class=3, n=76 (16.667%)\n",
      "Class=4, n=76 (16.667%)\n",
      "Class=5, n=76 (16.667%)\n"
     ]
    },
    {
     "data": {
      "image/png": "[encoded data removed]",
      "text/plain": [
       "<Figure size 432x288 with 1 Axes>"
      ]
     },
     "metadata": {
      "needs_background": "light"
     },
     "output_type": "display_data"
    }
   ],
   "source": [
    "oversample = SMOTE()\n",
    "X1, y1 = oversample.fit_resample(X, y)\n",
    "counter = Counter(y1)\n",
    "for k,v in counter.items():\n",
    "    per = v / len(y1) * 100\n",
    "    print('Class=%d, n=%d (%.3f%%)' % (k, v, per))\n",
    "plt.bar(counter.keys(), counter.values())\n",
    "plt.show()"
   ]
  },
  {
   "cell_type": "markdown",
   "metadata": {},
   "source": [
    "This is not the only way you can do the over-sampling. Instead of using the default strategy of SMOTE to oversample all classes to the number of examples in the majority class, we could instead specify the number of examples to oversample in each class.\n",
    "\n",
    "For example, we could oversample to 100 examples in classes 0 and 1 and 200 examples in remaining classes. This can be achieved by creating a dictionary that maps class labels to the number of desired examples in each class, then specifying this via the “sampling_strategy” argument to the SMOTE class:"
   ]
  },
  {
   "cell_type": "code",
   "execution_count": 6,
   "metadata": {},
   "outputs": [
    {
     "name": "stdout",
     "output_type": "stream",
     "text": [
      "Class=0, n=100 (10.000%)\n",
      "Class=1, n=100 (10.000%)\n",
      "Class=2, n=200 (20.000%)\n",
      "Class=3, n=200 (20.000%)\n",
      "Class=4, n=200 (20.000%)\n",
      "Class=5, n=200 (20.000%)\n"
     ]
    },
    {
     "name": "stderr",
     "output_type": "stream",
     "text": [
      "C:\\ProgramData\\Anaconda3\\lib\\site-packages\\imblearn\\utils\\_validation.py:326: UserWarning: After over-sampling, the number of samples (100) in class 0 will be larger than the number of samples in the majority class (class #1 -> 76)\n",
      "  n_samples_majority,\n",
      "C:\\ProgramData\\Anaconda3\\lib\\site-packages\\imblearn\\utils\\_validation.py:326: UserWarning: After over-sampling, the number of samples (100) in class 1 will be larger than the number of samples in the majority class (class #1 -> 76)\n",
      "  n_samples_majority,\n",
      "C:\\ProgramData\\Anaconda3\\lib\\site-packages\\imblearn\\utils\\_validation.py:326: UserWarning: After over-sampling, the number of samples (200) in class 2 will be larger than the number of samples in the majority class (class #1 -> 76)\n",
      "  n_samples_majority,\n",
      "C:\\ProgramData\\Anaconda3\\lib\\site-packages\\imblearn\\utils\\_validation.py:326: UserWarning: After over-sampling, the number of samples (200) in class 3 will be larger than the number of samples in the majority class (class #1 -> 76)\n",
      "  n_samples_majority,\n",
      "C:\\ProgramData\\Anaconda3\\lib\\site-packages\\imblearn\\utils\\_validation.py:326: UserWarning: After over-sampling, the number of samples (200) in class 4 will be larger than the number of samples in the majority class (class #1 -> 76)\n",
      "  n_samples_majority,\n",
      "C:\\ProgramData\\Anaconda3\\lib\\site-packages\\imblearn\\utils\\_validation.py:326: UserWarning: After over-sampling, the number of samples (200) in class 5 will be larger than the number of samples in the majority class (class #1 -> 76)\n",
      "  n_samples_majority,\n"
     ]
    },
    {
     "data": {
      "image/png": "[encoded data removed]",
      "text/plain": [
       "<Figure size 432x288 with 1 Axes>"
      ]
     },
     "metadata": {
      "needs_background": "light"
     },
     "output_type": "display_data"
    }
   ],
   "source": [
    "strategy = {0:100, 1:100, 2:200, 3:200, 4:200, 5:200}\n",
    "oversample = SMOTE(sampling_strategy=strategy)\n",
    "X2, y2 = oversample.fit_resample(X, y)\n",
    "counter = Counter(y2)\n",
    "for k,v in counter.items():\n",
    "    per = v / len(y2) * 100\n",
    "    print('Class=%d, n=%d (%.3f%%)' % (k, v, per))\n",
    "plt.bar(counter.keys(), counter.values())\n",
    "plt.show()"
   ]
  },
  {
   "cell_type": "markdown",
   "metadata": {},
   "source": [
    "There are also extensions of the SMOTE algorithm like how we do for binary SMOTE, for example:"
   ]
  },
  {
   "cell_type": "code",
   "execution_count": 7,
   "metadata": {},
   "outputs": [
    {
     "name": "stderr",
     "output_type": "stream",
     "text": [
      "C:\\ProgramData\\Anaconda3\\lib\\site-packages\\imblearn\\utils\\_validation.py:326: UserWarning: After over-sampling, the number of samples (100) in class 0 will be larger than the number of samples in the majority class (class #1 -> 76)\n",
      "  n_samples_majority,\n",
      "C:\\ProgramData\\Anaconda3\\lib\\site-packages\\imblearn\\utils\\_validation.py:326: UserWarning: After over-sampling, the number of samples (100) in class 1 will be larger than the number of samples in the majority class (class #1 -> 76)\n",
      "  n_samples_majority,\n",
      "C:\\ProgramData\\Anaconda3\\lib\\site-packages\\imblearn\\utils\\_validation.py:326: UserWarning: After over-sampling, the number of samples (200) in class 2 will be larger than the number of samples in the majority class (class #1 -> 76)\n",
      "  n_samples_majority,\n",
      "C:\\ProgramData\\Anaconda3\\lib\\site-packages\\imblearn\\utils\\_validation.py:326: UserWarning: After over-sampling, the number of samples (200) in class 3 will be larger than the number of samples in the majority class (class #1 -> 76)\n",
      "  n_samples_majority,\n",
      "C:\\ProgramData\\Anaconda3\\lib\\site-packages\\imblearn\\utils\\_validation.py:326: UserWarning: After over-sampling, the number of samples (200) in class 4 will be larger than the number of samples in the majority class (class #1 -> 76)\n",
      "  n_samples_majority,\n",
      "C:\\ProgramData\\Anaconda3\\lib\\site-packages\\imblearn\\utils\\_validation.py:326: UserWarning: After over-sampling, the number of samples (200) in class 5 will be larger than the number of samples in the majority class (class #1 -> 76)\n",
      "  n_samples_majority,\n"
     ]
    },
    {
     "name": "stdout",
     "output_type": "stream",
     "text": [
      "Class=0, n=100 (10.000%)\n",
      "Class=1, n=100 (10.000%)\n",
      "Class=2, n=200 (20.000%)\n",
      "Class=3, n=200 (20.000%)\n",
      "Class=4, n=200 (20.000%)\n",
      "Class=5, n=200 (20.000%)\n"
     ]
    },
    {
     "data": {
      "image/png": "[encoded data removed]",
      "text/plain": [
       "<Figure size 432x288 with 1 Axes>"
      ]
     },
     "metadata": {
      "needs_background": "light"
     },
     "output_type": "display_data"
    }
   ],
   "source": [
    "borderline_sm = BorderlineSMOTE(sampling_strategy=strategy)\n",
    "X3, y3 = borderline_sm.fit_resample(X, y)\n",
    "counter = Counter(y3)\n",
    "for k,v in counter.items():\n",
    "    per = v / len(y3) * 100\n",
    "    print('Class=%d, n=%d (%.3f%%)' % (k, v, per))\n",
    "plt.bar(counter.keys(), counter.values())\n",
    "plt.show()"
   ]
  },
  {
   "cell_type": "code",
   "execution_count": 8,
   "metadata": {},
   "outputs": [
    {
     "name": "stderr",
     "output_type": "stream",
     "text": [
      "C:\\ProgramData\\Anaconda3\\lib\\site-packages\\imblearn\\utils\\_validation.py:326: UserWarning: After over-sampling, the number of samples (100) in class 0 will be larger than the number of samples in the majority class (class #1 -> 76)\n",
      "  n_samples_majority,\n",
      "C:\\ProgramData\\Anaconda3\\lib\\site-packages\\imblearn\\utils\\_validation.py:326: UserWarning: After over-sampling, the number of samples (100) in class 1 will be larger than the number of samples in the majority class (class #1 -> 76)\n",
      "  n_samples_majority,\n",
      "C:\\ProgramData\\Anaconda3\\lib\\site-packages\\imblearn\\utils\\_validation.py:326: UserWarning: After over-sampling, the number of samples (200) in class 2 will be larger than the number of samples in the majority class (class #1 -> 76)\n",
      "  n_samples_majority,\n",
      "C:\\ProgramData\\Anaconda3\\lib\\site-packages\\imblearn\\utils\\_validation.py:326: UserWarning: After over-sampling, the number of samples (200) in class 3 will be larger than the number of samples in the majority class (class #1 -> 76)\n",
      "  n_samples_majority,\n",
      "C:\\ProgramData\\Anaconda3\\lib\\site-packages\\imblearn\\utils\\_validation.py:326: UserWarning: After over-sampling, the number of samples (200) in class 4 will be larger than the number of samples in the majority class (class #1 -> 76)\n",
      "  n_samples_majority,\n",
      "C:\\ProgramData\\Anaconda3\\lib\\site-packages\\imblearn\\utils\\_validation.py:326: UserWarning: After over-sampling, the number of samples (200) in class 5 will be larger than the number of samples in the majority class (class #1 -> 76)\n",
      "  n_samples_majority,\n"
     ]
    },
    {
     "name": "stdout",
     "output_type": "stream",
     "text": [
      "Class=0, n=100 (12.107%)\n",
      "Class=1, n=100 (12.107%)\n",
      "Class=2, n=108 (13.075%)\n",
      "Class=3, n=200 (24.213%)\n",
      "Class=4, n=118 (14.286%)\n",
      "Class=5, n=200 (24.213%)\n"
     ]
    },
    {
     "data": {
      "image/png": "[encoded data removed]",
      "text/plain": [
       "<Figure size 432x288 with 1 Axes>"
      ]
     },
     "metadata": {
      "needs_background": "light"
     },
     "output_type": "display_data"
    }
   ],
   "source": [
    "borderline_svm = SVMSMOTE(sampling_strategy=strategy)\n",
    "X4, y4 = borderline_svm.fit_resample(X, y)\n",
    "counter = Counter(y4)\n",
    "for k,v in counter.items():\n",
    "    per = v / len(y4) * 100\n",
    "    print('Class=%d, n=%d (%.3f%%)' % (k, v, per))\n",
    "plt.bar(counter.keys(), counter.values())\n",
    "plt.show()"
   ]
  },
  {
   "cell_type": "markdown",
   "metadata": {},
   "source": [
    "Notice that SVMSMOTE() does not fully respect the sampling strategy because of the nature of the algorithm."
   ]
  },
  {
   "cell_type": "markdown",
   "metadata": {},
   "source": [
    "References:\n",
    "   - https://machinelearningmastery.com/multi-class-imbalanced-classification/\n",
    "   - https://raw.githubusercontent.com/jbrownlee/Datasets/master/glass.csv\n",
    "   - https://raw.githubusercontent.com/jbrownlee/Datasets/master/glass.names"
   ]
  },
  {
   "cell_type": "code",
   "execution_count": null,
   "metadata": {},
   "outputs": [],
   "source": []
  }
 ],
 "metadata": {
  "kernelspec": {
   "display_name": "Python 3",
   "language": "python",
   "name": "python3"
  },
  "language_info": {
   "codemirror_mode": {
    "name": "ipython",
    "version": 3
   },
   "file_extension": ".py",
   "mimetype": "text/x-python",
   "name": "python",
   "nbconvert_exporter": "python",
   "pygments_lexer": "ipython3",
   "version": "3.7.6"
  }
 },
 "nbformat": 4,
 "nbformat_minor": 4
}
