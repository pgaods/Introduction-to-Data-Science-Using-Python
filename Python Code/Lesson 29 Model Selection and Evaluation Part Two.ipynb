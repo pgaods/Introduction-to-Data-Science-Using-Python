{
 "cells": [
  {
   "cell_type": "markdown",
   "metadata": {},
   "source": [
    "In this lecture, we continue with our discussion on model selection and evaluation. Specifically, we focus on different methods of drawing samples when it comes to cross validation. The following sections list utilities to generate indices that can be used to generate dataset splits according to different cross validation strategies."
   ]
  },
  {
   "cell_type": "code",
   "execution_count": 1,
   "metadata": {
    "collapsed": true
   },
   "outputs": [],
   "source": [
    "import numpy as np\n",
    "import pandas as pd\n",
    "import matplotlib.pyplot as plt\n",
    "import seaborn as sns\n",
    "import os\n",
    "\n",
    "from sklearn.model_selection import KFold\n",
    "from sklearn.model_selection import LeaveOneOut\n",
    "from sklearn.model_selection import ShuffleSplit\n",
    "from sklearn.model_selection import StratifiedKFold\n",
    "from sklearn.model_selection import GroupKFold\n",
    "from sklearn.model_selection import LeaveOneGroupOut\n",
    "from sklearn.model_selection import LeavePGroupsOut\n",
    "from sklearn.model_selection import TimeSeriesSplit\n",
    "\n",
    "%matplotlib inline"
   ]
  },
  {
   "cell_type": "code",
   "execution_count": 2,
   "metadata": {
    "collapsed": true
   },
   "outputs": [],
   "source": [
    "os.chdir(\"C:\\\\Users\\\\pgao\\\\Documents\\\\PGZ Documents\\\\Programming Workshop\\\\PYTHON\\\\Open Courses on Python\\\\Udemy Course on Python\\Introduction to Data Science Using Python\\\\datasets\")"
   ]
  },
  {
   "cell_type": "markdown",
   "metadata": {},
   "source": [
    "The most simple CV method is the K-fold CV which is applicable in i.i.d. data (all samples stem from the same generative process and that the generative process is assumed to have no memory of past generated samples). The KFold() function divides all the samples in K groups of samples, called folds (if K=n, then it is equivalent to the leave-one-out strategy), of equal sizes (if possible). The prediction function is learned using K-1 folds, and the fold left out is used for test. The 'n_splits' argument determines the number of folds (it must be no less than 2).\n",
    "\n",
    "Below is an example of using the KFold() function. We want to do a 3-fold CV here. The split() method will hand us the indices for the training and test data. As we see, the train-test split is given in the following way:\n",
    "\n",
    "    Train vs. Test:\n",
    "    First split: ['c','d','e'] vs. ['a','b']\n",
    "    Second split: ['a', 'b', 'e'] vs. ['c', 'd']\n",
    "    Third split: ['a', 'b', 'c', 'd'] vs. ['e']"
   ]
  },
  {
   "cell_type": "code",
   "execution_count": 3,
   "metadata": {},
   "outputs": [
    {
     "name": "stdout",
     "output_type": "stream",
     "text": [
      "<class 'sklearn.model_selection._split.KFold'>\n",
      "Indices for Training Data:  [2 3 4]\n",
      "Indices for Test Data:  [0 1]\n",
      "Indices for Training Data:  [0 1 4]\n",
      "Indices for Test Data:  [2 3]\n",
      "Indices for Training Data:  [0 1 2 3]\n",
      "Indices for Test Data:  [4]\n"
     ]
    }
   ],
   "source": [
    "data = [\"a\", \"b\", \"c\", \"d\", \"e\"]\n",
    "kf = KFold(n_splits=3, random_state=123) # 3-folds CV\n",
    "print(type(kf))\n",
    "for train, test in kf.split(data):\n",
    "    print('Indices for Training Data: ', train)\n",
    "    print('Indices for Test Data: ', test)"
   ]
  },
  {
   "cell_type": "markdown",
   "metadata": {},
   "source": [
    "Now let's suppose are using this splitting scheme on a numpy array object. Suppose we are in the supervised learning world. The dataset is composed of the X-portion (covariates) and the y-portion (outcome), denoted by X and y respectively. X is 5-by-2 in dimension and y is 5-by-1 in dimension (so n=5 here is the sample size). Using the KFold() method, we can achieve the following training and test set split. Notice that in the last iteration of the KFold() results, our indices are [0,1,2,3] for the training data and [4] for the testing, therefore, applying these indices, we obtain the following datasets:"
   ]
  },
  {
   "cell_type": "code",
   "execution_count": 4,
   "metadata": {},
   "outputs": [
    {
     "name": "stdout",
     "output_type": "stream",
     "text": [
      "X:  \n",
      " [[ 0.    0.  ]\n",
      " [ 1.05  2.56]\n",
      " [-1.08 -1.53]\n",
      " [ 2.43  2.43]\n",
      " [ 0.78  9.53]]\n",
      "y: \n",
      " [ 0.45  1.   22.    0.98  7.54  5.36]\n",
      "-------------------------\n",
      "X_train:\n",
      " [[ 0.    0.  ]\n",
      " [ 1.05  2.56]\n",
      " [-1.08 -1.53]\n",
      " [ 2.43  2.43]]\n",
      "X_test:\n",
      " [[0.78 9.53]]\n",
      "y_train: [ 0.45  1.   22.    0.98]\n",
      "y_test: [7.54]\n"
     ]
    }
   ],
   "source": [
    "X = np.array([[0.00, 0.00], [1.05, 2.56], [-1.08, -1.53], [2.43, 2.43], [0.78, 9.53]])\n",
    "y = np.array([0.45, 1,22, 0.98, 7.54, 5.36])\n",
    "print('X: ', '\\n', X)\n",
    "print('y:', '\\n', y)\n",
    "print('-------------------------')\n",
    "\n",
    "X_train, X_test, y_train, y_test = X[train], X[test], y[train], y[test]\n",
    "print('X_train:\\n', X_train)\n",
    "print('X_test:\\n', X_test)\n",
    "print('y_train:', y_train)\n",
    "print('y_test:', y_test)"
   ]
  },
  {
   "cell_type": "markdown",
   "metadata": {
    "collapsed": true
   },
   "source": [
    "The leave-one-out cross validation (LOOCV) is a special case of K-fold CV. Each learning set is created by taking all the samples except one, the test set being the sample left out. Thus, for  samples, we have  different training sets and  different tests set. This cross-validation procedure does not waste much data as only one sample is removed from the training set:"
   ]
  },
  {
   "cell_type": "code",
   "execution_count": 5,
   "metadata": {},
   "outputs": [
    {
     "name": "stdout",
     "output_type": "stream",
     "text": [
      "<class 'sklearn.model_selection._split.LeaveOneOut'>\n",
      "Indices for Training Data:  [1 2 3 4 5]\n",
      "Indices for Test Data:  [0]\n",
      "Indices for Training Data:  [0 2 3 4 5]\n",
      "Indices for Test Data:  [1]\n",
      "Indices for Training Data:  [0 1 3 4 5]\n",
      "Indices for Test Data:  [2]\n",
      "Indices for Training Data:  [0 1 2 4 5]\n",
      "Indices for Test Data:  [3]\n",
      "Indices for Training Data:  [0 1 2 3 5]\n",
      "Indices for Test Data:  [4]\n",
      "Indices for Training Data:  [0 1 2 3 4]\n",
      "Indices for Test Data:  [5]\n",
      "...............\n",
      "X_train:\n",
      " [[ 0.    0.  ]\n",
      " [ 1.05  2.56]\n",
      " [-1.08 -1.53]\n",
      " [ 2.43  2.43]\n",
      " [ 0.78  9.53]]\n",
      "X_test:\n",
      " [[23.21 -1.09]]\n",
      "y_train: [ 0.45  1.   22.    0.98  7.54]\n",
      "y_test: [5.36]\n"
     ]
    }
   ],
   "source": [
    "X = np.array([[0.00, 0.00], [1.05, 2.56], [-1.08, -1.53], [2.43, 2.43], [0.78, 9.53], [23.21,-1.09]])\n",
    "y = np.array([0.45, 1,22, 0.98, 7.54, 5.36,-8.63])\n",
    "loo = LeaveOneOut()\n",
    "print(type(loo))\n",
    "for train, test in loo.split(X):\n",
    "    print('Indices for Training Data: ', train)\n",
    "    print('Indices for Test Data: ', test)\n",
    "print('...............')\n",
    "X_train, X_test, y_train, y_test = X[train], X[test], y[train], y[test]\n",
    "print('X_train:\\n', X_train)\n",
    "print('X_test:\\n', X_test)\n",
    "print('y_train:', y_train)\n",
    "print('y_test:', y_test)"
   ]
  },
  {
   "cell_type": "markdown",
   "metadata": {
    "collapsed": true
   },
   "source": [
    "Now let's move onto some CV schemes that are fancier than K-fold CV and LOOCV. As an example, the ShuffleSplit() iterator will generate a user-defined number of independent train-test dataset splits. Samples are first shuffled and then split into a pair of train and test sets. It is possible to control the randomness for reproducibility of the results by explicitly seeding the random_state pseudo random number generator."
   ]
  },
  {
   "cell_type": "code",
   "execution_count": 6,
   "metadata": {},
   "outputs": [
    {
     "name": "stdout",
     "output_type": "stream",
     "text": [
      "Indices for Training Data:  [1 3 0 4]\n",
      "Indices for Test Data:  [5 2]\n",
      "Indices for Training Data:  [4 0 2 5]\n",
      "Indices for Test Data:  [1 3]\n",
      "Indices for Training Data:  [1 2 4 0]\n",
      "Indices for Test Data:  [3 5]\n",
      "Indices for Training Data:  [3 4 1 0]\n",
      "Indices for Test Data:  [5 2]\n",
      "Indices for Training Data:  [3 5 1 0]\n",
      "Indices for Test Data:  [2 4]\n",
      "...............\n",
      "X_train:\n",
      " [[ 2.43  2.43]\n",
      " [23.21 -1.09]\n",
      " [ 1.05  2.56]\n",
      " [ 0.    0.  ]]\n",
      "X_test:\n",
      " [[-1.08 -1.53]\n",
      " [ 0.78  9.53]]\n",
      "y_train: [0.98 5.36 1.   0.45]\n",
      "y_test: [22.    7.54]\n"
     ]
    }
   ],
   "source": [
    "ss = ShuffleSplit(n_splits=5, test_size=0.25,random_state=0)\n",
    "for train, test in ss.split(X):\n",
    "    print('Indices for Training Data: ', train)\n",
    "    print('Indices for Test Data: ', test)\n",
    "print('...............')\n",
    "X_train, X_test, y_train, y_test = X[train], X[test], y[train], y[test]\n",
    "print('X_train:\\n', X_train)\n",
    "print('X_test:\\n', X_test)\n",
    "print('y_train:', y_train)\n",
    "print('y_test:', y_test)"
   ]
  },
  {
   "cell_type": "markdown",
   "metadata": {
    "collapsed": true
   },
   "source": [
    "Let's see another CV scheme. Some binary classification problems can exhibit a large imbalance in the distribution of the target classes: for instance there could be several times more negative samples than positive samples. In such cases it is recommended to use stratified sampling as implemented in StratifiedKFold() and StratifiedShuffleSplit() to ensure that relative class frequencies is approximately preserved in each train and validation fold. StratifiedKFold() is a variation of k-fold which returns stratified folds: each set contains approximately the same percentage of samples of each target class as the complete set. In a similar fashion, StratifiedShuffleSplit() is a variation of ShuffleSplit, which returns stratified splits, i.e which creates splits by preserving the same percentage for each target class as in the complete set.\n",
    "\n",
    "Here is an example of stratified 3-fold cross-validation on a dataset with 10 samples from two slightly unbalanced classes:"
   ]
  },
  {
   "cell_type": "code",
   "execution_count": 7,
   "metadata": {},
   "outputs": [
    {
     "name": "stdout",
     "output_type": "stream",
     "text": [
      "[1 2 6 7 8 9] [0 3 4 5]\n",
      "[0 2 3 4 5 8 9] [1 6 7]\n",
      "[0 1 3 4 5 6 7] [2 8 9]\n"
     ]
    }
   ],
   "source": [
    "X = np.ones(10) # X is a list of ones with a length of 10\n",
    "y = [0, 0, 0, 1, 1, 1, 1, 1, 1, 1]\n",
    "skf = StratifiedKFold(n_splits=3)\n",
    "for train, test in skf.split(X, y):\n",
    "    print(\"%s %s\" % (train, test))"
   ]
  },
  {
   "cell_type": "markdown",
   "metadata": {
    "collapsed": true
   },
   "source": [
    "So far, we have talked about balanced and imbalanced data. But these are all wrapped under the umbrellla of the i.i.d. assumption. In many real world problems, the i.i.d assumption may not be realistic. The i.i.d. assumption is broken if the underlying generative process yield groups of dependent samples. Such a grouping of data is domain specific. An example would be when there is medical data collected from multiple patients, with multiple samples taken from each patient. And such data is likely to be dependent on the individual group. In our example, the patient id for each sample will be its group identifier.\n",
    "\n",
    "In this case we would like to know if a model trained on a particular set of groups generalizes well to the unseen groups. To measure this, we need to ensure that all the samples in the validation fold come from groups that are not represented at all in the paired training fold. The following cross-validation splitters can be used to do that. The grouping identifier for the samples is specified via the 'groups' parameter.\n",
    "\n",
    "GroupKFold() is a variation of k-fold which ensures that the same group is not represented in both testing and training sets. For example if the data is obtained from different subjects with several samples per-subject and if the model is flexible enough to learn from highly person specific features it could fail to generalize to new subjects. GroupKFold() makes it possible to detect this kind of overfitting situations.\n",
    "\n",
    "Imagine you have three subjects, each with an associated number from 1 to 3: each subject is in a different testing fold, and the same subject is never in both testing and training. Notice that the folds do not have exactly the same size due to the imbalance in the data. Below gives the results and the visualizations of the CV:"
   ]
  },
  {
   "cell_type": "code",
   "execution_count": 8,
   "metadata": {},
   "outputs": [
    {
     "name": "stdout",
     "output_type": "stream",
     "text": [
      "Indices for Training Data:  [0 1 2 3 4 5]\n",
      "Indices for Test Data:  [6 7 8 9]\n",
      "Indices for Training Data:  [0 1 2 6 7 8 9]\n",
      "Indices for Test Data:  [3 4 5]\n",
      "Indices for Training Data:  [3 4 5 6 7 8 9]\n",
      "Indices for Test Data:  [0 1 2]\n"
     ]
    }
   ],
   "source": [
    "X = [0.1, 0.2, 2.2, 2.4, 2.3, 4.55, 5.8, 8.8, 9, 10]\n",
    "y = [\"a\", \"b\", \"b\", \"b\", \"c\", \"c\", \"c\", \"d\", \"d\", \"d\"]\n",
    "groups = [1, 1, 1, 2, 2, 2, 3, 3, 3, 3]\n",
    "gkf = GroupKFold(n_splits=3)\n",
    "for train, test in gkf.split(X, y, groups=groups):\n",
    "    print('Indices for Training Data: ', train)\n",
    "    print('Indices for Test Data: ', test)"
   ]
  },
  {
   "cell_type": "code",
   "execution_count": 9,
   "metadata": {},
   "outputs": [
    {
     "data": {
      "image/png": "[encoded data removed]",
      "text/plain": [
       "<IPython.core.display.Image object>"
      ]
     },
     "execution_count": 9,
     "metadata": {},
     "output_type": "execute_result"
    }
   ],
   "source": [
    "from IPython.display import Image\n",
    "Image(\"visualization of group cv.PNG\")"
   ]
  },
  {
   "cell_type": "markdown",
   "metadata": {
    "collapsed": true
   },
   "source": [
    "LeaveOneGroupOut() is a cross-validation scheme which holds out the samples according to a third-party provided array of integer groups. This group information can be used to encode arbitrary domain specific pre-defined cross-validation folds. Each training set is thus constituted by all the samples except the ones related to a specific group.\n",
    "\n",
    "For example, in the cases of multiple experiments, LeaveOneGroupOut() can be used to create a CV based on the different experiments: we create a training set using the samples of all the experiments except one:"
   ]
  },
  {
   "cell_type": "code",
   "execution_count": 10,
   "metadata": {},
   "outputs": [
    {
     "name": "stdout",
     "output_type": "stream",
     "text": [
      "Indices for Training Data:  [2 3 4 5 6]\n",
      "Indices for Test Data:  [0 1]\n",
      "Indices for Training Data:  [0 1 4 5 6]\n",
      "Indices for Test Data:  [2 3]\n",
      "Indices for Training Data:  [0 1 2 3]\n",
      "Indices for Test Data:  [4 5 6]\n"
     ]
    }
   ],
   "source": [
    "X = [1, 5, 10, 50, 60, 70, 80]\n",
    "y = [0.65, 1.95, 2.39, 2.56, -0.75, 0.07, -4.56]\n",
    "groups = [1, 1, 2, 2, 3, 3, 3]\n",
    "logo = LeaveOneGroupOut()\n",
    "for train, test in logo.split(X,y,groups=groups):\n",
    "    print('Indices for Training Data: ', train)\n",
    "    print('Indices for Test Data: ', test)"
   ]
  },
  {
   "cell_type": "markdown",
   "metadata": {
    "collapsed": true
   },
   "source": [
    "LeavePGroupsOut() is similar as LeaveOneGroupOut(), but removes samples related to P groups for each training/test set. Similarly, the GroupShuffleSplit() iterator behaves as a combination of ShuffleSplit() and LeavePGroupsOut(), and generates a sequence of randomized partitions in which a subset of groups are held out for each split. Below is an example:"
   ]
  },
  {
   "cell_type": "code",
   "execution_count": 11,
   "metadata": {},
   "outputs": [
    {
     "name": "stdout",
     "output_type": "stream",
     "text": [
      "[0 1 2 3 4 5] [1, 1, 1, 2, 2, 2]\n",
      "Indices for Training Data:  [4 5]\n",
      "Indices for Test Data:  [0 1 2 3]\n",
      "Indices for Training Data:  [2 3]\n",
      "Indices for Test Data:  [0 1 4 5]\n",
      "Indices for Training Data:  [0 1]\n",
      "Indices for Test Data:  [2 3 4 5]\n"
     ]
    }
   ],
   "source": [
    "X = np.arange(6)\n",
    "y = [1, 1, 1, 2, 2, 2]\n",
    "groups = [1, 1, 2, 2, 3, 3]\n",
    "print(X,y)\n",
    "lpgo = LeavePGroupsOut(n_groups=2)\n",
    "for train, test in lpgo.split(X,y,groups=groups):\n",
    "    print('Indices for Training Data: ', train)\n",
    "    print('Indices for Test Data: ', test)"
   ]
  },
  {
   "cell_type": "markdown",
   "metadata": {
    "collapsed": true
   },
   "source": [
    "Time series data is characterized by the correlation between observations that are near in time (autocorrelation). However, classical cross-validation techniques such as KFold() and ShuffleSplit() assume the samples are independent and identically distributed, and would result in unreasonable correlation between training and testing instances (yielding poor estimates of generalization error) on time series data. Therefore, it is very important to evaluate our model for time series data on the future observations least like those that are used to train the model. To achieve this, one solution is provided by TimeSeriesSplit(). TimeSeriesSplit() is a variation of K-fold CV which returns first K folds as train set and the (K+1)th fold as the test set. Note that unlike standard CV methods, successive training sets are supersets of those that come before them. Also, it adds all surplus data to the first training partition, which is always used to train the model. This class can be used to cross-validate time series data samples that are observed at fixed time intervals."
   ]
  },
  {
   "cell_type": "code",
   "execution_count": 12,
   "metadata": {},
   "outputs": [
    {
     "name": "stdout",
     "output_type": "stream",
     "text": [
      "X:\n",
      " [[1 2]\n",
      " [3 4]\n",
      " [1 2]\n",
      " [3 4]\n",
      " [1 2]\n",
      " [3 4]]\n",
      "y:\n",
      " [1 2 3 4 5 6]\n",
      "-----------------\n",
      "Indices for Training Data:  [0 1 2]\n",
      "Indices for Test Data:  [3]\n",
      "Indices for Training Data:  [0 1 2 3]\n",
      "Indices for Test Data:  [4]\n",
      "Indices for Training Data:  [0 1 2 3 4]\n",
      "Indices for Test Data:  [5]\n"
     ]
    }
   ],
   "source": [
    "X = np.array([[1, 2], [3, 4], [1, 2], [3, 4], [1, 2], [3, 4]])\n",
    "y = np.array([1, 2, 3, 4, 5, 6])\n",
    "print('X:\\n', X)\n",
    "print('y:\\n', y)\n",
    "tscv = TimeSeriesSplit(n_splits=3)  \n",
    "print('-----------------')\n",
    "for train, test in tscv.split(X,y):\n",
    "    print('Indices for Training Data: ', train)\n",
    "    print('Indices for Test Data: ', test)"
   ]
  },
  {
   "cell_type": "code",
   "execution_count": 13,
   "metadata": {},
   "outputs": [
    {
     "data": {
      "image/png": "[encoded data removed]",
      "text/plain": [
       "<IPython.core.display.Image object>"
      ]
     },
     "execution_count": 13,
     "metadata": {},
     "output_type": "execute_result"
    }
   ],
   "source": [
    "from IPython.display import Image\n",
    "Image(\"TS_CV.PNG\")"
   ]
  },
  {
   "cell_type": "markdown",
   "metadata": {},
   "source": [
    "References:\n",
    "   - http://scikit-learn.org/stable/modules/cross_validation.html"
   ]
  },
  {
   "cell_type": "code",
   "execution_count": null,
   "metadata": {
    "collapsed": true
   },
   "outputs": [],
   "source": []
  }
 ],
 "metadata": {
  "kernelspec": {
   "display_name": "Python 3",
   "language": "python",
   "name": "python3"
  },
  "language_info": {
   "codemirror_mode": {
    "name": "ipython",
    "version": 3
   },
   "file_extension": ".py",
   "mimetype": "text/x-python",
   "name": "python",
   "nbconvert_exporter": "python",
   "pygments_lexer": "ipython3",
   "version": "3.7.6"
  }
 },
 "nbformat": 4,
 "nbformat_minor": 2
}
