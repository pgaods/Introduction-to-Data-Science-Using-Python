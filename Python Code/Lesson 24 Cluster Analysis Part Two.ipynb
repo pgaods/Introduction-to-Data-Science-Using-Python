{
 "cells": [
  {
   "cell_type": "markdown",
   "metadata": {},
   "source": [
    "In this module, we study how to implement other variants of the K-means clustering algorithm, with the focus on categorical variables. Since K-means requires that data be numeric, we need to think about how to handle categorical data or mixed data types. It turns out that K-modes is used for clustering categorical variables. It defines clusters based on the number of matching categories between data points (this is in contrast to the more well-known K-means algorithm, which clusters numerical data based on Euclidean distance). The K-prototypes algorithm combines K-modes and K-means and is able to cluster mixed numerical/categorical data."
   ]
  },
  {
   "cell_type": "code",
   "execution_count": 1,
   "metadata": {
    "collapsed": true
   },
   "outputs": [],
   "source": [
    "import pandas as pd\n",
    "import numpy as np\n",
    "import matplotlib.pyplot as plt\n",
    "import seaborn as sns\n",
    "import os\n",
    "\n",
    "from kmodes.kmodes import KModes\n",
    "from sklearn.metrics import silhouette_score\n",
    "from scipy.spatial.distance import cdist, pdist\n",
    "\n",
    "%matplotlib inline"
   ]
  },
  {
   "cell_type": "markdown",
   "metadata": {},
   "source": [
    "Let's use the titanic dataset as an example. This dataset has both categorical and numeric data. We will only keep the categorical variable for the purpose of illustration. "
   ]
  },
  {
   "cell_type": "code",
   "execution_count": 2,
   "metadata": {},
   "outputs": [
    {
     "name": "stdout",
     "output_type": "stream",
     "text": [
      "<class 'pandas.core.frame.DataFrame'>\n",
      "RangeIndex: 891 entries, 0 to 890\n",
      "Data columns (total 12 columns):\n",
      "PassengerId    891 non-null int64\n",
      "Survived       891 non-null int64\n",
      "Pclass         891 non-null int64\n",
      "Name           891 non-null object\n",
      "Sex            891 non-null object\n",
      "Age            714 non-null float64\n",
      "SibSp          891 non-null int64\n",
      "Parch          891 non-null int64\n",
      "Ticket         891 non-null object\n",
      "Fare           891 non-null float64\n",
      "Cabin          204 non-null object\n",
      "Embarked       889 non-null object\n",
      "dtypes: float64(2), int64(5), object(5)\n",
      "memory usage: 83.6+ KB\n",
      "None\n"
     ]
    },
    {
     "data": {
      "text/html": [
       "<div>\n",
       "<style>\n",
       "    .dataframe thead tr:only-child th {\n",
       "        text-align: right;\n",
       "    }\n",
       "\n",
       "    .dataframe thead th {\n",
       "        text-align: left;\n",
       "    }\n",
       "\n",
       "    .dataframe tbody tr th {\n",
       "        vertical-align: top;\n",
       "    }\n",
       "</style>\n",
       "<table border=\"1\" class=\"dataframe\">\n",
       "  <thead>\n",
       "    <tr style=\"text-align: right;\">\n",
       "      <th></th>\n",
       "      <th>PassengerId</th>\n",
       "      <th>Survived</th>\n",
       "      <th>Pclass</th>\n",
       "      <th>Name</th>\n",
       "      <th>Sex</th>\n",
       "      <th>Age</th>\n",
       "      <th>SibSp</th>\n",
       "      <th>Parch</th>\n",
       "      <th>Ticket</th>\n",
       "      <th>Fare</th>\n",
       "      <th>Cabin</th>\n",
       "      <th>Embarked</th>\n",
       "    </tr>\n",
       "  </thead>\n",
       "  <tbody>\n",
       "    <tr>\n",
       "      <th>0</th>\n",
       "      <td>1</td>\n",
       "      <td>0</td>\n",
       "      <td>3</td>\n",
       "      <td>Braund, Mr. Owen Harris</td>\n",
       "      <td>male</td>\n",
       "      <td>22.0</td>\n",
       "      <td>1</td>\n",
       "      <td>0</td>\n",
       "      <td>A/5 21171</td>\n",
       "      <td>7.2500</td>\n",
       "      <td>NaN</td>\n",
       "      <td>S</td>\n",
       "    </tr>\n",
       "    <tr>\n",
       "      <th>1</th>\n",
       "      <td>2</td>\n",
       "      <td>1</td>\n",
       "      <td>1</td>\n",
       "      <td>Cumings, Mrs. John Bradley (Florence Briggs Th...</td>\n",
       "      <td>female</td>\n",
       "      <td>38.0</td>\n",
       "      <td>1</td>\n",
       "      <td>0</td>\n",
       "      <td>PC 17599</td>\n",
       "      <td>71.2833</td>\n",
       "      <td>C85</td>\n",
       "      <td>C</td>\n",
       "    </tr>\n",
       "    <tr>\n",
       "      <th>2</th>\n",
       "      <td>3</td>\n",
       "      <td>1</td>\n",
       "      <td>3</td>\n",
       "      <td>Heikkinen, Miss. Laina</td>\n",
       "      <td>female</td>\n",
       "      <td>26.0</td>\n",
       "      <td>0</td>\n",
       "      <td>0</td>\n",
       "      <td>STON/O2. 3101282</td>\n",
       "      <td>7.9250</td>\n",
       "      <td>NaN</td>\n",
       "      <td>S</td>\n",
       "    </tr>\n",
       "    <tr>\n",
       "      <th>3</th>\n",
       "      <td>4</td>\n",
       "      <td>1</td>\n",
       "      <td>1</td>\n",
       "      <td>Futrelle, Mrs. Jacques Heath (Lily May Peel)</td>\n",
       "      <td>female</td>\n",
       "      <td>35.0</td>\n",
       "      <td>1</td>\n",
       "      <td>0</td>\n",
       "      <td>113803</td>\n",
       "      <td>53.1000</td>\n",
       "      <td>C123</td>\n",
       "      <td>S</td>\n",
       "    </tr>\n",
       "    <tr>\n",
       "      <th>4</th>\n",
       "      <td>5</td>\n",
       "      <td>0</td>\n",
       "      <td>3</td>\n",
       "      <td>Allen, Mr. William Henry</td>\n",
       "      <td>male</td>\n",
       "      <td>35.0</td>\n",
       "      <td>0</td>\n",
       "      <td>0</td>\n",
       "      <td>373450</td>\n",
       "      <td>8.0500</td>\n",
       "      <td>NaN</td>\n",
       "      <td>S</td>\n",
       "    </tr>\n",
       "  </tbody>\n",
       "</table>\n",
       "</div>"
      ],
      "text/plain": [
       "   PassengerId  Survived  Pclass  \\\n",
       "0            1         0       3   \n",
       "1            2         1       1   \n",
       "2            3         1       3   \n",
       "3            4         1       1   \n",
       "4            5         0       3   \n",
       "\n",
       "                                                Name     Sex   Age  SibSp  \\\n",
       "0                            Braund, Mr. Owen Harris    male  22.0      1   \n",
       "1  Cumings, Mrs. John Bradley (Florence Briggs Th...  female  38.0      1   \n",
       "2                             Heikkinen, Miss. Laina  female  26.0      0   \n",
       "3       Futrelle, Mrs. Jacques Heath (Lily May Peel)  female  35.0      1   \n",
       "4                           Allen, Mr. William Henry    male  35.0      0   \n",
       "\n",
       "   Parch            Ticket     Fare Cabin Embarked  \n",
       "0      0         A/5 21171   7.2500   NaN        S  \n",
       "1      0          PC 17599  71.2833   C85        C  \n",
       "2      0  STON/O2. 3101282   7.9250   NaN        S  \n",
       "3      0            113803  53.1000  C123        S  \n",
       "4      0            373450   8.0500   NaN        S  "
      ]
     },
     "execution_count": 2,
     "metadata": {},
     "output_type": "execute_result"
    }
   ],
   "source": [
    "path='C:\\\\Users\\\\pgao\\\\Documents\\\\PGZ Documents\\\\Programming Workshop\\\\PYTHON\\\\Open Courses on Python\\\\Udemy Course on Python\\\\Introduction to Data Science Using Python\\\\datasets'\n",
    "os.chdir(path)\n",
    "titanic = pd.read_csv('titanic.csv')\n",
    "print(titanic.info())\n",
    "titanic.head()"
   ]
  },
  {
   "cell_type": "markdown",
   "metadata": {},
   "source": [
    "Now let's create all the dummies and drop the majority of the numeric variables:"
   ]
  },
  {
   "cell_type": "code",
   "execution_count": 3,
   "metadata": {},
   "outputs": [
    {
     "name": "stdout",
     "output_type": "stream",
     "text": [
      "Survived\n",
      "0    549\n",
      "1    342\n",
      "dtype: int64 \n",
      "\n",
      "Pclass\n",
      "1    216\n",
      "2    184\n",
      "3    491\n",
      "dtype: int64 \n",
      "\n",
      "Embarked\n",
      "C    168\n",
      "Q     77\n",
      "S    644\n",
      "dtype: int64 \n",
      "\n"
     ]
    },
    {
     "data": {
      "text/html": [
       "<div>\n",
       "<style>\n",
       "    .dataframe thead tr:only-child th {\n",
       "        text-align: right;\n",
       "    }\n",
       "\n",
       "    .dataframe thead th {\n",
       "        text-align: left;\n",
       "    }\n",
       "\n",
       "    .dataframe tbody tr th {\n",
       "        vertical-align: top;\n",
       "    }\n",
       "</style>\n",
       "<table border=\"1\" class=\"dataframe\">\n",
       "  <thead>\n",
       "    <tr style=\"text-align: right;\">\n",
       "      <th></th>\n",
       "      <th>Survived</th>\n",
       "      <th>Pclass</th>\n",
       "      <th>female</th>\n",
       "      <th>male</th>\n",
       "      <th>C</th>\n",
       "      <th>Q</th>\n",
       "      <th>S</th>\n",
       "    </tr>\n",
       "  </thead>\n",
       "  <tbody>\n",
       "    <tr>\n",
       "      <th>0</th>\n",
       "      <td>0</td>\n",
       "      <td>3</td>\n",
       "      <td>0</td>\n",
       "      <td>1</td>\n",
       "      <td>0</td>\n",
       "      <td>0</td>\n",
       "      <td>1</td>\n",
       "    </tr>\n",
       "    <tr>\n",
       "      <th>1</th>\n",
       "      <td>1</td>\n",
       "      <td>1</td>\n",
       "      <td>1</td>\n",
       "      <td>0</td>\n",
       "      <td>1</td>\n",
       "      <td>0</td>\n",
       "      <td>0</td>\n",
       "    </tr>\n",
       "    <tr>\n",
       "      <th>2</th>\n",
       "      <td>1</td>\n",
       "      <td>3</td>\n",
       "      <td>1</td>\n",
       "      <td>0</td>\n",
       "      <td>0</td>\n",
       "      <td>0</td>\n",
       "      <td>1</td>\n",
       "    </tr>\n",
       "    <tr>\n",
       "      <th>3</th>\n",
       "      <td>1</td>\n",
       "      <td>1</td>\n",
       "      <td>1</td>\n",
       "      <td>0</td>\n",
       "      <td>0</td>\n",
       "      <td>0</td>\n",
       "      <td>1</td>\n",
       "    </tr>\n",
       "    <tr>\n",
       "      <th>4</th>\n",
       "      <td>0</td>\n",
       "      <td>3</td>\n",
       "      <td>0</td>\n",
       "      <td>1</td>\n",
       "      <td>0</td>\n",
       "      <td>0</td>\n",
       "      <td>1</td>\n",
       "    </tr>\n",
       "  </tbody>\n",
       "</table>\n",
       "</div>"
      ],
      "text/plain": [
       "   Survived  Pclass  female  male  C  Q  S\n",
       "0         0       3       0     1  0  0  1\n",
       "1         1       1       1     0  1  0  0\n",
       "2         1       3       1     0  0  0  1\n",
       "3         1       1       1     0  0  0  1\n",
       "4         0       3       0     1  0  0  1"
      ]
     },
     "execution_count": 3,
     "metadata": {},
     "output_type": "execute_result"
    }
   ],
   "source": [
    "titanic.drop(['Name','Age', 'Parch', 'SibSp', 'Ticket', 'Fare', 'PassengerId', 'Cabin'], axis=1, inplace=True)\n",
    "df=titanic\n",
    "print(df.groupby('Survived').size(), '\\n')\n",
    "print(df.groupby('Pclass').size(), '\\n')\n",
    "print(df.groupby('Embarked').size(), '\\n')\n",
    "sex = pd.get_dummies(df['Sex'],drop_first=False) # drop_first=True implies dropping the first column to avoid multicollinearity\n",
    "embark = pd.get_dummies(df['Embarked'],drop_first=False)\n",
    "df = pd.concat([df,sex,embark],axis=1) # adding in the dummy variable in the remaining 'DataFrame' object\n",
    "df.drop(['Sex', 'Embarked'], axis=1, inplace=True)\n",
    "df.head()"
   ]
  },
  {
   "cell_type": "markdown",
   "metadata": {},
   "source": [
    "Before we move onto the analysis, let's keep in mind that missing data is something that we always should care about when it comes to clustering. The K-modes algorithm accepts np.NaN values as missing values in the input matrix. However, users are strongly suggested to consider filling in the missing data themselves in a way that makes sense for the problem at hand. This is especially important in case of many missing values.\n",
    "\n",
    "The K-modes algorithm currently handles missing data as follows. When fitting the model, np.NaN values are encoded into their own category (let's call it \"unknown values\"). When predicting, the model treats any values in the input that (1) it has not seen before during training, or (2) are missing, as being a member of the \"unknown values\" category. Simply put, the algorithm treats any missing/unseen data as matching with each other but mismatching with non-missing/seen data when determining similarity between points. This is why we should always convert unknown values prior to training the model. \n",
    "\n",
    "The K-prototypes also accepts np.NaN values as missing values for the categorical variables, but does not accept missing values for the numerical values. It is up to the user to come up with a way of handling these missing data that is appropriate for the problem at hand.\n",
    "\n",
    "Based on the previous frequency analysis, there are no missing data in given columns, so let's move on to the K-modes analysis:"
   ]
  },
  {
   "cell_type": "code",
   "execution_count": 4,
   "metadata": {},
   "outputs": [
    {
     "name": "stdout",
     "output_type": "stream",
     "text": [
      "Cluster Centroids: \n",
      " [[1 3 1 0 0 0 1]\n",
      " [0 3 0 1 0 0 1]\n",
      " [0 3 0 1 1 0 0]]\n",
      "Cluster Labels: \n",
      " [1 0 0 0 1 1 1 1 0 0 0 0 1 1 0 0 1 1 0 0 1 1 0 1 0 0 2 1 0 1 2 0 0 1 2 1 2\n",
      " 1 0 0 0 0 2 0 0 1 1 0 2 0 1 1 0 0 2 1 0 2 0 1 2 0 1 1 2 2 0 1 0 1 1 0 1 2\n",
      " 1 1 1 1 1 0 1 1 0 1 0 0 1 1 0 1 1 1 1 1 1 1 2 2 0 1 0 1 1 1 1 1 0 1 1 0 1\n",
      " 2 1 0 2 1 1 1 2 0 1 1 2 0 1 2 1 1 0 1 2 1 0 0 1 2 0 1 1 2 2 0 0 1 1 1 1 0\n",
      " 1 1 1 0 1 1 1 2 0 1 1 1 1 0 1 1 1 1 0 0 1 1 1 1 0 1 2 1 1 2 1 1 0 2 1 1 0\n",
      " 1 0 1 1 1 0 1 0 1 0 0 1 1 0 0 1 1 1 2 1 0 1 2 0 2 1 0 1 1 1 0 0 1 0 1 1 1\n",
      " 1 1 1 1 1 1 1 0 0 1 1 0 1 0 1 0 1 1 2 0 1 1 2 1 0 0 1 1 1 0 1 1 0 0 0 0 0\n",
      " 0 1 1 1 1 0 1 1 1 0 0 1 1 0 2 0 0 0 1 1 0 1 1 1 1 1 2 1 1 1 0 0 0 2 0 1 2\n",
      " 2 0 1 0 0 1 1 0 1 1 0 0 2 0 0 0 0 1 1 0 0 1 0 0 1 1 0 0 1 0 1 0 0 0 0 1 1\n",
      " 1 0 1 1 0 1 1 1 0 1 1 1 0 0 0 1 1 1 1 2 1 2 1 0 0 0 0 1 2 2 1 1 1 0 0 0 0\n",
      " 2 1 1 2 0 0 0 2 2 1 0 0 1 0 1 1 1 0 1 0 1 1 1 0 0 1 0 1 1 0 1 1 0 1 0 1 1\n",
      " 1 1 0 1 1 0 1 1 0 0 0 1 0 2 1 1 0 1 1 0 0 1 1 1 0 0 1 1 0 0 0 1 1 0 1 1 0\n",
      " 1 1 0 1 0 1 1 1 2 2 1 2 1 0 0 1 1 1 1 1 1 1 1 1 1 0 1 1 0 0 0 1 1 1 1 0 1\n",
      " 1 1 0 2 0 0 2 1 1 1 1 1 2 1 2 0 1 0 1 1 0 0 0 0 2 0 1 1 1 1 1 1 0 1 1 0 1\n",
      " 0 1 0 1 2 0 2 1 0 1 1 1 0 2 2 0 0 0 1 0 1 0 0 0 0 1 2 1 0 2 1 1 2 1 1 2 0\n",
      " 1 0 2 0 0 1 1 1 1 0 1 1 0 2 1 1 0 1 0 1 1 0 0 2 1 0 0 1 2 2 0 1 2 1 1 1 0\n",
      " 1 0 1 1 0 1 2 2 0 1 1 1 2 1 1 1 0 0 0 1 0 1 1 0 1 0 0 1 2 1 2 1 1 1 1 0 1\n",
      " 1 1 1 2 1 0 0 1 1 0 1 1 0 0 1 0 2 1 2 1 0 1 0 1 0 0 1 1 0 1 2 1 2 1 1 1 1\n",
      " 1 1 1 0 0 1 1 1 1 1 1 0 0 2 0 2 1 1 1 2 1 1 1 0 1 0 1 2 1 1 1 0 2 1 0 1 2\n",
      " 1 1 1 0 1 0 2 0 1 1 1 1 1 0 0 1 1 0 1 1 1 1 1 0 0 1 0 0 2 1 1 1 1 0 2 1 1\n",
      " 1 1 0 1 1 1 1 0 1 1 0 1 1 1 0 1 1 1 1 0 1 1 2 0 1 0 2 0 1 1 1 1 0 2 0 1 1\n",
      " 0 1 0 0 0 1 1 1 1 0 1 1 2 1 1 0 2 1 1 0 0 2 0 1 0 1 2 1 1 1 0 1 0 1 1 1 0\n",
      " 1 1 0 2 1 1 0 1 1 0 1 1 1 2 1 0 0 1 2 1 1 0 1 1 1 2 1 1 0 2 1 1 1 2 1 0 1\n",
      " 1 2 0 0 0 0 1 0 2 1 1 0 0 1 0 0 1 1 1 1 0 1 1 0 0 1 1 1 0 0 1 0 1 1 0 1 0\n",
      " 0 2 1]\n"
     ]
    }
   ],
   "source": [
    "km = KModes(n_clusters=3, init='Huang', n_init=5, verbose=0)\n",
    "clusters = km.fit_predict(df)\n",
    "print('Cluster Centroids: \\n', km.cluster_centroids_)\n",
    "print('Cluster Labels: \\n', km.labels_)"
   ]
  },
  {
   "cell_type": "markdown",
   "metadata": {},
   "source": [
    "Now let's use the elbow method to select the optimal hyperparameter:"
   ]
  },
  {
   "cell_type": "code",
   "execution_count": 5,
   "metadata": {},
   "outputs": [
    {
     "data": {
      "text/plain": [
       "Text(0.5,1,'Elbow for KModes clustering')"
      ]
     },
     "execution_count": 5,
     "metadata": {},
     "output_type": "execute_result"
    },
    {
     "data": {
      "image/png": "[encoded data removed]",
      "text/plain": [
       "<matplotlib.figure.Figure at 0x22772135f98>"
      ]
     },
     "metadata": {},
     "output_type": "display_data"
    }
   ],
   "source": [
    "# kIdx = 9 # setting a generic K-value you want to highlight (the suspected K-value)\n",
    "\n",
    "K_vec = range(1,50)\n",
    "KM = [KModes(n_clusters=k).fit(df) for k in K_vec] # making a vector \n",
    "centroids = [j.cluster_centroids_ for j in KM]\n",
    "\n",
    "D_k = [cdist(df, cent, 'hamming') for cent in centroids]\n",
    "cIdx = [np.argmin(D,axis=1) for D in D_k]\n",
    "dist = [np.min(D,axis=1) for D in D_k]\n",
    "avgWithinSS = [sum(d)/df.shape[0] for d in dist]\n",
    "wcss = [sum(d**2) for d in dist] # calculating total within sum of square\n",
    "tss = sum(pdist(df)**2)/df.shape[0]\n",
    "bss = tss-wcss\n",
    "\n",
    "# elbow curve\n",
    "fig = plt.figure()\n",
    "ax = fig.add_subplot(111)\n",
    "ax.plot(K_vec, avgWithinSS, 'r*-')\n",
    "# ax.plot(K[kIdx], avgWithinSS[kIdx], marker='o', markersize=12, markeredgewidth=2, markeredgecolor='r', markerfacecolor='None')\n",
    "plt.grid(True)\n",
    "plt.xlabel('Number of clusters')\n",
    "plt.ylabel('Average within-cluster sum of squares')\n",
    "plt.title('Elbow for KModes clustering')"
   ]
  },
  {
   "cell_type": "markdown",
   "metadata": {},
   "source": [
    "Now let's check the silhouette values:"
   ]
  },
  {
   "cell_type": "code",
   "execution_count": 6,
   "metadata": {},
   "outputs": [
    {
     "data": {
      "image/png": "[encoded data removed]",
      "text/plain": [
       "<matplotlib.figure.Figure at 0x2277004da90>"
      ]
     },
     "metadata": {},
     "output_type": "display_data"
    }
   ],
   "source": [
    "sv = [] # initializing a vector of silhouette values\n",
    "for n_clusters in range(2,30):\n",
    "    kmodes = KModes(n_clusters=n_clusters)\n",
    "    kmodes.fit(df)\n",
    "    labels = kmodes.labels_\n",
    "    centroids = kmodes.cluster_centroids_\n",
    "    sv.append(silhouette_score(df, labels, metric='hamming'))\n",
    "\n",
    "plt.plot(sv)\n",
    "plt.ylabel(\"Silouette Values\")\n",
    "plt.xlabel(\"k\")\n",
    "plt.title(\"Silouette for K-modes cell's behaviour\")\n",
    "sns.despine()"
   ]
  },
  {
   "cell_type": "markdown",
   "metadata": {},
   "source": [
    "Additional Resources:\n",
    "   - http://www.irma-international.org/viewtitle/10828/\n",
    "   - https://github.com/nicodv/kmodes\n",
    "   - https://stackoverflow.com/questions/13625849/knn-classification-with-categorical-data"
   ]
  },
  {
   "cell_type": "code",
   "execution_count": null,
   "metadata": {
    "collapsed": true
   },
   "outputs": [],
   "source": []
  }
 ],
 "metadata": {
  "kernelspec": {
   "display_name": "Python 3",
   "language": "python",
   "name": "python3"
  },
  "language_info": {
   "codemirror_mode": {
    "name": "ipython",
    "version": 3
   },
   "file_extension": ".py",
   "mimetype": "text/x-python",
   "name": "python",
   "nbconvert_exporter": "python",
   "pygments_lexer": "ipython3",
   "version": "3.7.6"
  }
 },
 "nbformat": 4,
 "nbformat_minor": 2
}
