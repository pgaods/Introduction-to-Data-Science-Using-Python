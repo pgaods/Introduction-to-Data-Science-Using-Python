{
 "cells": [
  {
   "cell_type": "markdown",
   "metadata": {},
   "source": [
    "In this lecture, we continue to study the building blocks of deep learning and Google's TensorFlow framework. We have studied tensor objects extensively in previous lectures and now let's discuss topics related to variables, automatic differentiation, graphs, functions, modules and layers. This lecture is extremely abstract and they all come from the TensorFlow online documentation-TensorFlow Basics. In practical situations, data scientists may not directly utilize all the functionality of the platform but it's extremely helpful to understand these things from a conceptual level. "
   ]
  },
  {
   "cell_type": "code",
   "execution_count": 3,
   "metadata": {},
   "outputs": [],
   "source": [
    "import numpy as np\n",
    "import pandas as pd\n",
    "import matplotlib.pyplot as plt\n",
    "import seaborn as sns\n",
    "import tensorflow as tf\n",
    "import os\n",
    "\n",
    "from tensorflow.keras.models import Sequential\n",
    "from tensorflow.keras.layers import Dense\n",
    "from tensorflow.keras.layers import Activation\n",
    "from tensorflow.keras.constraints import max_norm\n",
    "from tensorflow.keras.layers import Dropout\n",
    "from tensorflow.keras.optimizers import SGD\n",
    "from tensorflow.keras.utils import to_categorical\n",
    "from tensorflow.keras.datasets import mnist\n",
    "\n",
    "%matplotlib inline"
   ]
  },
  {
   "cell_type": "code",
   "execution_count": 4,
   "metadata": {},
   "outputs": [],
   "source": [
    "#path=\"C:\\\\Users\\\\gao\\\\GAO_Jupyter_Notebook\\\\Datasets\"\n",
    "#os.chdir(path)\n",
    "\n",
    "path=\"C:\\\\Users\\\\pgao\\\\Documents\\\\PGZ Documents\\\\Programming Workshop\\\\PYTHON\\\\Open Courses on Python\\\\Udemy Course on Python\\Introduction to Data Science Using Python\\\\datasets\"\n",
    "os.chdir(path)"
   ]
  },
  {
   "cell_type": "markdown",
   "metadata": {},
   "source": [
    "### I. Variables in TensorFlow\n",
    "\n",
    "In the TensorFlow platform, variables are created and tracked via the 'tf.Variable' class. A 'tf.Variable' class represents a tensor whose value can be changed by running ops on it. Specific ops allow you to read and modify the values of this tensor. Higher level libraries like 'tf.keras' use 'tf.Variable' to store model parameters.\n",
    "\n",
    "To create a variable, simply provide an initial value. The 'tf.Variable' class will have the same 'dtype' as the initialization value. Variables can be all kinds of types, just like tensors. "
   ]
  },
  {
   "cell_type": "code",
   "execution_count": 3,
   "metadata": {},
   "outputs": [
    {
     "name": "stdout",
     "output_type": "stream",
     "text": [
      "<class 'tensorflow.python.ops.resource_variable_ops.ResourceVariable'>\n",
      "<class 'tensorflow.python.ops.resource_variable_ops.ResourceVariable'>\n",
      "<class 'tensorflow.python.ops.resource_variable_ops.ResourceVariable'>\n"
     ]
    }
   ],
   "source": [
    "my_tensor = tf.constant([[1.0, 2.0], [3.0, 4.0], [5.0, 9.0]])\n",
    "my_variable = tf.Variable(my_tensor)\n",
    "\n",
    "bool_variable = tf.Variable([False, False, False, True]) # booleans\n",
    "\n",
    "complex_variable = tf.Variable([[5+4j, 6+1j], [7-3j, 6j]]) # complex numbers\n",
    "\n",
    "print(type(my_variable))\n",
    "print(type(bool_variable))\n",
    "print(type(complex_variable))"
   ]
  },
  {
   "cell_type": "markdown",
   "metadata": {},
   "source": [
    "A variable looks and acts like a tensor, and, in fact, is a data structure backed by a 'tf.Tensor'. Like tensors, they have a 'dtype' and a shape, and can be exported to the numpy framework:"
   ]
  },
  {
   "cell_type": "code",
   "execution_count": 4,
   "metadata": {},
   "outputs": [
    {
     "name": "stdout",
     "output_type": "stream",
     "text": [
      "Shape:  (3, 2)\n",
      "DType:  <dtype: 'float32'>\n",
      "As numpy:  [[1. 2.]\n",
      " [3. 4.]\n",
      " [5. 9.]] \n",
      "\n",
      "Shape:  (4,)\n",
      "DType:  <dtype: 'bool'>\n",
      "As numpy:  [False False False  True] \n",
      "\n",
      "Shape:  (2, 2)\n",
      "DType:  <dtype: 'complex128'>\n",
      "As numpy:  [[5.+4.j 6.+1.j]\n",
      " [7.-3.j 0.+6.j]] \n",
      "\n",
      "\n",
      "Viewed as a tensor: tf.Tensor(\n",
      "[[1. 2.]\n",
      " [3. 4.]\n",
      " [5. 9.]], shape=(3, 2), dtype=float32)\n",
      "\n",
      "Index of highest value: tf.Tensor([2 2], shape=(2,), dtype=int64)\n"
     ]
    }
   ],
   "source": [
    "print(\"Shape: \", my_variable.shape)\n",
    "print(\"DType: \", my_variable.dtype)\n",
    "print(\"As numpy: \", my_variable.numpy(), '\\n')\n",
    "\n",
    "print(\"Shape: \", bool_variable.shape)\n",
    "print(\"DType: \", bool_variable.dtype)\n",
    "print(\"As numpy: \", bool_variable.numpy(), '\\n')\n",
    "\n",
    "print(\"Shape: \", complex_variable.shape)\n",
    "print(\"DType: \", complex_variable.dtype)\n",
    "print(\"As numpy: \", complex_variable.numpy(), '\\n')\n",
    "\n",
    "print(\"\\nViewed as a tensor:\", tf.convert_to_tensor(my_variable))\n",
    "print(\"\\nIndex of highest value:\", tf.argmax(my_variable))"
   ]
  },
  {
   "cell_type": "markdown",
   "metadata": {},
   "source": [
    "Of course, you can pass variables to functions and evaluate the value of the function. For example, below we create a data vector called 'my_data', based on which a variable called 'my_var' is created. You can plug the variable as an argument inside the function tf.reduce_mean(), which computes the mean of elements across dimensions of a tensor:"
   ]
  },
  {
   "cell_type": "code",
   "execution_count": 5,
   "metadata": {},
   "outputs": [
    {
     "name": "stdout",
     "output_type": "stream",
     "text": [
      "(2, 2)\n",
      "6.0\n"
     ]
    },
    {
     "data": {
      "text/plain": [
       "<tf.Tensor: id=49, shape=(), dtype=float32, numpy=6.0>"
      ]
     },
     "execution_count": 5,
     "metadata": {},
     "output_type": "execute_result"
    }
   ],
   "source": [
    "my_data = tf.constant([[1.0, 2.0], [9., 12.]])\n",
    "my_var = tf.Variable(my_data)\n",
    "print(my_var.shape)\n",
    "print(tf.reduce_mean(my_var).numpy())\n",
    "tf.reduce_mean(my_var)"
   ]
  },
  {
   "cell_type": "markdown",
   "metadata": {},
   "source": [
    "Most tensor operations work on variables as expected, although variables cannot be reshaped. Below is an example that creates a new tensor yet it doesnt' reshape the variable:"
   ]
  },
  {
   "cell_type": "code",
   "execution_count": 6,
   "metadata": {},
   "outputs": [
    {
     "name": "stdout",
     "output_type": "stream",
     "text": [
      "\n",
      "Copying and reshaping:  tf.Tensor([[1. 2. 3. 4. 5. 9.]], shape=(1, 6), dtype=float32)\n"
     ]
    }
   ],
   "source": [
    "print(\"\\nCopying and reshaping: \", tf.reshape(my_variable, ([1,6])))"
   ]
  },
  {
   "cell_type": "markdown",
   "metadata": {},
   "source": [
    "Variables are backed by tensors. You can reassign the tensor using tf.Variable.assign() class. Calling the assignment does not (usually) allocate a new tensor; instead, the existing tensor's memory is reused. \n",
    "\n",
    "Below let's see an example. We create a variable called 'var1' with a length of 2 and the 'dtype' is set to be float32. When you reassign the variable, think about the variable as a container: because we fit in two numeric numbers in float32 data type, we expect that after the reassignment, the 'dtype' remains the same, the shape remains the same. Really, reassignment of values means switching exact the same type of content in the 'container' (tensor), nothing else should change. If the original 'container' are all float32, your swapped values must be also float32; if originally you have a a shape(2,), then after the swap the shape should remain to be the same. Any deviations from these rules will trigger an error:"
   ]
  },
  {
   "cell_type": "code",
   "execution_count": 7,
   "metadata": {},
   "outputs": [
    {
     "name": "stdout",
     "output_type": "stream",
     "text": [
      "<tf.Variable 'Variable:0' shape=(2,) dtype=float32, numpy=array([2.09, 3.01], dtype=float32)>\n",
      "[2.09 3.01]\n"
     ]
    }
   ],
   "source": [
    "var1 = tf.Variable([2.09, 3.01])\n",
    "print(var1)\n",
    "print(var1.numpy())"
   ]
  },
  {
   "cell_type": "code",
   "execution_count": 8,
   "metadata": {},
   "outputs": [
    {
     "name": "stdout",
     "output_type": "stream",
     "text": [
      "[1.45 9.24]\n"
     ]
    }
   ],
   "source": [
    "var1.assign([1.45, 9.24]) # this will keep the same dtype, float32 and the same shape (2,)\n",
    "print(var1.numpy())"
   ]
  },
  {
   "cell_type": "code",
   "execution_count": 9,
   "metadata": {},
   "outputs": [
    {
     "name": "stdout",
     "output_type": "stream",
     "text": [
      "Shapes (2,) and (3,) are incompatible, shape must be the same for reassignment!\n"
     ]
    }
   ],
   "source": [
    "try:\n",
    "    var1.assign([1.45, 9.24, 3.56]) # this violates the fact that the tensor shape is the same\n",
    "except ValueError:\n",
    "    print(\"Shapes (2,) and (3,) are incompatible, shape must be the same for reassignment!\")"
   ]
  },
  {
   "cell_type": "code",
   "execution_count": 10,
   "metadata": {},
   "outputs": [
    {
     "name": "stdout",
     "output_type": "stream",
     "text": [
      "Cannot convert ['dogs', 'cats'] to EagerTensor of dtype float because the original tensor expects the same dtype!\n"
     ]
    }
   ],
   "source": [
    "try:\n",
    "    var1.assign(['dogs', 'cats']) # this violates the fact that the tensor dype is the same\n",
    "    print(var1.numpy())\n",
    "except TypeError:\n",
    "    print(\"Cannot convert ['dogs', 'cats'] to EagerTensor of dtype float because the original tensor expects the same dtype!\")\n"
   ]
  },
  {
   "cell_type": "markdown",
   "metadata": {},
   "source": [
    "If you use a variable like a tensor in operations, you will usually operate on the backing tensor. Creating new variables from existing variables duplicates the backing tensors. Two variables will not share the same memory.\n",
    "\n",
    "Below is an example. The variable 'var3' is based on the variable 'var2' originally. When you reassign values to 'var2', 'var3' won't change. This is a good behavior from a TensorFlow design perspective. Otherwise, it would be too hard to keep track of all the reassignment and this makes program maintenability an insurmountable task. "
   ]
  },
  {
   "cell_type": "code",
   "execution_count": 11,
   "metadata": {},
   "outputs": [
    {
     "name": "stdout",
     "output_type": "stream",
     "text": [
      "[5. 6.]\n",
      "[2. 3.]\n"
     ]
    }
   ],
   "source": [
    "var2 = tf.Variable([2.0, 3.0])\n",
    "var3 = tf.Variable(var2)\n",
    "var2.assign([5, 6])\n",
    "\n",
    "print(var2.numpy())\n",
    "print(var3.numpy())"
   ]
  },
  {
   "cell_type": "markdown",
   "metadata": {},
   "source": [
    "In Python-based TensorFlow, 'tf.Variable' instance have the same lifecycle as other Python objects. When there are no references to a variable it is automatically deallocated.\n",
    "\n",
    "Variables can also be named which can help you track and debug them. You can give two variables the same name. Variable names are preserved when saving and loading models. By default, variables in models will acquire unique variable names automatically, so you don't need to assign them yourself unless you want to.\n",
    "\n",
    "For better performance, TensorFlow will attempt to place tensors and variables on the fastest device compatible with its dtype. This means most variables are placed on a GPU if one is available. However, you can override this. The online documentatioh has more details on this. We will not elaborate here. "
   ]
  },
  {
   "cell_type": "markdown",
   "metadata": {},
   "source": [
    "### II. Gradients and Automatic Differentiation in TensorFlow\n",
    "\n",
    "During the past decade, TensorFlow wasn't the only platform researchers developed to solve large-scale deep learning prolems. A variety of powerful neural net frameworks have been developed, including Torch, Caffe, Theano, and PyTorch. These frameworks make it easy to quickly implement a sophisticated neural net model. By far, TensorFlow is the most sophisticated package we have and it has many advantages. Here are some of the features provided by TensorFlow and by some or all of the other frameworks besides TensorFlow:\n",
    "\n",
    "  - Automatic differentiation.: if one implements a neural net directly on top of base package such as 'numpy', much of the implementational work involves writing procedures to compute derivatives. TensorFlow automatically constructs routines for computing derivatives which are generally at least as efficient as the ones we would have written by hand.\n",
    "  - Compiling computation graphs: if we implement a network in base package such as 'numpy', a lot of time is wasted allocating and deallocating memory for matrices. TensorFlow takes a different approach: you first build a graph defining the network's computation, and TensorFlow figures out an efficient strategy for performing those computations. It handles memory better and performs some other code optimizations.\n",
    "  - GPU: graphics processing units (GPUs) are a particular parallel architecture which has been especially powerful in training neural nets. It can be a huge pain to write GPU routines at a low level, but TensorFlow provides an easy interface so that the same code can run on either a CPU or a GPU.\n",
    "\n",
    "For ANN projects, backpropogation is the secret sauce to the problems. Gradient descent inevitably requires computation of derivatives. TensorFlow has many built-in solutions for computing gradient and perform differentiation. Recall that **automatic differentiation** (AD) is a set of techniques to numerically evaluate the derivative of a function specified by a computer program. AD exploits the fact that every computer program, no matter how complicated, executes a sequence of elementary arithmetic operations (addition, subtraction, multiplication, division, etc.) and elementary functions (exp, log, sin, cos, etc.). "
   ]
  },
  {
   "cell_type": "markdown",
   "metadata": {},
   "source": [
    "Automatic differentiation is a complicated topic, We won't cover all of it. But what is fundamental to this concept is the chain rule. There are two related concepts that need to be understood: forward accumulation (or forward mode) and reverse accumulation (or reverse mode). For simplicity, let's use a univariate example. Suppose we have the following problem and we are interested in computing $f'(x)=\\frac{dy}{dx}$:\n",
    "\n",
    "   - $y=f(g(h(x)))=f(g(h(w_{0})))=f(g(w_{1})b)=f(w_{2})=w_{3}$\n",
    "   - $w_{0}=x$, $w_{1}=h(w_{0})$, $w_{2}=g(w_{1})$, $w_{3}=f(w_{2})=y$\n",
    "   \n",
    "By the chain rule, we have:\n",
    "   \n",
    "   - $f'(x)=\\frac{dy}{dx}=\\frac{dy}{dw_{2}}\\frac{dw_{2}}{dw_{1}}\\frac{dw_{1}}{dw_{0}}=\\frac{f(w_{2})}{dw_{2}}\\frac{dg(w_{1})}{dw_{1}}\\frac{dh(w_{0})}{dw_{0}}$\n",
    "   \n",
    "Usually, two distinct modes of AD are presented, forward accumulation (or forward mode) and reverse accumulation (or reverse mode). Forward accumulation specifies that one traverses the chain rule from inside to outside (so we first compute $\\frac{dw_{1}}{dw_{0}}$, then $\\frac{dw_{2}}{dw_{1}}$ etc.) while reverse accumulation has the traversal from outside to inside (so we first compute $\\frac{dw_{3}}{dw_{2}}$ then $\\frac{dw_{2}}{dw_{1}}$ etc.). More succinctly:"
   ]
  },
  {
   "cell_type": "code",
   "execution_count": 5,
   "metadata": {},
   "outputs": [
    {
     "data": {
      "image/png": "[encoded data removed]",
      "text/plain": [
       "<IPython.core.display.Image object>"
      ]
     },
     "execution_count": 5,
     "metadata": {
      "image/png": {
       "height": 500,
       "width": 500
      }
     },
     "output_type": "execute_result"
    }
   ],
   "source": [
    "from IPython.display import Image\n",
    "Image(\"differentiation order.PNG\", width=500, height=500)"
   ]
  },
  {
   "cell_type": "markdown",
   "metadata": {},
   "source": [
    "We now study how TensorFlow implements differentiation. Recall that to compute weights in ANN, we need to invoke backpropagation, which consists of two phases: forward pass and backward pass. To differentiate automatically, TensorFlow needs to remember what operations happen in what order during the forward pass. Then, during the backward pass, TensorFlow traverses this list of operations in reverse order to compute gradients.\n",
    "\n",
    "TensorFlow provides the tf.GradientTape() API for automatic differentiation; that is, computing the gradient of a computation with respect to some inputs, usually tf.Variables(). TensorFlow basically \"records\" relevant operations executed inside the context of tf.GradientTape() onto a \"tape\". It then uses that tape to compute the gradients of a \"recorded\" computation using the reverse mode differentiation.\n",
    "\n",
    "Let's see an example of differentiating  $y=x^{2}+6x$ at value $x=1.5$ for now:"
   ]
  },
  {
   "cell_type": "code",
   "execution_count": 13,
   "metadata": {},
   "outputs": [
    {
     "data": {
      "text/plain": [
       "9.0"
      ]
     },
     "execution_count": 13,
     "metadata": {},
     "output_type": "execute_result"
    }
   ],
   "source": [
    "x = tf.Variable(1.5)\n",
    "\n",
    "with tf.GradientTape() as tape:\n",
    "    y = x**2+6*x\n",
    "    \n",
    "dy_dx = tape.gradient(y, x)\n",
    "dy_dx.numpy()"
   ]
  },
  {
   "cell_type": "markdown",
   "metadata": {},
   "source": [
    "The above example uses scalars, but tf.GradientTape() works as easily on any tensor. Let's make the problem slightly more complicated by computing partial derivatives. Suppose I have a function $y(x,z)=x^{2}+6x-3z^{3}$ at value $x=-2.0$ and $z=2.0$ for now, I want to know the partial derivatives with respect to these variables. To compute multiple gradients over the same computation, we will need to add an argument to indicate a persistent gradient tape. This allows multiple calls to the tape.gradient() method as resources are released when the tape object is garbage collected. To get the gradient with respect to both variables, we can pass both variables as sources to the tape.gradient() method. The tape is flexible about how sources are passed and will accept any nested combination of lists or dictionaries and return the gradient structured the same way:"
   ]
  },
  {
   "cell_type": "code",
   "execution_count": 14,
   "metadata": {},
   "outputs": [
    {
     "name": "stdout",
     "output_type": "stream",
     "text": [
      "2.0\n",
      "-36.0\n"
     ]
    }
   ],
   "source": [
    "x = tf.Variable(-2.0)\n",
    "z = tf.Variable(2.0)\n",
    "\n",
    "with tf.GradientTape(persistent=True) as tape:\n",
    "    y = x**2+6*x-3*(z**3)\n",
    "    \n",
    "[dy_dx, dy_dz] = tape.gradient(y, [x, z])\n",
    "print(dy_dx.numpy())\n",
    "print(dy_dz.numpy())"
   ]
  },
  {
   "cell_type": "markdown",
   "metadata": {},
   "source": [
    "Let's see another example below treating $(w,b)$ as the parameters that is to be differentiated over:"
   ]
  },
  {
   "cell_type": "code",
   "execution_count": 15,
   "metadata": {},
   "outputs": [
    {
     "name": "stdout",
     "output_type": "stream",
     "text": [
      "[[-1.7297562   1.0375825 ]\n",
      " [ 0.04758498  0.0996372 ]\n",
      " [-0.16341075  0.03504228]]\n",
      "[0. 0.]\n",
      "[[1.0, 2.0, 3.0]]\n"
     ]
    }
   ],
   "source": [
    "w = tf.Variable(tf.random.normal((3, 2)), name='w')\n",
    "b = tf.Variable(tf.zeros(2, dtype=tf.float32), name='b')\n",
    "x = [[1., 2., 3.]]\n",
    "print(w.numpy())\n",
    "print(b.numpy())\n",
    "print(x)"
   ]
  },
  {
   "cell_type": "markdown",
   "metadata": {},
   "source": [
    "Notice the gradient with respect to each source has the shape of the source:"
   ]
  },
  {
   "cell_type": "code",
   "execution_count": 16,
   "metadata": {},
   "outputs": [
    {
     "name": "stdout",
     "output_type": "stream",
     "text": [
      "(3, 2)\n",
      "tf.Tensor([[-2.1248186  1.3419838]], shape=(1, 2), dtype=float32)\n",
      "tf.Tensor(\n",
      "[[-2.1248186  1.3419838]\n",
      " [-4.249637   2.6839676]\n",
      " [-6.3744555  4.0259514]], shape=(3, 2), dtype=float32)\n"
     ]
    }
   ],
   "source": [
    "with tf.GradientTape(persistent=True) as tape:\n",
    "    y = x @ w + b # the operator \"@\" means matrix multiplication\n",
    "    loss = tf.reduce_mean(y**2) # computing the mean of elements across dimensions of a tensor\n",
    "\n",
    "[dl_dw, dl_db] = tape.gradient(loss, [w, b])\n",
    "print(dl_dw.shape)\n",
    "print(y)\n",
    "print(dl_dw)"
   ]
  },
  {
   "cell_type": "markdown",
   "metadata": {},
   "source": [
    "Automatic differentiation is a complicated topic. Usually we won't need to program derivatives from scratch. So we won't go much deeper further. But a few other related topics are important. One of them is about controlling what the tape 'watches'. When we create a tape through the instance tf.GradientTape(), we are basically asking TensorFlow to keep track of whatever needs to be recorded for perform differentiation (and backpropagation for deep learning). The most useful application of a gradient 'tape' is when you design a custom layer in your keras model. \n",
    "\n",
    "The default behavior is to record all operations after accessing a trainable 'tf.Variable' object. The reasons for this are:\n",
    "   1. The tape needs to know which operations to record in the forward pass to calculate the gradients in the backwards pass.\n",
    "   2. The tape holds references to intermediate outputs, so you don't want to record unnecessary operations.\n",
    "   3. The most common use case involves calculating the gradient of a loss with respect to all a model's trainable variables.\n",
    "\n",
    "So in order for the tape to work, we need two criteria: 1) we are dealing with a 'tf.Variable' object, and 2) this object must be trainable. If you only have a tensor, or you have a 'tf.Variable' object that is not trainable, then the tape won't pick it up.\n",
    "\n",
    "For example the following fails to calculate a gradient because the 'tf.Tensor' object is not 'watched' by default, and the 'tf.Variable' object is not trainable. Below, only the variable 'x0' can be picked up correctly by the tape. The rest of them won't:"
   ]
  },
  {
   "cell_type": "code",
   "execution_count": 17,
   "metadata": {},
   "outputs": [
    {
     "name": "stdout",
     "output_type": "stream",
     "text": [
      "tf.Tensor(6.0, shape=(), dtype=float32)\n",
      "None\n",
      "None\n",
      "None\n"
     ]
    }
   ],
   "source": [
    "# A trainable variable\n",
    "x0 = tf.Variable(3.0, name='x0') # a trainable variale that can be picked up by the tape\n",
    "x1 = tf.Variable(3.0, name='x1', trainable=False) # this is not a trainable tf.Variable object\n",
    "x2 = tf.Variable(2.0, name='x2') + 1.0 # this is not a tf.Variable because variable+tensor returns a tensor\n",
    "x3 = tf.constant(3.0, name='x3') # this is not a variable\n",
    "\n",
    "with tf.GradientTape() as tape:\n",
    "    y = (x0**2) + (x1**2) + (x2**2)\n",
    "\n",
    "grad = tape.gradient(y, [x0, x1, x2, x3])\n",
    "\n",
    "for g in grad:\n",
    "    print(g)"
   ]
  },
  {
   "cell_type": "markdown",
   "metadata": {},
   "source": [
    "To deal with the issue above, tf.GradientTape() instance provides hooks that give the user control over what is or is not watched. To record gradients with respect to a 'tf.Tensor' object, you need to call GradientTape.watch(x):"
   ]
  },
  {
   "cell_type": "code",
   "execution_count": 18,
   "metadata": {},
   "outputs": [
    {
     "name": "stdout",
     "output_type": "stream",
     "text": [
      "6.0\n"
     ]
    }
   ],
   "source": [
    "v = tf.constant(3.0)\n",
    "with tf.GradientTape() as tape:\n",
    "    tape.watch(v) # because x is not a tf.Variable object we need to watch it by explicitly stating it\n",
    "    y = v**2\n",
    "\n",
    "dy_dv = tape.gradient(y, v)\n",
    "print(dy_dv.numpy())"
   ]
  },
  {
   "cell_type": "markdown",
   "metadata": {},
   "source": [
    "Conversely, to disable the default behavior of watching all 'tf.Variables' objects , we can set 'watch_accessed_variables=False' when creating the gradient tape. Below, the example uses two variables, but only connects the gradient for one of the variables. Since GradientTape.watch() was not called on the variable 'x0', no gradient is computed with respect to it:"
   ]
  },
  {
   "cell_type": "code",
   "execution_count": 19,
   "metadata": {},
   "outputs": [
    {
     "name": "stdout",
     "output_type": "stream",
     "text": [
      "dy/dx0: None\n",
      "dy/dx1: 0.9999546\n"
     ]
    }
   ],
   "source": [
    "x0 = tf.Variable(0.0)\n",
    "x1 = tf.Variable(10.0)\n",
    "\n",
    "with tf.GradientTape(watch_accessed_variables=False) as tape:\n",
    "    tape.watch(x1)\n",
    "    y0 = tf.math.sin(x0)\n",
    "    y1 = tf.nn.softplus(x1)\n",
    "    y = y0 + y1\n",
    "    ys = tf.reduce_sum(y)\n",
    "\n",
    "grad = tape.gradient(ys, {'x0': x0, 'x1': x1})\n",
    "\n",
    "print('dy/dx0:', grad['x0'])\n",
    "print('dy/dx1:', grad['x1'].numpy())\n",
    "\n",
    "del tape # deleting the tape"
   ]
  },
  {
   "cell_type": "markdown",
   "metadata": {},
   "source": [
    "One cautionary note: gradient tapes use memory to store intermediate results, including inputs and outputs, for use during the backwards pass. For efficiency, some operations (like ReLU) don't need to keep their intermediate results and they are pruned during the forward pass. However, if the option 'persistent=True' is invoked for the tape, nothing is discarded and the peak memory usage will be higher.\n",
    "\n",
    "We can also compute the gradient of the nonscalar targets because a gradient is fundamentally an operation on a scalar. Thus, if you ask for the gradient of multiple targets, the result for each source is the gradient of the sum of the targets, a.k.a. the sum of the gradients of each target. TensorFlow designed the computation in this default manner because it is simple to take the gradient of the sum of a collection of losses, or the gradient of the sum of an element-wise loss calculation when we are dealing with ANNs."
   ]
  },
  {
   "cell_type": "code",
   "execution_count": 20,
   "metadata": {},
   "outputs": [
    {
     "name": "stdout",
     "output_type": "stream",
     "text": [
      "3.75\n"
     ]
    }
   ],
   "source": [
    "x = tf.Variable(2.0)\n",
    "with tf.GradientTape() as tape:\n",
    "    y0 = x**2\n",
    "    y1 = 1 / x\n",
    "\n",
    "print(tape.gradient({'y0': y0, 'y1': y1}, x).numpy()) # b/c f'(x)=2x-1/(x^2)=4-0.25=3.75"
   ]
  },
  {
   "cell_type": "markdown",
   "metadata": {},
   "source": [
    "Similarly, if the target(s) are not scalar the gradient of the sum is calculated (below the variable $y$ is not a scalar):"
   ]
  },
  {
   "cell_type": "code",
   "execution_count": 21,
   "metadata": {},
   "outputs": [
    {
     "name": "stdout",
     "output_type": "stream",
     "text": [
      "7.0\n",
      "tf.Tensor([6. 8.], shape=(2,), dtype=float32)\n"
     ]
    }
   ],
   "source": [
    "x = tf.Variable(2.)\n",
    "\n",
    "with tf.GradientTape() as tape:\n",
    "    y = x * [3., 4.]\n",
    "\n",
    "print(tape.gradient(y, x).numpy())\n",
    "print(y)"
   ]
  },
  {
   "cell_type": "markdown",
   "metadata": {},
   "source": [
    "Because tapes record operations as they are executed, Python control flow (using statements such as \"if\" and \"while\" for example) can naturally be handled:"
   ]
  },
  {
   "cell_type": "code",
   "execution_count": 22,
   "metadata": {},
   "outputs": [
    {
     "name": "stdout",
     "output_type": "stream",
     "text": [
      "tf.Tensor(3.0, shape=(), dtype=float32)\n",
      "None\n"
     ]
    }
   ],
   "source": [
    "x = tf.constant(1.2)\n",
    "\n",
    "v0 = tf.Variable(2.0)\n",
    "v1 = tf.Variable(2.0)\n",
    "\n",
    "with tf.GradientTape(persistent=True) as tape:\n",
    "    tape.watch(x)\n",
    "    if x > 0.0:\n",
    "        result = 3*v0\n",
    "    else:\n",
    "        result = v1**2-9\n",
    "\n",
    "dy_dv0, dy_dv1 = tape.gradient(result, [v0, v1])\n",
    "\n",
    "print(dy_dv0)\n",
    "print(dy_dv1)"
   ]
  },
  {
   "cell_type": "markdown",
   "metadata": {},
   "source": [
    "So far, we have seen a lot of 'None' values like the example before, in general, when a target is not connected to a source you will get a gradient of 'None'. Although in many scenarios it's easy to debug and find the cause, but there are certain subtle cases where it's not easy to debug. TensorFlow's official documentation has a few examples. We won't discuss further here (c.f. https://www.tensorflow.org/guide/autodiff). "
   ]
  },
  {
   "cell_type": "markdown",
   "metadata": {},
   "source": [
    "### III. Graphs and Functions in TensorFlow\n",
    "\n",
    "To understand graphs, we first need to go over the concept of eager execution. TensorFlow's **eager execution** is an imperative programming environment that evaluates operations immediately, without building some pre-made 'container' or roadmap: operations return concrete values instead of constructing a computational graph to run later. This makes it easy to get started with TensorFlow and debug models, and it reduces boilerplate as well. In TensorFlow 2.0 version above, eager execution is enabled by default. In other words, eager execution implies that TensorFlow operations are executed by Python, operation by operation, and returning results back to Python. Eager TensorFlow takes advantage of GPUs, allowing you to place variables, tensors, and even operations on GPUs and TPUs. However, running TensorFlow operation-by-operation in Python prevents a host of accelerations otherwise available. This is where graphs play a role in: if you can extract tensor computations from Python, you can make them into a graph. This makes our execution more flexibile in some of the scenarios. \n",
    "\n",
    "**TensorFlow Graphs** are data structures that contain a set of 'tf.Operation' objects, which represent units of computation; and 'tf.Tensor' objects, which represent the units of data that flow between operations. They are defined in a 'tf.Graph' context. Since these graphs are data structures, they can be saved, run, and restored all without the original Python code. You can use your TensorFlow graph in environments that don't even have a Python interpreter, like mobile applications, embedded devices, and backend servers. TensorFlow uses graphs as the format for saved models when it exports them from Python. In short, graphs are extremely useful and let your TensorFlow run fast, run in parallel, and run efficiently on multiple devices."
   ]
  },
  {
   "cell_type": "markdown",
   "metadata": {},
   "source": [
    "Now let's study how we can create and trace graphs. The way you create a graph in TensorFlow is to use tf.function(), either as a direct call or as a **Python decorator**. Before we move on, let's study Python decorator for a moment, which provides a simple syntax for calling **higher-order functions**. By higher-order function, we mean a function that either 1) takes one or more functions as arguments (i.e. procedural parameters), or 2) returns a function as its result. By definition, a decorator is a function that takes another function and extends the behavior of the latter function without explicitly modifying it.\n",
    "\n",
    "Here is some jargon in computer science. Python’s functions are in essence **first-class objects**. This means you can assign them to variables, store them in data structures, pass them as arguments to other functions, and even return them as values from other functions. Let's use some examples here. Consider the following 3 functions. Two of the functions are common (say_hello() and be_awesome()) as they are regular in the sense that expect a name given as a string. The greet_bob() function however, expects a function as its argument. We can, for instance, pass it the say_hello() or the be_awesome() function:"
   ]
  },
  {
   "cell_type": "code",
   "execution_count": 23,
   "metadata": {},
   "outputs": [],
   "source": [
    "def say_hello(name):\n",
    "    return f\"Hello {name}\"\n",
    "\n",
    "def be_awesome(name):\n",
    "    return f\"Yo {name}, together we are the awesomest!\"\n",
    "\n",
    "def greet_bob(greeter_func):\n",
    "    return greeter_func(\"Bob\")"
   ]
  },
  {
   "cell_type": "code",
   "execution_count": 24,
   "metadata": {},
   "outputs": [
    {
     "data": {
      "text/plain": [
       "'Hello Bob'"
      ]
     },
     "execution_count": 24,
     "metadata": {},
     "output_type": "execute_result"
    }
   ],
   "source": [
    "greet_bob(say_hello)"
   ]
  },
  {
   "cell_type": "code",
   "execution_count": 25,
   "metadata": {},
   "outputs": [
    {
     "data": {
      "text/plain": [
       "'Yo Bob, together we are the awesomest!'"
      ]
     },
     "execution_count": 25,
     "metadata": {},
     "output_type": "execute_result"
    }
   ],
   "source": [
    "greet_bob(be_awesome)"
   ]
  },
  {
   "cell_type": "markdown",
   "metadata": {},
   "source": [
    "It’s possible to define functions inside other functions. Such functions are called inner functions. Here’s an example of a function with two inner functions. Note that whenever you call parent(), the inner functions first_child() and second_child() are also called. But because of their local scope, they aren’t available outside of the parent() function."
   ]
  },
  {
   "cell_type": "code",
   "execution_count": 26,
   "metadata": {},
   "outputs": [
    {
     "name": "stdout",
     "output_type": "stream",
     "text": [
      "Printing from the 'parent()' function\n",
      "Printing from the 'second_child()' function\n",
      "Printing from the 'first_child()' function\n"
     ]
    }
   ],
   "source": [
    "def parent():\n",
    "    print(\"Printing from the 'parent()' function\")\n",
    "\n",
    "    def first_child():\n",
    "        print(\"Printing from the 'first_child()' function\")\n",
    "\n",
    "    def second_child():\n",
    "        print(\"Printing from the 'second_child()' function\")\n",
    "\n",
    "    second_child()\n",
    "    first_child()\n",
    "    \n",
    "parent()"
   ]
  },
  {
   "cell_type": "markdown",
   "metadata": {},
   "source": [
    "Python also allows you to use functions as return values. The following example returns one of the inner functions from the outer parent2() function. Note that you are returning 'first_child' without the parentheses. Recall that this means that you are returning a reference to the function first_child(). In contrast first_child() with parentheses refers to the result of evaluating the function. Compare the result between parent2(1) and parent2(2) below:"
   ]
  },
  {
   "cell_type": "code",
   "execution_count": 27,
   "metadata": {},
   "outputs": [],
   "source": [
    "def parent2(num):\n",
    "    def first_child():\n",
    "        return \"Hi, I am Emma\"\n",
    "\n",
    "    def second_child():\n",
    "        return \"Call me Liam\"\n",
    "\n",
    "    if num == 1:\n",
    "        return first_child # no parenthesis here\n",
    "    elif num == 2:\n",
    "        return second_child() # having a parenthesis here\n",
    "    else: \n",
    "        print('Too many kids I can handle!')"
   ]
  },
  {
   "cell_type": "code",
   "execution_count": 28,
   "metadata": {},
   "outputs": [
    {
     "data": {
      "text/plain": [
       "<function __main__.parent2.<locals>.first_child()>"
      ]
     },
     "execution_count": 28,
     "metadata": {},
     "output_type": "execute_result"
    }
   ],
   "source": [
    "parent2(1)"
   ]
  },
  {
   "cell_type": "code",
   "execution_count": 29,
   "metadata": {},
   "outputs": [
    {
     "data": {
      "text/plain": [
       "'Call me Liam'"
      ]
     },
     "execution_count": 29,
     "metadata": {},
     "output_type": "execute_result"
    }
   ],
   "source": [
    "parent2(2)"
   ]
  },
  {
   "cell_type": "markdown",
   "metadata": {},
   "source": [
    "Now let's create another two object: 'first' and 'second'. And then we can compare. If you call first(), it basically grabs the result of the first inner function. Yet if you call second(), we see that it causes an error. "
   ]
  },
  {
   "cell_type": "code",
   "execution_count": 30,
   "metadata": {},
   "outputs": [],
   "source": [
    "first = parent2(1)\n",
    "second = parent2(2)"
   ]
  },
  {
   "cell_type": "code",
   "execution_count": 31,
   "metadata": {},
   "outputs": [
    {
     "data": {
      "text/plain": [
       "'Hi, I am Emma'"
      ]
     },
     "execution_count": 31,
     "metadata": {},
     "output_type": "execute_result"
    }
   ],
   "source": [
    "first()"
   ]
  },
  {
   "cell_type": "code",
   "execution_count": 32,
   "metadata": {},
   "outputs": [
    {
     "name": "stdout",
     "output_type": "stream",
     "text": [
      "'str' object is not callable\n"
     ]
    }
   ],
   "source": [
    "try:\n",
    "    second()\n",
    "except TypeError:\n",
    "    print(\"'str' object is not callable\")"
   ]
  },
  {
   "cell_type": "code",
   "execution_count": 33,
   "metadata": {},
   "outputs": [
    {
     "data": {
      "text/plain": [
       "'Call me Liam'"
      ]
     },
     "execution_count": 33,
     "metadata": {},
     "output_type": "execute_result"
    }
   ],
   "source": [
    "second"
   ]
  },
  {
   "cell_type": "markdown",
   "metadata": {},
   "source": [
    "Now let's create an example to formally introduce decorators. Below, we create a function called my_decorator(), which needs a function as its argument. There is an inner function called wrapper(). Finally, we will create an object called 'say_whee' by calling the function my_decorator with say_whee() as its argument, since say_whee() itself is a function that only prints \"whee!\":"
   ]
  },
  {
   "cell_type": "code",
   "execution_count": 34,
   "metadata": {},
   "outputs": [],
   "source": [
    "def my_decorator(func):\n",
    "    def wrapper():\n",
    "        print(\"Something is happening before the function is called.\")\n",
    "        func()\n",
    "        print(\"Something is happening after the function is called.\")\n",
    "    return wrapper\n",
    "\n",
    "def say_whee():\n",
    "    print(\"Whee!\")\n",
    "\n",
    "say_whee= my_decorator(say_whee) # this is where the decoration happens"
   ]
  },
  {
   "cell_type": "code",
   "execution_count": 35,
   "metadata": {},
   "outputs": [
    {
     "name": "stdout",
     "output_type": "stream",
     "text": [
      "Something is happening before the function is called.\n",
      "Whee!\n",
      "Something is happening after the function is called.\n"
     ]
    }
   ],
   "source": [
    "say_whee()"
   ]
  },
  {
   "cell_type": "code",
   "execution_count": 36,
   "metadata": {},
   "outputs": [
    {
     "data": {
      "text/plain": [
       "<function __main__.my_decorator.<locals>.wrapper()>"
      ]
     },
     "execution_count": 36,
     "metadata": {},
     "output_type": "execute_result"
    }
   ],
   "source": [
    "say_whee"
   ]
  },
  {
   "cell_type": "markdown",
   "metadata": {},
   "source": [
    "In effect, the name say_whee now points to the wrapper() inner function. Remember that you return wrapper as a function when you call my_decorator(say_whee). Essentially, what happens here is that decorators wrap a function, modifying its behavior. Because the code above is a bit cumbersome, we can use the \"pie syntax\" that starts with the \"@\" symbol. So using the example above, @my_decorator is just an easier way of saying say_whee = my_decorator(say_whee). It’s how you apply a decorator to a function:"
   ]
  },
  {
   "cell_type": "code",
   "execution_count": 37,
   "metadata": {},
   "outputs": [],
   "source": [
    "def my_decorator(func):\n",
    "    def wrapper():\n",
    "        print(\"Something is happening before the function is called.\")\n",
    "        func()\n",
    "        print(\"Something is happening after the function is called.\")\n",
    "    return wrapper\n",
    "\n",
    "@my_decorator\n",
    "def say_whee():\n",
    "    print(\"Whee!\")"
   ]
  },
  {
   "cell_type": "code",
   "execution_count": 38,
   "metadata": {},
   "outputs": [
    {
     "name": "stdout",
     "output_type": "stream",
     "text": [
      "Something is happening before the function is called.\n",
      "Whee!\n",
      "Something is happening after the function is called.\n"
     ]
    }
   ],
   "source": [
    "say_whee()"
   ]
  },
  {
   "cell_type": "code",
   "execution_count": 39,
   "metadata": {},
   "outputs": [
    {
     "data": {
      "text/plain": [
       "<function __main__.my_decorator.<locals>.wrapper()>"
      ]
     },
     "execution_count": 39,
     "metadata": {},
     "output_type": "execute_result"
    }
   ],
   "source": [
    "say_whee"
   ]
  },
  {
   "cell_type": "markdown",
   "metadata": {},
   "source": [
    "Now we have understood decorator, which is just another function. Let's go back to TensorFlow. Recall that we can use tf.function() to create a graph, either as a direct call or as a Python decorator. We need to understand what tf.function() does. As we will see, essentially, tf.function() compiles a function into a callable TensorFlow graph. Here is an example:"
   ]
  },
  {
   "cell_type": "code",
   "execution_count": 40,
   "metadata": {},
   "outputs": [
    {
     "data": {
      "text/plain": [
       "array([[12.]], dtype=float32)"
      ]
     },
     "execution_count": 40,
     "metadata": {},
     "output_type": "execute_result"
    }
   ],
   "source": [
    "def function_to_get_faster(x, y, b): # defining a Python function\n",
    "    x = tf.matmul(x, y)\n",
    "    x = x + b\n",
    "    return x\n",
    "\n",
    "a_function_that_uses_a_graph = tf.function(function_to_get_faster) # creating a special object that contains a graph\n",
    "\n",
    "x1 = tf.constant([[1.0, 2.0]]) # making some tensors\n",
    "y1 = tf.constant([[2.0], [3.0]]) # making some tensors\n",
    "b1 = tf.constant(4.0) # making some tensors\n",
    "\n",
    "a_function_that_uses_a_graph(x1, y1, b1).numpy() # executing"
   ]
  },
  {
   "cell_type": "markdown",
   "metadata": {},
   "source": [
    "In TensorFlow, 'tf.function'-ized functions are Python callables that work the same as their Python equivalents. They have a particular class (python.eager.def_function.Function), but to the users they act just as the non-traced version."
   ]
  },
  {
   "cell_type": "code",
   "execution_count": 41,
   "metadata": {},
   "outputs": [
    {
     "data": {
      "text/plain": [
       "<tensorflow.python.eager.def_function.Function at 0x203efd96788>"
      ]
     },
     "execution_count": 41,
     "metadata": {},
     "output_type": "execute_result"
    }
   ],
   "source": [
    "a_function_that_uses_a_graph"
   ]
  },
  {
   "cell_type": "markdown",
   "metadata": {},
   "source": [
    "Basically, tf.function() recursively traces any Python function it calls. It constructs a callable that executes a TensorFlow graph created by trace-compiling the TensorFlow operations in its argument 'func', effectively executing 'func' as a TensorFlow graph. Here is an example using decorators. Note that in the example below, the callable will create a graph that includes inner_function() as well as outer_function():"
   ]
  },
  {
   "cell_type": "code",
   "execution_count": 42,
   "metadata": {},
   "outputs": [
    {
     "data": {
      "text/plain": [
       "array([[12.]], dtype=float32)"
      ]
     },
     "execution_count": 42,
     "metadata": {},
     "output_type": "execute_result"
    }
   ],
   "source": [
    "def inner_function(x, y, b):\n",
    "    x = tf.matmul(x, y)\n",
    "    x = x + b\n",
    "    return x\n",
    "\n",
    "@tf.function # using the decorator\n",
    "def outer_function(x):\n",
    "    y = tf.constant([[2.0], [3.0]])\n",
    "    b = tf.constant(4.0)\n",
    "    return inner_function(x, y, b)\n",
    "\n",
    "outer_function(tf.constant([[1.0, 2.0]])).numpy()"
   ]
  },
  {
   "cell_type": "markdown",
   "metadata": {},
   "source": [
    "Flow control and loops are converted to TensorFlow via the 'tf.autograph' object by default. Here is an example below. We create a function that takes a numeric input as an argument. If the sum of the tensor is less or equal to 1, we return $x^{2}$. Otherwise, we return x-1. When we create a graph using tf.function(), the control flow logic (if...else...) built within the self-defined function will be carried along. You can directly call the autograph conversion to see how Python is converted into TensorFlow operations. This is, mostly, unreadable, but you can see the transformation:"
   ]
  },
  {
   "cell_type": "code",
   "execution_count": 43,
   "metadata": {},
   "outputs": [
    {
     "name": "stdout",
     "output_type": "stream",
     "text": [
      "First branch, with graph: 1.0\n",
      "Second branch, with graph: [4. 4.]\n"
     ]
    }
   ],
   "source": [
    "def my_function(x):\n",
    "    if tf.reduce_sum(x) <= 1:\n",
    "        return x * x\n",
    "    else:\n",
    "        return x-1\n",
    "\n",
    "a_function = tf.function(my_function)\n",
    "\n",
    "print(\"First branch, with graph:\", a_function(tf.constant(1.0)).numpy())\n",
    "print(\"Second branch, with graph:\", a_function(tf.constant([5.0, 5.0])).numpy())"
   ]
  },
  {
   "cell_type": "code",
   "execution_count": 44,
   "metadata": {},
   "outputs": [
    {
     "name": "stdout",
     "output_type": "stream",
     "text": [
      "def tf__my_function(x):\n",
      "  do_return = False\n",
      "  retval_ = ag__.UndefinedReturnValue()\n",
      "  with ag__.FunctionScope('my_function', 'my_function_scope', ag__.ConversionOptions(recursive=True, user_requested=True, optional_features=(), internal_convert_user_code=True)) as my_function_scope:\n",
      "\n",
      "    def get_state():\n",
      "      return ()\n",
      "\n",
      "    def set_state(_):\n",
      "      pass\n",
      "\n",
      "    def if_true():\n",
      "      do_return = True\n",
      "      retval_ = my_function_scope.mark_return_value(x * x)\n",
      "      return retval_, do_return\n",
      "\n",
      "    def if_false():\n",
      "      do_return = True\n",
      "      retval_ = my_function_scope.mark_return_value(x - 1)\n",
      "      return retval_, do_return\n",
      "    cond = ag__.converted_call(tf.reduce_sum, my_function_scope.callopts, (x,), None, my_function_scope) <= 1\n",
      "    retval_, do_return = ag__.if_stmt(cond, if_true, if_false, get_state, set_state, ('retval_', 'do_return'), ())\n",
      "  do_return,\n",
      "  return ag__.retval(retval_)\n",
      "\n"
     ]
    }
   ],
   "source": [
    "print(tf.autograph.to_code(my_function))"
   ]
  },
  {
   "cell_type": "markdown",
   "metadata": {},
   "source": [
    "### III. An Example for Training Loop in TensorFlow\n",
    "\n",
    "We have talked about tensors, variables, and functions in TensorFlow. Now let's try to build a simple linear model in TensorFlow from scratch. So we are not using Keras API in this section because Keras API is already pre-made based on TensorFlow (Keras is certainly not the only API, there are others within TensorFlow such as 'Estimator' API). Abstractly, in the raw TensorFlow platform, a model is a function that computes something on tensors (a forward pass) with some variables that can be updated in response to training. Most models are made of layers. Layers are functions with a known mathematical structure that can be reused and have trainable variables. In TensorFlow, most high-level implementations of layers and models, such as Keras or Sonnet, are built on the same foundational class: 'tf.Module'. Modules and, by extension, layers are deep-learning terminology for \"objects\": They have internal state, and methods that use that state. To understand how these modules are built, we need a bit of OOP knowledge. For now we will skip this hard part and just focus on basic classes, since TensorFlow already includes the 'tf.Keras' API, a high-level neural network API that provides useful abstractions to reduce boilerplate. \n",
    "\n",
    "Solving a machine learning problem usually consists of the following steps:\n",
    "   - obtain training data\n",
    "   - define the model and the loss function\n",
    "   - run through the training data, calculating loss from the ideal value\n",
    "   - calculate gradients for that loss and use an optimizer to adjust the variables to fit the data\n",
    "   - evaluate your results\n",
    " \n",
    "For illustration purposes, in this section we'll develop a simple linear model (one covariate with an intercept), which has two variables: weights and bias. First, let's create the dataset of size 1000. The input comes from a normal random sample with normal stochastic errors:"
   ]
  },
  {
   "cell_type": "code",
   "execution_count": 45,
   "metadata": {},
   "outputs": [],
   "source": [
    "TRUE_W = 3.0 # creating the actual line\n",
    "TRUE_B = 2.0 # creating the actual line\n",
    "\n",
    "NUM_EXAMPLES = 1000\n",
    "\n",
    "x = tf.random.normal(shape=[NUM_EXAMPLES]) # creating vector of random x values\n",
    "\n",
    "noise = tf.random.normal(shape=[NUM_EXAMPLES]) # generating some stochastic noise\n",
    "\n",
    "y = x * TRUE_W + TRUE_B + noise # calculating y"
   ]
  },
  {
   "cell_type": "code",
   "execution_count": 46,
   "metadata": {},
   "outputs": [
    {
     "data": {
      "image/png": "[encoded data removed]",
      "text/plain": [
       "<Figure size 432x288 with 1 Axes>"
      ]
     },
     "metadata": {
      "needs_background": "light"
     },
     "output_type": "display_data"
    }
   ],
   "source": [
    "plt.scatter(x, y, color=\"red\")\n",
    "plt.show()"
   ]
  },
  {
   "cell_type": "markdown",
   "metadata": {},
   "source": [
    "Tensors are usually gathered together in batches, or groups of inputs and outputs stacked together. Batching can confer some training benefits and works well with accelerators and vectorized computation. Given how small this dataset is, you can treat the entire dataset as a single batch.\n",
    "\n",
    "Now we need to define the model. To do so, we can use 'tf.Variable' to represent all weights in a model. A 'tf.Variable' object stores a value and provides this in tensor form as needed. Likewise, we can use 'tf.Module' to encapsulate the variables and the computation. We could use any Python object, but this way it can be easily saved. Here, both $w$ and $b$ are variables. For initial values, we use $(w^{(0)},b^{(0)})=(5.0,0.0)$. In practice, these initial values should be randomly chosen. In other words, the initial variables are set here in a fixed way, but Keras comes with any of a number of initalizers we could use:"
   ]
  },
  {
   "cell_type": "code",
   "execution_count": 47,
   "metadata": {},
   "outputs": [
    {
     "name": "stdout",
     "output_type": "stream",
     "text": [
      "Variables: (<tf.Variable 'Variable:0' shape=() dtype=float32, numpy=0.0>, <tf.Variable 'Variable:0' shape=() dtype=float32, numpy=5.0>)\n"
     ]
    }
   ],
   "source": [
    "class MyModel(tf.Module):\n",
    "    def __init__(self, **kwargs):\n",
    "        super().__init__(**kwargs)\n",
    "        self.w = tf.Variable(5.0)  # initializing the weights to 5.0 and the bias to 0.0\n",
    "        self.b = tf.Variable(0.0)\n",
    "\n",
    "    def __call__(self, x):\n",
    "        return self.w * x + self.b\n",
    "\n",
    "model = MyModel()\n",
    "\n",
    "print(\"Variables:\", model.variables) # listing variables tf.modules's built-in variable aggregation\n",
    "assert model(3.0).numpy() == 15.0 # verifying the model works, as 3*5+0=15"
   ]
  },
  {
   "cell_type": "markdown",
   "metadata": {},
   "source": [
    "Notice that the code above is an application of OOP. The most abstruse line of code is the one that states 'def \\__init\\__'. What this does is that it packs all of the keyword arguments used in any given call to 'def \\__init\\__' into a dictionary object and super(). The statement expands them into keyword arguments again. Its like a wildcard for function parameters. It can be a lazy way to give the subclass the same parameter signature as the parent without bothering to type all of the possible keyword parameters in again. \n",
    "\n",
    "To be more specific, the super() builtin returns a proxy object (temporary object of the superclass) that allows us to access methods of the base class. It allows us to avoid using the base class name explicitly. Here is an example. Below. we called the \\__init__\\() method of the 'Mammal' class (from the 'Dog' class) using code: \"super().\\__init__\\('Dog')\" instead of \"Mammal.\\__init__\\(self, 'Dog')\"."
   ]
  },
  {
   "cell_type": "code",
   "execution_count": 48,
   "metadata": {},
   "outputs": [
    {
     "name": "stdout",
     "output_type": "stream",
     "text": [
      "Dog has four legs.\n",
      "Dog is a warm-blooded animal.\n"
     ]
    }
   ],
   "source": [
    "class Mammal(object):\n",
    "    def __init__(self, mammalName):\n",
    "        print(mammalName, 'is a warm-blooded animal.')\n",
    "    \n",
    "class Dog(Mammal):\n",
    "    def __init__(self):\n",
    "        print('Dog has four legs.')\n",
    "        super().__init__('Dog')\n",
    "    \n",
    "d1 = Dog()"
   ]
  },
  {
   "cell_type": "markdown",
   "metadata": {},
   "source": [
    "Now going back to the simple linear regression example, we are done with creating a model instance, and so now we will need to define the loss function. Below, this computes a single loss value for an entire batch. Moreover, before training the model, we can visualize the loss value by plotting the model's predictions in orange and the training data in blue:"
   ]
  },
  {
   "cell_type": "code",
   "execution_count": 49,
   "metadata": {},
   "outputs": [
    {
     "name": "stdout",
     "output_type": "stream",
     "text": [
      "Current loss: 9.365562\n"
     ]
    },
    {
     "data": {
      "image/png": "[encoded data removed]",
      "text/plain": [
       "<Figure size 432x288 with 1 Axes>"
      ]
     },
     "metadata": {
      "needs_background": "light"
     },
     "output_type": "display_data"
    }
   ],
   "source": [
    "def loss(target_y, predicted_y):\n",
    "    return tf.reduce_mean(tf.square(target_y - predicted_y))\n",
    "print(\"Current loss: %1.6f\" % loss(model(x), y).numpy())\n",
    "\n",
    "plt.scatter(x, y, c=\"blue\")\n",
    "plt.scatter(x, model(x), c=\"orange\")\n",
    "plt.show()"
   ]
  },
  {
   "cell_type": "markdown",
   "metadata": {},
   "source": [
    "Now let's define a training loop. Here we are not trying to find an explicit solution using the normal equation. We want to use an iterative approach. The training loop consists of repeatedly doing three tasks in order:\n",
    "\n",
    "   1. Sending a batch of inputs through the model to generate outputs\n",
    "   2. Calculating the loss by comparing the outputs to the output (or label)\n",
    "   3. Using gradient tape to find the gradients\n",
    "   4. Optimizing the variables with those gradients"
   ]
  },
  {
   "cell_type": "markdown",
   "metadata": {},
   "source": [
    "For this example, we will train the model using gradient descent. Notice that there are many variants of the gradient descent scheme that are captured in 'tf.keras.optimizers' (see here: https://www.tensorflow.org/api_docs/python/tf/keras/optimizers). But in the spirit of building from first principles, here we will implement the basic math ourselves with the help of 'tf.GradientTape' for automatic differentiation and tf.assign_sub() for decrementing a value (which combines tf.assign() and tf.sub()):"
   ]
  },
  {
   "cell_type": "code",
   "execution_count": 50,
   "metadata": {},
   "outputs": [],
   "source": [
    "def train(model, x, y, learning_rate): # given a callable model, inputs, outputs, and a learning rate\n",
    "    with tf.GradientTape() as tape:\n",
    "        current_loss = loss(y, model(x)) # trainable variables are automatically tracked by the tape\n",
    "    dl_dw, dl_db = tape.gradient(current_loss, [model.w, model.b]) # using the tape to obtain gradients \n",
    "    model.w.assign_sub(learning_rate * dl_dw) # subtracting the gradient scaled by the learning rate\n",
    "    model.b.assign_sub(learning_rate * dl_db) # subtracting the gradient scaled by the learning rate"
   ]
  },
  {
   "cell_type": "markdown",
   "metadata": {},
   "source": [
    "For a look at training, you can send the same batch of x an y through the training loop, and see how the parameters evolve:"
   ]
  },
  {
   "cell_type": "code",
   "execution_count": 51,
   "metadata": {},
   "outputs": [],
   "source": [
    "model = MyModel()\n",
    "\n",
    "ws, bs = [], [] # collecting the history of w-values and b-values to plot later\n",
    "epochs = range(10)\n",
    "\n",
    "def training_loop(model, x, y): # defining a training loop\n",
    "    for epoch in epochs:\n",
    "        train(model, x, y, learning_rate=0.1) # uppdating the model with the single giant batch\n",
    "        ws.append(model.w.numpy()) # tracking this before update\n",
    "        bs.append(model.b.numpy()) # tracking this before update\n",
    "        current_loss = loss(y, model(x))\n",
    "\n",
    "    print(\"Epoch %2d: w=%1.2f b=%1.2f, loss=%2.5f\" %\n",
    "          (epoch, ws[-1], bs[-1], current_loss))"
   ]
  },
  {
   "cell_type": "code",
   "execution_count": 52,
   "metadata": {},
   "outputs": [
    {
     "name": "stdout",
     "output_type": "stream",
     "text": [
      "(<tf.Variable 'Variable:0' shape=() dtype=float32, numpy=5.0>, <tf.Variable 'Variable:0' shape=() dtype=float32, numpy=0.0>, <tf.Tensor: id=588, shape=(), dtype=float32, numpy=9.365562>)\n",
      "Epoch  9: w=3.17 b=1.79, loss=1.02606\n"
     ]
    }
   ],
   "source": [
    "print((model.w, model.b, loss(y, model(x))))\n",
    "training_loop(model, x, y) # doing the training now"
   ]
  },
  {
   "cell_type": "code",
   "execution_count": 53,
   "metadata": {},
   "outputs": [
    {
     "data": {
      "image/png": "[encoded data removed]",
      "text/plain": [
       "<Figure size 432x288 with 1 Axes>"
      ]
     },
     "metadata": {
      "needs_background": "light"
     },
     "output_type": "display_data"
    }
   ],
   "source": [
    "plt.plot(epochs, ws, \"red\",\n",
    "         epochs, bs, \"yellow\")\n",
    "\n",
    "plt.legend([\"w\", \"b\"])\n",
    "plt.show()"
   ]
  },
  {
   "cell_type": "code",
   "execution_count": 54,
   "metadata": {},
   "outputs": [
    {
     "data": {
      "image/png": "[encoded data removed]",
      "text/plain": [
       "<Figure size 432x288 with 1 Axes>"
      ]
     },
     "metadata": {
      "needs_background": "light"
     },
     "output_type": "display_data"
    },
    {
     "name": "stdout",
     "output_type": "stream",
     "text": [
      "Current loss: 1.026057\n"
     ]
    }
   ],
   "source": [
    "# Visualize how the trained model performs\n",
    "plt.scatter(x, y, c=\"green\")\n",
    "plt.scatter(x, model(x), c=\"r\")\n",
    "plt.show()\n",
    "print(\"Current loss: %1.6f\" % loss(model(x), y).numpy())"
   ]
  },
  {
   "cell_type": "markdown",
   "metadata": {},
   "source": [
    "This closes the training loop in the example above. There is another way to achieve the desired result. It's useful to contrast the code above with the equivalent in Keras. Defining the model looks exactly the same if you subclass tf.keras.Model. Remember that Keras models inherit ultimately from 'tf.module'."
   ]
  },
  {
   "cell_type": "code",
   "execution_count": 55,
   "metadata": {},
   "outputs": [
    {
     "name": "stdout",
     "output_type": "stream",
     "text": [
      "Epoch  9: w=3.17 b=1.79, loss=1.02606\n"
     ]
    }
   ],
   "source": [
    "class MyModelKeras(tf.keras.Model):\n",
    "    def __init__(self, **kwargs):\n",
    "        super().__init__(**kwargs)\n",
    "        self.w = tf.Variable(5.0)\n",
    "        self.b = tf.Variable(0.0)\n",
    "\n",
    "    def __call__(self, x, **kwargs):\n",
    "        return self.w * x + self.b\n",
    "\n",
    "keras_model = MyModelKeras()\n",
    "\n",
    "training_loop(keras_model, x, y) # reusing the training loop with a Keras model"
   ]
  },
  {
   "cell_type": "markdown",
   "metadata": {},
   "source": [
    "Rather than write new training loops each time we create a model, we can use the built-in features of Keras as a shortcut. This can be useful when we do not want to write or debug Python training loops. If we do, we will need to use model.compile() to set the parameters, and model.fit() to train. It can be less code to use Keras implementations of $L_{2}$ loss and gradient descent, again as a shortcut. Keras losses and optimizers can be used outside of these convenience functions, too, and the previous example could have used them.\n",
    "\n",
    "Keras fit() method expects batched data or a complete dataset as a 'numpy' array. These arrays are chopped into batches and default to a batch size of 32. In this case, to match the behavior of the hand-written loop, you should pass x in as a single batch of size 1000:"
   ]
  },
  {
   "cell_type": "code",
   "execution_count": 56,
   "metadata": {},
   "outputs": [
    {
     "name": "stdout",
     "output_type": "stream",
     "text": [
      "1000\n"
     ]
    }
   ],
   "source": [
    "keras_model2 = MyModelKeras()\n",
    "\n",
    "keras_model2.compile(run_eagerly=False,\n",
    "                     optimizer=tf.keras.optimizers.SGD(learning_rate=0.1),\n",
    "                     loss=tf.keras.losses.mean_squared_error)\n",
    "# compiling sets the training paramaeters\n",
    "# by default, fit() uses tf.function()\n",
    "# we can turn that off for debugging, but it is on now\n",
    "\n",
    "print(x.shape[0])"
   ]
  },
  {
   "cell_type": "code",
   "execution_count": 57,
   "metadata": {},
   "outputs": [
    {
     "name": "stdout",
     "output_type": "stream",
     "text": [
      "Train on 1000 samples\n",
      "Epoch 1/10\n",
      "1000/1000 [==============================] - 1s 1ms/sample - loss: 9.3656\n",
      "Epoch 2/10\n",
      "1000/1000 [==============================] - 0s 10us/sample - loss: 6.2051\n",
      "Epoch 3/10\n",
      "1000/1000 [==============================] - 0s 5us/sample - loss: 4.2316\n",
      "Epoch 4/10\n",
      "1000/1000 [==============================] - 0s 2us/sample - loss: 2.9992\n",
      "Epoch 5/10\n",
      "1000/1000 [==============================] - 0s 2us/sample - loss: 2.2297\n",
      "Epoch 6/10\n",
      "1000/1000 [==============================] - 0s 3us/sample - loss: 1.7492\n",
      "Epoch 7/10\n",
      "1000/1000 [==============================] - 0s 2us/sample - loss: 1.4491\n",
      "Epoch 8/10\n",
      "1000/1000 [==============================] - 0s 3us/sample - loss: 1.2617\n",
      "Epoch 9/10\n",
      "1000/1000 [==============================] - 0s 2us/sample - loss: 1.1447\n",
      "Epoch 10/10\n",
      "1000/1000 [==============================] - 0s 6us/sample - loss: 1.0717\n"
     ]
    },
    {
     "data": {
      "text/plain": [
       "<tensorflow.python.keras.callbacks.History at 0x203f085d148>"
      ]
     },
     "execution_count": 57,
     "metadata": {},
     "output_type": "execute_result"
    }
   ],
   "source": [
    "keras_model2.fit(x, y, epochs=10, batch_size=1000)"
   ]
  },
  {
   "cell_type": "markdown",
   "metadata": {},
   "source": [
    "#### References:\n",
    "   - Izen,an, A.J. (2008) Modern Multivariate Statistical Techniques: Regression, Classification, and Manifold Learning\",New York: Springer. \n",
    "   - Hastie, T., Hastie, T., Tibshirani, R., & Friedman, J. H. (2001). The Elements of Statistical Learning: Data Mining, Inference, and Prediction. New York: Springer.\n",
    "   - Francois Chollet (2017). Deep Learning with Python. Manning Publications Co.\n",
    "   - https://www.tensorflow.org/guide\n",
    "   - https://www.tensorflow.org/guide/variable\n",
    "   - https://www.tensorflow.org/guide/autodiff\n",
    "   - https://www.tensorflow.org/guide/intro_to_graphs\n",
    "   - https://www.tensorflow.org/guide/basic_training_loops\n",
    "   - https://www.tensorflow.org/guide/migrate\n",
    "   - https://docs.w3cub.com/tensorflow~python/\n",
    "   - http://www.cs.toronto.edu/~rgrosse/courses/csc321_2018/\n",
    "   - https://cs231n.github.io/optimization-2/\n",
    "   - https://realpython.com/primer-on-python-decorators/\n",
    "   - https://missinglink.ai/guides/neural-network-concepts/backpropagation-neural-networks-process-examples-code-minus-math/\n",
    "   - https://nbviewer.jupyter.org/url/www.cs.toronto.edu/~rgrosse/courses/csc321_2018/tutorials/tut4.ipynb"
   ]
  },
  {
   "cell_type": "code",
   "execution_count": null,
   "metadata": {},
   "outputs": [],
   "source": []
  }
 ],
 "metadata": {
  "kernelspec": {
   "display_name": "Python 3",
   "language": "python",
   "name": "python3"
  },
  "language_info": {
   "codemirror_mode": {
    "name": "ipython",
    "version": 3
   },
   "file_extension": ".py",
   "mimetype": "text/x-python",
   "name": "python",
   "nbconvert_exporter": "python",
   "pygments_lexer": "ipython3",
   "version": "3.7.6"
  }
 },
 "nbformat": 4,
 "nbformat_minor": 2
}
