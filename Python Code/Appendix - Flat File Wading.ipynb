{
 "cells": [
  {
   "cell_type": "markdown",
   "metadata": {},
   "source": [
    "In this article, we are going to discuss how to search for single or multiple strings in a file and get all the matched lines along with their line numbers. This is especially helpful if we are given a large csv file without having prior knowledge about what the dataset looks like.\n",
    "\n",
    "We intend to demonstrate 3 functionalities:\n",
    "1) check if a string exists in a file\n",
    "2) search for a string in file and get all lines containing the string along with line numbers\n",
    "3) search for multiple strings in a file and get lines containing string along with line numbers"
   ]
  },
  {
   "cell_type": "code",
   "execution_count": 1,
   "metadata": {},
   "outputs": [],
   "source": [
    "import os"
   ]
  },
  {
   "cell_type": "code",
   "execution_count": 2,
   "metadata": {},
   "outputs": [],
   "source": [
    "os.chdir(\"C:\\\\Users\\\\GAO\\\\GAO_Jupyter_Notebook\\\\Datasets\")"
   ]
  },
  {
   "cell_type": "markdown",
   "metadata": {},
   "source": [
    "#### I. Check if a string exists in a file\n",
    "\n",
    "To check if a given string exists in the file or not, we can create a function as below. The function iterates over each line in the file one by one and for each line check if it contains the given string or not. If the line contains the given string, then it returns True. Whereas if no line in the file contains the given string, then it returns False:"
   ]
  },
  {
   "cell_type": "code",
   "execution_count": 3,
   "metadata": {},
   "outputs": [],
   "source": [
    "def check_single_string_in_file(file_name, string_to_search):\n",
    "    \"\"\" This function checks if any line in the file contains a given string \"\"\"\n",
    "    # Open the file in read only mode\n",
    "    \"\"\" Opening the file in the read-only mode and read all lines in the file one by one \"\"\"\n",
    "    with open(file_name, 'r') as read_obj:\n",
    "        for line in read_obj:\n",
    "            \"\"\"For each line, check if line contains the string: \"\"\"\n",
    "            if string_to_search in line:\n",
    "                print(string_to_search+' exists in the given file: '+file_name)\n",
    "                return True\n",
    "    print('The given string does not exist in the current file!')\n",
    "    return False  "
   ]
  },
  {
   "cell_type": "code",
   "execution_count": 4,
   "metadata": {},
   "outputs": [
    {
     "name": "stdout",
     "output_type": "stream",
     "text": [
      "Famale exists in the given file: MB_Equity_withtypo.csv\n"
     ]
    },
    {
     "data": {
      "text/plain": [
       "True"
      ]
     },
     "execution_count": 4,
     "metadata": {},
     "output_type": "execute_result"
    }
   ],
   "source": [
    "check_single_string_in_file('MB_Equity_withtypo.csv','Famale')"
   ]
  },
  {
   "cell_type": "code",
   "execution_count": 5,
   "metadata": {},
   "outputs": [
    {
     "name": "stdout",
     "output_type": "stream",
     "text": [
      "The given string does not exist in the current file!\n"
     ]
    },
    {
     "data": {
      "text/plain": [
       "False"
      ]
     },
     "execution_count": 5,
     "metadata": {},
     "output_type": "execute_result"
    }
   ],
   "source": [
    "check_single_string_in_file('MB_Equity_withtypo.csv','blah')"
   ]
  },
  {
   "cell_type": "markdown",
   "metadata": {},
   "source": [
    "#### II. Search for a string in file & get all lines containing the string along with line numbers\n",
    "\n",
    "The function we created below does the following:\n",
    "   1. Create an empty list of tuples.\n",
    "   2. Open the file at the given path in read-only mode.\n",
    "   3. Iterates over each line in the file one by one:\n",
    "  \n",
    "Within step 3, we do the following:\n",
    "   1. For each line, check if it contains the given string or not. If the line contains the given string, we create a tuple of line number and  the line and adds that to a list of tuples.\n",
    "   2. Then we return the list of tuples i.e., matched lines along with line numbers."
   ]
  },
  {
   "cell_type": "code",
   "execution_count": 6,
   "metadata": {},
   "outputs": [],
   "source": [
    "def search_string_in_file(file_name, string_to_search):\n",
    "    \"\"\"This function searches for the given string in file and return lines containing that string, along with line numbers\"\"\"\n",
    "    line_number = 0\n",
    "    list_of_results = []\n",
    "    \"\"\" Opening the file in read only mode: \"\"\"\n",
    "    with open(file_name, 'r') as read_obj:\n",
    "        for line in read_obj:\n",
    "            \"\"\"Checking if line contains the string per line: \"\"\"\n",
    "            line_number += 1\n",
    "            if string_to_search in line:\n",
    "                \"\"\"If we find the string, then we add the line number & line as a tuple in the list \"\"\" \n",
    "                list_of_results.append((line_number, line.rstrip()))\n",
    " \n",
    "    \"\"\" Returning list of tuples containing line numbers and lines where string is found \"\"\" \n",
    "    return list_of_results"
   ]
  },
  {
   "cell_type": "code",
   "execution_count": 7,
   "metadata": {},
   "outputs": [
    {
     "data": {
      "text/plain": [
       "[(3, '20194,Female,White,High'), (5, '20163,Female,Non-White,High')]"
      ]
     },
     "execution_count": 7,
     "metadata": {},
     "output_type": "execute_result"
    }
   ],
   "source": [
    "search_string_in_file('MB_Equity_withtypo.csv','Female')"
   ]
  },
  {
   "cell_type": "markdown",
   "metadata": {},
   "source": [
    "#### III. Search for multiple strings in a file and get lines containing string along with line numbers\n",
    "\n",
    "To search for multiple strings in a file, we can not use the above-created function because that will open and close the file for each string. Therefore, we have created a separate function, that will open a file once and then search for the lines in the file that contains any of the given string:"
   ]
  },
  {
   "cell_type": "code",
   "execution_count": 8,
   "metadata": {},
   "outputs": [],
   "source": [
    "def search_multiple_strings_in_file(file_name, list_of_strings):\n",
    "    \"\"\"This function gets lines from the file along with line numbers, which contains any string from the list\"\"\"\n",
    "    \"\"\"We expect the second argument to be a list, within which each element is a string\"\"\"\n",
    "    line_number = 0\n",
    "    list_of_results = []\n",
    "    with open(file_name, 'r') as read_obj:\n",
    "        for line in read_obj:\n",
    "            line_number += 1\n",
    "            \"\"\"For each line, we check if line contains any string from the list of strings: \"\"\"\n",
    "            for string_to_search in list_of_strings:\n",
    "                if string_to_search in line:\n",
    "                    \"\"\" If any string is found in the current line, we append that line along with line number in list: \"\"\"\n",
    "                    list_of_results.append((string_to_search, line_number, line.rstrip()))\n",
    " \n",
    "    \"\"\"Return list of tuples containing matched string, line numbers and lines where string is found\"\"\"\n",
    "    return list_of_results"
   ]
  },
  {
   "cell_type": "code",
   "execution_count": 9,
   "metadata": {},
   "outputs": [
    {
     "data": {
      "text/plain": [
       "[('Famale', 2, '20184,Famale,White,High'),\n",
       " ('Famale', 4, '20154,Famale,White,High')]"
      ]
     },
     "execution_count": 9,
     "metadata": {},
     "output_type": "execute_result"
    }
   ],
   "source": [
    "search_multiple_strings_in_file('MB_Equity_withtypo.csv', ['Famale','840816571'])"
   ]
  },
  {
   "cell_type": "markdown",
   "metadata": {},
   "source": [
    "References:\n",
    "   - https://thispointer.com/python-search-strings-in-a-file-and-get-line-numbers-of-lines-containing-the-string/"
   ]
  },
  {
   "cell_type": "code",
   "execution_count": null,
   "metadata": {},
   "outputs": [],
   "source": []
  }
 ],
 "metadata": {
  "kernelspec": {
   "display_name": "Python 3",
   "language": "python",
   "name": "python3"
  },
  "language_info": {
   "codemirror_mode": {
    "name": "ipython",
    "version": 3
   },
   "file_extension": ".py",
   "mimetype": "text/x-python",
   "name": "python",
   "nbconvert_exporter": "python",
   "pygments_lexer": "ipython3",
   "version": "3.7.3"
  }
 },
 "nbformat": 4,
 "nbformat_minor": 2
}
