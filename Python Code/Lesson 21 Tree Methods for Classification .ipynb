{
 "cells": [
  {
   "cell_type": "markdown",
   "metadata": {},
   "source": [
    "In this module, we study how to implement the tree-based algorithms for classification tasks in Python. We focus on the basic tree method, bagging, random forests, and extra-tree method. \n",
    "\n",
    "The dataset we will be using is a small dataset that records kyphosis information (a spinal condition in the medical world). "
   ]
  },
  {
   "cell_type": "code",
   "execution_count": 1,
   "metadata": {
    "collapsed": true
   },
   "outputs": [],
   "source": [
    "import pandas as pd\n",
    "import numpy as np\n",
    "import matplotlib.pyplot as plt\n",
    "import seaborn as sns\n",
    "import os\n",
    "import graphviz # conda prompt: conda install python-graphviz\n",
    "\n",
    "from IPython.display import Image  \n",
    "from sklearn import metrics\n",
    "from sklearn.model_selection import train_test_split\n",
    "from sklearn.metrics import classification_report\n",
    "from sklearn.tree import DecisionTreeClassifier\n",
    "from sklearn.ensemble import RandomForestClassifier\n",
    "from sklearn.ensemble import BaggingClassifier\n",
    "from sklearn.ensemble import ExtraTreesClassifier\n",
    "from sklearn.tree import export_graphviz\n",
    "\n",
    "%matplotlib inline"
   ]
  },
  {
   "cell_type": "code",
   "execution_count": 2,
   "metadata": {},
   "outputs": [
    {
     "data": {
      "text/html": [
       "<div>\n",
       "<style>\n",
       "    .dataframe thead tr:only-child th {\n",
       "        text-align: right;\n",
       "    }\n",
       "\n",
       "    .dataframe thead th {\n",
       "        text-align: left;\n",
       "    }\n",
       "\n",
       "    .dataframe tbody tr th {\n",
       "        vertical-align: top;\n",
       "    }\n",
       "</style>\n",
       "<table border=\"1\" class=\"dataframe\">\n",
       "  <thead>\n",
       "    <tr style=\"text-align: right;\">\n",
       "      <th></th>\n",
       "      <th>Kyphosis</th>\n",
       "      <th>Age</th>\n",
       "      <th>Number</th>\n",
       "      <th>Start</th>\n",
       "    </tr>\n",
       "  </thead>\n",
       "  <tbody>\n",
       "    <tr>\n",
       "      <th>0</th>\n",
       "      <td>absent</td>\n",
       "      <td>71</td>\n",
       "      <td>3</td>\n",
       "      <td>5</td>\n",
       "    </tr>\n",
       "    <tr>\n",
       "      <th>1</th>\n",
       "      <td>absent</td>\n",
       "      <td>158</td>\n",
       "      <td>3</td>\n",
       "      <td>14</td>\n",
       "    </tr>\n",
       "    <tr>\n",
       "      <th>2</th>\n",
       "      <td>present</td>\n",
       "      <td>128</td>\n",
       "      <td>4</td>\n",
       "      <td>5</td>\n",
       "    </tr>\n",
       "    <tr>\n",
       "      <th>3</th>\n",
       "      <td>absent</td>\n",
       "      <td>2</td>\n",
       "      <td>5</td>\n",
       "      <td>1</td>\n",
       "    </tr>\n",
       "    <tr>\n",
       "      <th>4</th>\n",
       "      <td>absent</td>\n",
       "      <td>1</td>\n",
       "      <td>4</td>\n",
       "      <td>15</td>\n",
       "    </tr>\n",
       "  </tbody>\n",
       "</table>\n",
       "</div>"
      ],
      "text/plain": [
       "  Kyphosis  Age  Number  Start\n",
       "0   absent   71       3      5\n",
       "1   absent  158       3     14\n",
       "2  present  128       4      5\n",
       "3   absent    2       5      1\n",
       "4   absent    1       4     15"
      ]
     },
     "execution_count": 2,
     "metadata": {},
     "output_type": "execute_result"
    }
   ],
   "source": [
    "path='C:\\\\Users\\\\pgao\\\\Documents\\\\PGZ Documents\\\\Programming Workshop\\\\PYTHON\\\\Open Courses on Python\\\\Udemy Course on Python\\\\Introduction to Data Science Using Python\\\\datasets'\n",
    "os.chdir(path)\n",
    "df = pd.read_csv('kyphosis.csv')\n",
    "df.head()"
   ]
  },
  {
   "cell_type": "markdown",
   "metadata": {},
   "source": [
    "Let's do some explorative data analysis now:"
   ]
  },
  {
   "cell_type": "code",
   "execution_count": 3,
   "metadata": {},
   "outputs": [
    {
     "data": {
      "text/plain": [
       "<seaborn.axisgrid.PairGrid at 0x2374453d400>"
      ]
     },
     "execution_count": 3,
     "metadata": {},
     "output_type": "execute_result"
    },
    {
     "data": {
      "image/png": "[encoded data removed]",
      "text/plain": [
       "<matplotlib.figure.Figure at 0x2374453d390>"
      ]
     },
     "metadata": {},
     "output_type": "display_data"
    }
   ],
   "source": [
    "sns.pairplot(df,hue='Kyphosis',palette='Set1')"
   ]
  },
  {
   "cell_type": "code",
   "execution_count": 4,
   "metadata": {},
   "outputs": [
    {
     "name": "stdout",
     "output_type": "stream",
     "text": [
      "              Age     Number      Start\n",
      "count   81.000000  81.000000  81.000000\n",
      "mean    83.654321   4.049383  11.493827\n",
      "std     58.104251   1.619423   4.883962\n",
      "min      1.000000   2.000000   1.000000\n",
      "25%     26.000000   3.000000   9.000000\n",
      "50%     87.000000   4.000000  13.000000\n",
      "75%    130.000000   5.000000  16.000000\n",
      "max    206.000000  10.000000  18.000000 \n",
      "\n",
      "Index(['Kyphosis', 'Age', 'Number', 'Start'], dtype='object') \n",
      "\n",
      "<class 'pandas.core.frame.DataFrame'>\n",
      "RangeIndex: 81 entries, 0 to 80\n",
      "Data columns (total 4 columns):\n",
      "Kyphosis    81 non-null object\n",
      "Age         81 non-null int64\n",
      "Number      81 non-null int64\n",
      "Start       81 non-null int64\n",
      "dtypes: int64(3), object(1)\n",
      "memory usage: 2.6+ KB\n"
     ]
    }
   ],
   "source": [
    "EDA1=df.describe()\n",
    "EDA2=df.columns\n",
    "print(EDA1, '\\n')\n",
    "print(EDA2, '\\n')\n",
    "df.info()"
   ]
  },
  {
   "cell_type": "markdown",
   "metadata": {},
   "source": [
    "Now let's examine missing data. We know that tree-based methods can generally handle missing data very well, but it's still important to have an estimate about how many data points are missing in the entire dataset. If the picture below has missing data, we will see a solid rectangle:"
   ]
  },
  {
   "cell_type": "code",
   "execution_count": 5,
   "metadata": {},
   "outputs": [
    {
     "data": {
      "text/plain": [
       "<matplotlib.axes._subplots.AxesSubplot at 0x23748b99a58>"
      ]
     },
     "execution_count": 5,
     "metadata": {},
     "output_type": "execute_result"
    },
    {
     "data": {
      "image/png": "[encoded data removed]",
      "text/plain": [
       "<matplotlib.figure.Figure at 0x2374453d1d0>"
      ]
     },
     "metadata": {},
     "output_type": "display_data"
    }
   ],
   "source": [
    "sns.heatmap(df.isnull(),yticklabels=False,cbar=False, cmap='summer')"
   ]
  },
  {
   "cell_type": "markdown",
   "metadata": {},
   "source": [
    "Now let's do the training-test split:"
   ]
  },
  {
   "cell_type": "code",
   "execution_count": 6,
   "metadata": {
    "collapsed": true
   },
   "outputs": [],
   "source": [
    "X = df.drop('Kyphosis',axis=1)\n",
    "y = df['Kyphosis']\n",
    "X_train, X_test, y_train, y_test = train_test_split(X, y, test_size=0.30)"
   ]
  },
  {
   "cell_type": "markdown",
   "metadata": {},
   "source": [
    "We now perform our analysis in the following manner: 1) off-the-shelves classification tree, 2) extra tree (extremely randomized tree), 3) bagged tree and 4) random forests. \n",
    "\n",
    "First, we use the off-the-shelves classification tree. The default impurity function is given by the Gini index. The 'scikit-learn' package uses an optimized version of the CART algorithm."
   ]
  },
  {
   "cell_type": "code",
   "execution_count": 7,
   "metadata": {},
   "outputs": [
    {
     "name": "stdout",
     "output_type": "stream",
     "text": [
      "             precision    recall  f1-score   support\n",
      "\n",
      "     absent       0.78      0.95      0.86        19\n",
      "    present       0.50      0.17      0.25         6\n",
      "\n",
      "avg / total       0.71      0.76      0.71        25\n",
      "\n"
     ]
    }
   ],
   "source": [
    "dtree = DecisionTreeClassifier()\n",
    "dtree.fit(X_train,y_train)\n",
    "predictions = dtree.predict(X_test)\n",
    "print(classification_report(y_test,predictions))"
   ]
  },
  {
   "cell_type": "code",
   "execution_count": 8,
   "metadata": {},
   "outputs": [
    {
     "data": {
      "image/svg+xml": [
       "<?xml version=\"1.0\" encoding=\"UTF-8\" standalone=\"no\"?>\r\n",
       "<!DOCTYPE svg PUBLIC \"-//W3C//DTD SVG 1.1//EN\"\r\n",
       " \"http://www.w3.org/Graphics/SVG/1.1/DTD/svg11.dtd\">\r\n",
       "<!-- Generated by graphviz version 2.38.0 (20140413.2041)\r\n",
       " -->\r\n",
       "<!-- Title: Tree Pages: 1 -->\r\n",
       "<svg width=\"760pt\" height=\"789pt\"\r\n",
       " viewBox=\"0.00 0.00 760.00 789.00\" xmlns=\"http://www.w3.org/2000/svg\" xmlns:xlink=\"http://www.w3.org/1999/xlink\">\r\n",
       "<g id=\"graph0\" class=\"graph\" transform=\"scale(1 1) rotate(0) translate(4 785)\">\r\n",
       "<title>Tree</title>\r\n",
       "<polygon fill=\"white\" stroke=\"none\" points=\"-4,4 -4,-785 756,-785 756,4 -4,4\"/>\r\n",
       "<!-- 0 -->\r\n",
       "<g id=\"node1\" class=\"node\"><title>0</title>\r\n",
       "<polygon fill=\"none\" stroke=\"black\" points=\"401.5,-781 297.5,-781 297.5,-713 401.5,-713 401.5,-781\"/>\r\n",
       "<text text-anchor=\"middle\" x=\"349.5\" y=\"-765.8\" font-family=\"Times New Roman,serif\" font-size=\"14.00\">X[1] &lt;= 5.5</text>\r\n",
       "<text text-anchor=\"middle\" x=\"349.5\" y=\"-750.8\" font-family=\"Times New Roman,serif\" font-size=\"14.00\">gini = 0.316</text>\r\n",
       "<text text-anchor=\"middle\" x=\"349.5\" y=\"-735.8\" font-family=\"Times New Roman,serif\" font-size=\"14.00\">samples = 56</text>\r\n",
       "<text text-anchor=\"middle\" x=\"349.5\" y=\"-720.8\" font-family=\"Times New Roman,serif\" font-size=\"14.00\">value = [45, 11]</text>\r\n",
       "</g>\r\n",
       "<!-- 1 -->\r\n",
       "<g id=\"node2\" class=\"node\"><title>1</title>\r\n",
       "<polygon fill=\"none\" stroke=\"black\" points=\"315.5,-677 217.5,-677 217.5,-609 315.5,-609 315.5,-677\"/>\r\n",
       "<text text-anchor=\"middle\" x=\"266.5\" y=\"-661.8\" font-family=\"Times New Roman,serif\" font-size=\"14.00\">X[0] &lt;= 81.5</text>\r\n",
       "<text text-anchor=\"middle\" x=\"266.5\" y=\"-646.8\" font-family=\"Times New Roman,serif\" font-size=\"14.00\">gini = 0.223</text>\r\n",
       "<text text-anchor=\"middle\" x=\"266.5\" y=\"-631.8\" font-family=\"Times New Roman,serif\" font-size=\"14.00\">samples = 47</text>\r\n",
       "<text text-anchor=\"middle\" x=\"266.5\" y=\"-616.8\" font-family=\"Times New Roman,serif\" font-size=\"14.00\">value = [41, 6]</text>\r\n",
       "</g>\r\n",
       "<!-- 0&#45;&gt;1 -->\r\n",
       "<g id=\"edge1\" class=\"edge\"><title>0&#45;&gt;1</title>\r\n",
       "<path fill=\"none\" stroke=\"black\" d=\"M322.552,-712.884C315.377,-704.065 307.536,-694.43 300.054,-685.235\"/>\r\n",
       "<polygon fill=\"black\" stroke=\"black\" points=\"302.623,-682.847 293.597,-677.299 297.193,-687.265 302.623,-682.847\"/>\r\n",
       "<text text-anchor=\"middle\" x=\"291.042\" y=\"-698.469\" font-family=\"Times New Roman,serif\" font-size=\"14.00\">True</text>\r\n",
       "</g>\r\n",
       "<!-- 20 -->\r\n",
       "<g id=\"node21\" class=\"node\"><title>20</title>\r\n",
       "<polygon fill=\"none\" stroke=\"black\" points=\"478,-677 387,-677 387,-609 478,-609 478,-677\"/>\r\n",
       "<text text-anchor=\"middle\" x=\"432.5\" y=\"-661.8\" font-family=\"Times New Roman,serif\" font-size=\"14.00\">X[0] &lt;= 55.0</text>\r\n",
       "<text text-anchor=\"middle\" x=\"432.5\" y=\"-646.8\" font-family=\"Times New Roman,serif\" font-size=\"14.00\">gini = 0.494</text>\r\n",
       "<text text-anchor=\"middle\" x=\"432.5\" y=\"-631.8\" font-family=\"Times New Roman,serif\" font-size=\"14.00\">samples = 9</text>\r\n",
       "<text text-anchor=\"middle\" x=\"432.5\" y=\"-616.8\" font-family=\"Times New Roman,serif\" font-size=\"14.00\">value = [4, 5]</text>\r\n",
       "</g>\r\n",
       "<!-- 0&#45;&gt;20 -->\r\n",
       "<g id=\"edge20\" class=\"edge\"><title>0&#45;&gt;20</title>\r\n",
       "<path fill=\"none\" stroke=\"black\" d=\"M376.448,-712.884C383.623,-704.065 391.464,-694.43 398.946,-685.235\"/>\r\n",
       "<polygon fill=\"black\" stroke=\"black\" points=\"401.807,-687.265 405.403,-677.299 396.377,-682.847 401.807,-687.265\"/>\r\n",
       "<text text-anchor=\"middle\" x=\"407.958\" y=\"-698.469\" font-family=\"Times New Roman,serif\" font-size=\"14.00\">False</text>\r\n",
       "</g>\r\n",
       "<!-- 2 -->\r\n",
       "<g id=\"node3\" class=\"node\"><title>2</title>\r\n",
       "<polygon fill=\"none\" stroke=\"black\" points=\"199.5,-565.5 101.5,-565.5 101.5,-512.5 199.5,-512.5 199.5,-565.5\"/>\r\n",
       "<text text-anchor=\"middle\" x=\"150.5\" y=\"-550.3\" font-family=\"Times New Roman,serif\" font-size=\"14.00\">gini = 0.0</text>\r\n",
       "<text text-anchor=\"middle\" x=\"150.5\" y=\"-535.3\" font-family=\"Times New Roman,serif\" font-size=\"14.00\">samples = 22</text>\r\n",
       "<text text-anchor=\"middle\" x=\"150.5\" y=\"-520.3\" font-family=\"Times New Roman,serif\" font-size=\"14.00\">value = [22, 0]</text>\r\n",
       "</g>\r\n",
       "<!-- 1&#45;&gt;2 -->\r\n",
       "<g id=\"edge2\" class=\"edge\"><title>1&#45;&gt;2</title>\r\n",
       "<path fill=\"none\" stroke=\"black\" d=\"M228.838,-608.884C215.455,-597.116 200.418,-583.894 187.123,-572.203\"/>\r\n",
       "<polygon fill=\"black\" stroke=\"black\" points=\"189.344,-569.495 179.523,-565.52 184.721,-574.752 189.344,-569.495\"/>\r\n",
       "</g>\r\n",
       "<!-- 3 -->\r\n",
       "<g id=\"node4\" class=\"node\"><title>3</title>\r\n",
       "<polygon fill=\"none\" stroke=\"black\" points=\"315.5,-573 217.5,-573 217.5,-505 315.5,-505 315.5,-573\"/>\r\n",
       "<text text-anchor=\"middle\" x=\"266.5\" y=\"-557.8\" font-family=\"Times New Roman,serif\" font-size=\"14.00\">X[0] &lt;= 98.0</text>\r\n",
       "<text text-anchor=\"middle\" x=\"266.5\" y=\"-542.8\" font-family=\"Times New Roman,serif\" font-size=\"14.00\">gini = 0.365</text>\r\n",
       "<text text-anchor=\"middle\" x=\"266.5\" y=\"-527.8\" font-family=\"Times New Roman,serif\" font-size=\"14.00\">samples = 25</text>\r\n",
       "<text text-anchor=\"middle\" x=\"266.5\" y=\"-512.8\" font-family=\"Times New Roman,serif\" font-size=\"14.00\">value = [19, 6]</text>\r\n",
       "</g>\r\n",
       "<!-- 1&#45;&gt;3 -->\r\n",
       "<g id=\"edge3\" class=\"edge\"><title>1&#45;&gt;3</title>\r\n",
       "<path fill=\"none\" stroke=\"black\" d=\"M266.5,-608.884C266.5,-600.778 266.5,-591.982 266.5,-583.472\"/>\r\n",
       "<polygon fill=\"black\" stroke=\"black\" points=\"270,-583.299 266.5,-573.299 263,-583.299 270,-583.299\"/>\r\n",
       "</g>\r\n",
       "<!-- 4 -->\r\n",
       "<g id=\"node5\" class=\"node\"><title>4</title>\r\n",
       "<polygon fill=\"none\" stroke=\"black\" points=\"199,-469 108,-469 108,-401 199,-401 199,-469\"/>\r\n",
       "<text text-anchor=\"middle\" x=\"153.5\" y=\"-453.8\" font-family=\"Times New Roman,serif\" font-size=\"14.00\">X[2] &lt;= 15.0</text>\r\n",
       "<text text-anchor=\"middle\" x=\"153.5\" y=\"-438.8\" font-family=\"Times New Roman,serif\" font-size=\"14.00\">gini = 0.48</text>\r\n",
       "<text text-anchor=\"middle\" x=\"153.5\" y=\"-423.8\" font-family=\"Times New Roman,serif\" font-size=\"14.00\">samples = 5</text>\r\n",
       "<text text-anchor=\"middle\" x=\"153.5\" y=\"-408.8\" font-family=\"Times New Roman,serif\" font-size=\"14.00\">value = [2, 3]</text>\r\n",
       "</g>\r\n",
       "<!-- 3&#45;&gt;4 -->\r\n",
       "<g id=\"edge4\" class=\"edge\"><title>3&#45;&gt;4</title>\r\n",
       "<path fill=\"none\" stroke=\"black\" d=\"M229.812,-504.884C219.648,-495.709 208.505,-485.65 197.95,-476.123\"/>\r\n",
       "<polygon fill=\"black\" stroke=\"black\" points=\"200.159,-473.402 190.39,-469.299 195.468,-478.598 200.159,-473.402\"/>\r\n",
       "</g>\r\n",
       "<!-- 7 -->\r\n",
       "<g id=\"node8\" class=\"node\"><title>7</title>\r\n",
       "<polygon fill=\"none\" stroke=\"black\" points=\"315.5,-469 217.5,-469 217.5,-401 315.5,-401 315.5,-469\"/>\r\n",
       "<text text-anchor=\"middle\" x=\"266.5\" y=\"-453.8\" font-family=\"Times New Roman,serif\" font-size=\"14.00\">X[2] &lt;= 10.5</text>\r\n",
       "<text text-anchor=\"middle\" x=\"266.5\" y=\"-438.8\" font-family=\"Times New Roman,serif\" font-size=\"14.00\">gini = 0.255</text>\r\n",
       "<text text-anchor=\"middle\" x=\"266.5\" y=\"-423.8\" font-family=\"Times New Roman,serif\" font-size=\"14.00\">samples = 20</text>\r\n",
       "<text text-anchor=\"middle\" x=\"266.5\" y=\"-408.8\" font-family=\"Times New Roman,serif\" font-size=\"14.00\">value = [17, 3]</text>\r\n",
       "</g>\r\n",
       "<!-- 3&#45;&gt;7 -->\r\n",
       "<g id=\"edge7\" class=\"edge\"><title>3&#45;&gt;7</title>\r\n",
       "<path fill=\"none\" stroke=\"black\" d=\"M266.5,-504.884C266.5,-496.778 266.5,-487.982 266.5,-479.472\"/>\r\n",
       "<polygon fill=\"black\" stroke=\"black\" points=\"270,-479.299 266.5,-469.299 263,-479.299 270,-479.299\"/>\r\n",
       "</g>\r\n",
       "<!-- 5 -->\r\n",
       "<g id=\"node6\" class=\"node\"><title>5</title>\r\n",
       "<polygon fill=\"none\" stroke=\"black\" points=\"91,-357.5 0,-357.5 0,-304.5 91,-304.5 91,-357.5\"/>\r\n",
       "<text text-anchor=\"middle\" x=\"45.5\" y=\"-342.3\" font-family=\"Times New Roman,serif\" font-size=\"14.00\">gini = 0.0</text>\r\n",
       "<text text-anchor=\"middle\" x=\"45.5\" y=\"-327.3\" font-family=\"Times New Roman,serif\" font-size=\"14.00\">samples = 3</text>\r\n",
       "<text text-anchor=\"middle\" x=\"45.5\" y=\"-312.3\" font-family=\"Times New Roman,serif\" font-size=\"14.00\">value = [0, 3]</text>\r\n",
       "</g>\r\n",
       "<!-- 4&#45;&gt;5 -->\r\n",
       "<g id=\"edge5\" class=\"edge\"><title>4&#45;&gt;5</title>\r\n",
       "<path fill=\"none\" stroke=\"black\" d=\"M118.435,-400.884C106.092,-389.226 92.2371,-376.141 79.9451,-364.532\"/>\r\n",
       "<polygon fill=\"black\" stroke=\"black\" points=\"82.1945,-361.842 72.5211,-357.52 77.3881,-366.931 82.1945,-361.842\"/>\r\n",
       "</g>\r\n",
       "<!-- 6 -->\r\n",
       "<g id=\"node7\" class=\"node\"><title>6</title>\r\n",
       "<polygon fill=\"none\" stroke=\"black\" points=\"200,-357.5 109,-357.5 109,-304.5 200,-304.5 200,-357.5\"/>\r\n",
       "<text text-anchor=\"middle\" x=\"154.5\" y=\"-342.3\" font-family=\"Times New Roman,serif\" font-size=\"14.00\">gini = 0.0</text>\r\n",
       "<text text-anchor=\"middle\" x=\"154.5\" y=\"-327.3\" font-family=\"Times New Roman,serif\" font-size=\"14.00\">samples = 2</text>\r\n",
       "<text text-anchor=\"middle\" x=\"154.5\" y=\"-312.3\" font-family=\"Times New Roman,serif\" font-size=\"14.00\">value = [2, 0]</text>\r\n",
       "</g>\r\n",
       "<!-- 4&#45;&gt;6 -->\r\n",
       "<g id=\"edge6\" class=\"edge\"><title>4&#45;&gt;6</title>\r\n",
       "<path fill=\"none\" stroke=\"black\" d=\"M153.825,-400.884C153.928,-390.326 154.043,-378.597 154.148,-367.854\"/>\r\n",
       "<polygon fill=\"black\" stroke=\"black\" points=\"157.652,-367.554 154.25,-357.52 150.652,-367.485 157.652,-367.554\"/>\r\n",
       "</g>\r\n",
       "<!-- 8 -->\r\n",
       "<g id=\"node9\" class=\"node\"><title>8</title>\r\n",
       "<polygon fill=\"none\" stroke=\"black\" points=\"311,-365 220,-365 220,-297 311,-297 311,-365\"/>\r\n",
       "<text text-anchor=\"middle\" x=\"265.5\" y=\"-349.8\" font-family=\"Times New Roman,serif\" font-size=\"14.00\">X[2] &lt;= 4.0</text>\r\n",
       "<text text-anchor=\"middle\" x=\"265.5\" y=\"-334.8\" font-family=\"Times New Roman,serif\" font-size=\"14.00\">gini = 0.5</text>\r\n",
       "<text text-anchor=\"middle\" x=\"265.5\" y=\"-319.8\" font-family=\"Times New Roman,serif\" font-size=\"14.00\">samples = 4</text>\r\n",
       "<text text-anchor=\"middle\" x=\"265.5\" y=\"-304.8\" font-family=\"Times New Roman,serif\" font-size=\"14.00\">value = [2, 2]</text>\r\n",
       "</g>\r\n",
       "<!-- 7&#45;&gt;8 -->\r\n",
       "<g id=\"edge8\" class=\"edge\"><title>7&#45;&gt;8</title>\r\n",
       "<path fill=\"none\" stroke=\"black\" d=\"M266.175,-400.884C266.096,-392.778 266.01,-383.982 265.926,-375.472\"/>\r\n",
       "<polygon fill=\"black\" stroke=\"black\" points=\"269.424,-375.265 265.826,-365.299 262.425,-375.333 269.424,-375.265\"/>\r\n",
       "</g>\r\n",
       "<!-- 13 -->\r\n",
       "<g id=\"node14\" class=\"node\"><title>13</title>\r\n",
       "<polygon fill=\"none\" stroke=\"black\" points=\"429.5,-365 331.5,-365 331.5,-297 429.5,-297 429.5,-365\"/>\r\n",
       "<text text-anchor=\"middle\" x=\"380.5\" y=\"-349.8\" font-family=\"Times New Roman,serif\" font-size=\"14.00\">X[1] &lt;= 3.5</text>\r\n",
       "<text text-anchor=\"middle\" x=\"380.5\" y=\"-334.8\" font-family=\"Times New Roman,serif\" font-size=\"14.00\">gini = 0.117</text>\r\n",
       "<text text-anchor=\"middle\" x=\"380.5\" y=\"-319.8\" font-family=\"Times New Roman,serif\" font-size=\"14.00\">samples = 16</text>\r\n",
       "<text text-anchor=\"middle\" x=\"380.5\" y=\"-304.8\" font-family=\"Times New Roman,serif\" font-size=\"14.00\">value = [15, 1]</text>\r\n",
       "</g>\r\n",
       "<!-- 7&#45;&gt;13 -->\r\n",
       "<g id=\"edge13\" class=\"edge\"><title>7&#45;&gt;13</title>\r\n",
       "<path fill=\"none\" stroke=\"black\" d=\"M303.513,-400.884C313.766,-391.709 325.009,-381.65 335.657,-372.123\"/>\r\n",
       "<polygon fill=\"black\" stroke=\"black\" points=\"338.164,-374.576 343.283,-365.299 333.497,-369.359 338.164,-374.576\"/>\r\n",
       "</g>\r\n",
       "<!-- 9 -->\r\n",
       "<g id=\"node10\" class=\"node\"><title>9</title>\r\n",
       "<polygon fill=\"none\" stroke=\"black\" points=\"199,-253.5 108,-253.5 108,-200.5 199,-200.5 199,-253.5\"/>\r\n",
       "<text text-anchor=\"middle\" x=\"153.5\" y=\"-238.3\" font-family=\"Times New Roman,serif\" font-size=\"14.00\">gini = 0.0</text>\r\n",
       "<text text-anchor=\"middle\" x=\"153.5\" y=\"-223.3\" font-family=\"Times New Roman,serif\" font-size=\"14.00\">samples = 1</text>\r\n",
       "<text text-anchor=\"middle\" x=\"153.5\" y=\"-208.3\" font-family=\"Times New Roman,serif\" font-size=\"14.00\">value = [1, 0]</text>\r\n",
       "</g>\r\n",
       "<!-- 8&#45;&gt;9 -->\r\n",
       "<g id=\"edge9\" class=\"edge\"><title>8&#45;&gt;9</title>\r\n",
       "<path fill=\"none\" stroke=\"black\" d=\"M229.137,-296.884C216.336,-285.226 201.968,-272.141 189.221,-260.532\"/>\r\n",
       "<polygon fill=\"black\" stroke=\"black\" points=\"191.272,-257.666 181.522,-253.52 186.559,-262.841 191.272,-257.666\"/>\r\n",
       "</g>\r\n",
       "<!-- 10 -->\r\n",
       "<g id=\"node11\" class=\"node\"><title>10</title>\r\n",
       "<polygon fill=\"none\" stroke=\"black\" points=\"314,-261 217,-261 217,-193 314,-193 314,-261\"/>\r\n",
       "<text text-anchor=\"middle\" x=\"265.5\" y=\"-245.8\" font-family=\"Times New Roman,serif\" font-size=\"14.00\">X[0] &lt;= 172.5</text>\r\n",
       "<text text-anchor=\"middle\" x=\"265.5\" y=\"-230.8\" font-family=\"Times New Roman,serif\" font-size=\"14.00\">gini = 0.444</text>\r\n",
       "<text text-anchor=\"middle\" x=\"265.5\" y=\"-215.8\" font-family=\"Times New Roman,serif\" font-size=\"14.00\">samples = 3</text>\r\n",
       "<text text-anchor=\"middle\" x=\"265.5\" y=\"-200.8\" font-family=\"Times New Roman,serif\" font-size=\"14.00\">value = [1, 2]</text>\r\n",
       "</g>\r\n",
       "<!-- 8&#45;&gt;10 -->\r\n",
       "<g id=\"edge10\" class=\"edge\"><title>8&#45;&gt;10</title>\r\n",
       "<path fill=\"none\" stroke=\"black\" d=\"M265.5,-296.884C265.5,-288.778 265.5,-279.982 265.5,-271.472\"/>\r\n",
       "<polygon fill=\"black\" stroke=\"black\" points=\"269,-271.299 265.5,-261.299 262,-271.299 269,-271.299\"/>\r\n",
       "</g>\r\n",
       "<!-- 11 -->\r\n",
       "<g id=\"node12\" class=\"node\"><title>11</title>\r\n",
       "<polygon fill=\"none\" stroke=\"black\" points=\"203,-149.5 112,-149.5 112,-96.5 203,-96.5 203,-149.5\"/>\r\n",
       "<text text-anchor=\"middle\" x=\"157.5\" y=\"-134.3\" font-family=\"Times New Roman,serif\" font-size=\"14.00\">gini = 0.0</text>\r\n",
       "<text text-anchor=\"middle\" x=\"157.5\" y=\"-119.3\" font-family=\"Times New Roman,serif\" font-size=\"14.00\">samples = 2</text>\r\n",
       "<text text-anchor=\"middle\" x=\"157.5\" y=\"-104.3\" font-family=\"Times New Roman,serif\" font-size=\"14.00\">value = [0, 2]</text>\r\n",
       "</g>\r\n",
       "<!-- 10&#45;&gt;11 -->\r\n",
       "<g id=\"edge11\" class=\"edge\"><title>10&#45;&gt;11</title>\r\n",
       "<path fill=\"none\" stroke=\"black\" d=\"M230.435,-192.884C218.092,-181.226 204.237,-168.141 191.945,-156.532\"/>\r\n",
       "<polygon fill=\"black\" stroke=\"black\" points=\"194.194,-153.842 184.521,-149.52 189.388,-158.931 194.194,-153.842\"/>\r\n",
       "</g>\r\n",
       "<!-- 12 -->\r\n",
       "<g id=\"node13\" class=\"node\"><title>12</title>\r\n",
       "<polygon fill=\"none\" stroke=\"black\" points=\"312,-149.5 221,-149.5 221,-96.5 312,-96.5 312,-149.5\"/>\r\n",
       "<text text-anchor=\"middle\" x=\"266.5\" y=\"-134.3\" font-family=\"Times New Roman,serif\" font-size=\"14.00\">gini = 0.0</text>\r\n",
       "<text text-anchor=\"middle\" x=\"266.5\" y=\"-119.3\" font-family=\"Times New Roman,serif\" font-size=\"14.00\">samples = 1</text>\r\n",
       "<text text-anchor=\"middle\" x=\"266.5\" y=\"-104.3\" font-family=\"Times New Roman,serif\" font-size=\"14.00\">value = [1, 0]</text>\r\n",
       "</g>\r\n",
       "<!-- 10&#45;&gt;12 -->\r\n",
       "<g id=\"edge12\" class=\"edge\"><title>10&#45;&gt;12</title>\r\n",
       "<path fill=\"none\" stroke=\"black\" d=\"M265.825,-192.884C265.928,-182.326 266.043,-170.597 266.148,-159.854\"/>\r\n",
       "<polygon fill=\"black\" stroke=\"black\" points=\"269.652,-159.554 266.25,-149.52 262.652,-159.485 269.652,-159.554\"/>\r\n",
       "</g>\r\n",
       "<!-- 14 -->\r\n",
       "<g id=\"node15\" class=\"node\"><title>14</title>\r\n",
       "<polygon fill=\"none\" stroke=\"black\" points=\"429,-261 332,-261 332,-193 429,-193 429,-261\"/>\r\n",
       "<text text-anchor=\"middle\" x=\"380.5\" y=\"-245.8\" font-family=\"Times New Roman,serif\" font-size=\"14.00\">X[0] &lt;= 141.0</text>\r\n",
       "<text text-anchor=\"middle\" x=\"380.5\" y=\"-230.8\" font-family=\"Times New Roman,serif\" font-size=\"14.00\">gini = 0.278</text>\r\n",
       "<text text-anchor=\"middle\" x=\"380.5\" y=\"-215.8\" font-family=\"Times New Roman,serif\" font-size=\"14.00\">samples = 6</text>\r\n",
       "<text text-anchor=\"middle\" x=\"380.5\" y=\"-200.8\" font-family=\"Times New Roman,serif\" font-size=\"14.00\">value = [5, 1]</text>\r\n",
       "</g>\r\n",
       "<!-- 13&#45;&gt;14 -->\r\n",
       "<g id=\"edge14\" class=\"edge\"><title>13&#45;&gt;14</title>\r\n",
       "<path fill=\"none\" stroke=\"black\" d=\"M380.5,-296.884C380.5,-288.778 380.5,-279.982 380.5,-271.472\"/>\r\n",
       "<polygon fill=\"black\" stroke=\"black\" points=\"384,-271.299 380.5,-261.299 377,-271.299 384,-271.299\"/>\r\n",
       "</g>\r\n",
       "<!-- 19 -->\r\n",
       "<g id=\"node20\" class=\"node\"><title>19</title>\r\n",
       "<polygon fill=\"none\" stroke=\"black\" points=\"545.5,-253.5 447.5,-253.5 447.5,-200.5 545.5,-200.5 545.5,-253.5\"/>\r\n",
       "<text text-anchor=\"middle\" x=\"496.5\" y=\"-238.3\" font-family=\"Times New Roman,serif\" font-size=\"14.00\">gini = 0.0</text>\r\n",
       "<text text-anchor=\"middle\" x=\"496.5\" y=\"-223.3\" font-family=\"Times New Roman,serif\" font-size=\"14.00\">samples = 10</text>\r\n",
       "<text text-anchor=\"middle\" x=\"496.5\" y=\"-208.3\" font-family=\"Times New Roman,serif\" font-size=\"14.00\">value = [10, 0]</text>\r\n",
       "</g>\r\n",
       "<!-- 13&#45;&gt;19 -->\r\n",
       "<g id=\"edge19\" class=\"edge\"><title>13&#45;&gt;19</title>\r\n",
       "<path fill=\"none\" stroke=\"black\" d=\"M418.162,-296.884C431.545,-285.116 446.582,-271.894 459.877,-260.203\"/>\r\n",
       "<polygon fill=\"black\" stroke=\"black\" points=\"462.279,-262.752 467.477,-253.52 457.656,-257.495 462.279,-262.752\"/>\r\n",
       "</g>\r\n",
       "<!-- 15 -->\r\n",
       "<g id=\"node16\" class=\"node\"><title>15</title>\r\n",
       "<polygon fill=\"none\" stroke=\"black\" points=\"424,-149.5 333,-149.5 333,-96.5 424,-96.5 424,-149.5\"/>\r\n",
       "<text text-anchor=\"middle\" x=\"378.5\" y=\"-134.3\" font-family=\"Times New Roman,serif\" font-size=\"14.00\">gini = 0.0</text>\r\n",
       "<text text-anchor=\"middle\" x=\"378.5\" y=\"-119.3\" font-family=\"Times New Roman,serif\" font-size=\"14.00\">samples = 4</text>\r\n",
       "<text text-anchor=\"middle\" x=\"378.5\" y=\"-104.3\" font-family=\"Times New Roman,serif\" font-size=\"14.00\">value = [4, 0]</text>\r\n",
       "</g>\r\n",
       "<!-- 14&#45;&gt;15 -->\r\n",
       "<g id=\"edge15\" class=\"edge\"><title>14&#45;&gt;15</title>\r\n",
       "<path fill=\"none\" stroke=\"black\" d=\"M379.851,-192.884C379.641,-182.216 379.409,-170.352 379.196,-159.519\"/>\r\n",
       "<polygon fill=\"black\" stroke=\"black\" points=\"382.696,-159.449 379,-149.52 375.697,-159.587 382.696,-159.449\"/>\r\n",
       "</g>\r\n",
       "<!-- 16 -->\r\n",
       "<g id=\"node17\" class=\"node\"><title>16</title>\r\n",
       "<polygon fill=\"none\" stroke=\"black\" points=\"533,-157 442,-157 442,-89 533,-89 533,-157\"/>\r\n",
       "<text text-anchor=\"middle\" x=\"487.5\" y=\"-141.8\" font-family=\"Times New Roman,serif\" font-size=\"14.00\">X[2] &lt;= 13.5</text>\r\n",
       "<text text-anchor=\"middle\" x=\"487.5\" y=\"-126.8\" font-family=\"Times New Roman,serif\" font-size=\"14.00\">gini = 0.5</text>\r\n",
       "<text text-anchor=\"middle\" x=\"487.5\" y=\"-111.8\" font-family=\"Times New Roman,serif\" font-size=\"14.00\">samples = 2</text>\r\n",
       "<text text-anchor=\"middle\" x=\"487.5\" y=\"-96.8\" font-family=\"Times New Roman,serif\" font-size=\"14.00\">value = [1, 1]</text>\r\n",
       "</g>\r\n",
       "<!-- 14&#45;&gt;16 -->\r\n",
       "<g id=\"edge16\" class=\"edge\"><title>14&#45;&gt;16</title>\r\n",
       "<path fill=\"none\" stroke=\"black\" d=\"M415.24,-192.884C424.771,-183.798 435.211,-173.845 445.119,-164.4\"/>\r\n",
       "<polygon fill=\"black\" stroke=\"black\" points=\"447.745,-166.733 452.568,-157.299 442.915,-161.666 447.745,-166.733\"/>\r\n",
       "</g>\r\n",
       "<!-- 17 -->\r\n",
       "<g id=\"node18\" class=\"node\"><title>17</title>\r\n",
       "<polygon fill=\"none\" stroke=\"black\" points=\"478,-53 387,-53 387,-0 478,-0 478,-53\"/>\r\n",
       "<text text-anchor=\"middle\" x=\"432.5\" y=\"-37.8\" font-family=\"Times New Roman,serif\" font-size=\"14.00\">gini = 0.0</text>\r\n",
       "<text text-anchor=\"middle\" x=\"432.5\" y=\"-22.8\" font-family=\"Times New Roman,serif\" font-size=\"14.00\">samples = 1</text>\r\n",
       "<text text-anchor=\"middle\" x=\"432.5\" y=\"-7.8\" font-family=\"Times New Roman,serif\" font-size=\"14.00\">value = [0, 1]</text>\r\n",
       "</g>\r\n",
       "<!-- 16&#45;&gt;17 -->\r\n",
       "<g id=\"edge17\" class=\"edge\"><title>16&#45;&gt;17</title>\r\n",
       "<path fill=\"none\" stroke=\"black\" d=\"M468.264,-88.9485C463.206,-80.2579 457.736,-70.8608 452.633,-62.0917\"/>\r\n",
       "<polygon fill=\"black\" stroke=\"black\" points=\"455.534,-60.1189 447.479,-53.2367 449.484,-63.6401 455.534,-60.1189\"/>\r\n",
       "</g>\r\n",
       "<!-- 18 -->\r\n",
       "<g id=\"node19\" class=\"node\"><title>18</title>\r\n",
       "<polygon fill=\"none\" stroke=\"black\" points=\"587,-53 496,-53 496,-0 587,-0 587,-53\"/>\r\n",
       "<text text-anchor=\"middle\" x=\"541.5\" y=\"-37.8\" font-family=\"Times New Roman,serif\" font-size=\"14.00\">gini = 0.0</text>\r\n",
       "<text text-anchor=\"middle\" x=\"541.5\" y=\"-22.8\" font-family=\"Times New Roman,serif\" font-size=\"14.00\">samples = 1</text>\r\n",
       "<text text-anchor=\"middle\" x=\"541.5\" y=\"-7.8\" font-family=\"Times New Roman,serif\" font-size=\"14.00\">value = [1, 0]</text>\r\n",
       "</g>\r\n",
       "<!-- 16&#45;&gt;18 -->\r\n",
       "<g id=\"edge18\" class=\"edge\"><title>16&#45;&gt;18</title>\r\n",
       "<path fill=\"none\" stroke=\"black\" d=\"M506.387,-88.9485C511.353,-80.2579 516.722,-70.8608 521.733,-62.0917\"/>\r\n",
       "<polygon fill=\"black\" stroke=\"black\" points=\"524.871,-63.6557 526.793,-53.2367 518.793,-60.1826 524.871,-63.6557\"/>\r\n",
       "</g>\r\n",
       "<!-- 21 -->\r\n",
       "<g id=\"node22\" class=\"node\"><title>21</title>\r\n",
       "<polygon fill=\"none\" stroke=\"black\" points=\"478,-573 387,-573 387,-505 478,-505 478,-573\"/>\r\n",
       "<text text-anchor=\"middle\" x=\"432.5\" y=\"-557.8\" font-family=\"Times New Roman,serif\" font-size=\"14.00\">X[2] &lt;= 5.5</text>\r\n",
       "<text text-anchor=\"middle\" x=\"432.5\" y=\"-542.8\" font-family=\"Times New Roman,serif\" font-size=\"14.00\">gini = 0.375</text>\r\n",
       "<text text-anchor=\"middle\" x=\"432.5\" y=\"-527.8\" font-family=\"Times New Roman,serif\" font-size=\"14.00\">samples = 4</text>\r\n",
       "<text text-anchor=\"middle\" x=\"432.5\" y=\"-512.8\" font-family=\"Times New Roman,serif\" font-size=\"14.00\">value = [3, 1]</text>\r\n",
       "</g>\r\n",
       "<!-- 20&#45;&gt;21 -->\r\n",
       "<g id=\"edge21\" class=\"edge\"><title>20&#45;&gt;21</title>\r\n",
       "<path fill=\"none\" stroke=\"black\" d=\"M432.5,-608.884C432.5,-600.778 432.5,-591.982 432.5,-583.472\"/>\r\n",
       "<polygon fill=\"black\" stroke=\"black\" points=\"436,-583.299 432.5,-573.299 429,-583.299 436,-583.299\"/>\r\n",
       "</g>\r\n",
       "<!-- 24 -->\r\n",
       "<g id=\"node25\" class=\"node\"><title>24</title>\r\n",
       "<polygon fill=\"none\" stroke=\"black\" points=\"646,-573 549,-573 549,-505 646,-505 646,-573\"/>\r\n",
       "<text text-anchor=\"middle\" x=\"597.5\" y=\"-557.8\" font-family=\"Times New Roman,serif\" font-size=\"14.00\">X[0] &lt;= 141.0</text>\r\n",
       "<text text-anchor=\"middle\" x=\"597.5\" y=\"-542.8\" font-family=\"Times New Roman,serif\" font-size=\"14.00\">gini = 0.32</text>\r\n",
       "<text text-anchor=\"middle\" x=\"597.5\" y=\"-527.8\" font-family=\"Times New Roman,serif\" font-size=\"14.00\">samples = 5</text>\r\n",
       "<text text-anchor=\"middle\" x=\"597.5\" y=\"-512.8\" font-family=\"Times New Roman,serif\" font-size=\"14.00\">value = [1, 4]</text>\r\n",
       "</g>\r\n",
       "<!-- 20&#45;&gt;24 -->\r\n",
       "<g id=\"edge24\" class=\"edge\"><title>20&#45;&gt;24</title>\r\n",
       "<path fill=\"none\" stroke=\"black\" d=\"M478.024,-613.858C497.304,-601.939 519.982,-587.92 540.37,-575.317\"/>\r\n",
       "<polygon fill=\"black\" stroke=\"black\" points=\"542.285,-578.248 548.95,-570.012 538.604,-572.294 542.285,-578.248\"/>\r\n",
       "</g>\r\n",
       "<!-- 22 -->\r\n",
       "<g id=\"node23\" class=\"node\"><title>22</title>\r\n",
       "<polygon fill=\"none\" stroke=\"black\" points=\"425,-461.5 334,-461.5 334,-408.5 425,-408.5 425,-461.5\"/>\r\n",
       "<text text-anchor=\"middle\" x=\"379.5\" y=\"-446.3\" font-family=\"Times New Roman,serif\" font-size=\"14.00\">gini = 0.0</text>\r\n",
       "<text text-anchor=\"middle\" x=\"379.5\" y=\"-431.3\" font-family=\"Times New Roman,serif\" font-size=\"14.00\">samples = 1</text>\r\n",
       "<text text-anchor=\"middle\" x=\"379.5\" y=\"-416.3\" font-family=\"Times New Roman,serif\" font-size=\"14.00\">value = [0, 1]</text>\r\n",
       "</g>\r\n",
       "<!-- 21&#45;&gt;22 -->\r\n",
       "<g id=\"edge22\" class=\"edge\"><title>21&#45;&gt;22</title>\r\n",
       "<path fill=\"none\" stroke=\"black\" d=\"M415.292,-504.884C409.578,-493.886 403.203,-481.617 397.435,-470.517\"/>\r\n",
       "<polygon fill=\"black\" stroke=\"black\" points=\"400.477,-468.78 392.76,-461.52 394.265,-472.007 400.477,-468.78\"/>\r\n",
       "</g>\r\n",
       "<!-- 23 -->\r\n",
       "<g id=\"node24\" class=\"node\"><title>23</title>\r\n",
       "<polygon fill=\"none\" stroke=\"black\" points=\"534,-461.5 443,-461.5 443,-408.5 534,-408.5 534,-461.5\"/>\r\n",
       "<text text-anchor=\"middle\" x=\"488.5\" y=\"-446.3\" font-family=\"Times New Roman,serif\" font-size=\"14.00\">gini = 0.0</text>\r\n",
       "<text text-anchor=\"middle\" x=\"488.5\" y=\"-431.3\" font-family=\"Times New Roman,serif\" font-size=\"14.00\">samples = 3</text>\r\n",
       "<text text-anchor=\"middle\" x=\"488.5\" y=\"-416.3\" font-family=\"Times New Roman,serif\" font-size=\"14.00\">value = [3, 0]</text>\r\n",
       "</g>\r\n",
       "<!-- 21&#45;&gt;23 -->\r\n",
       "<g id=\"edge23\" class=\"edge\"><title>21&#45;&gt;23</title>\r\n",
       "<path fill=\"none\" stroke=\"black\" d=\"M450.682,-504.884C456.72,-493.886 463.455,-481.617 469.55,-470.517\"/>\r\n",
       "<polygon fill=\"black\" stroke=\"black\" points=\"472.744,-471.97 474.489,-461.52 466.608,-468.601 472.744,-471.97\"/>\r\n",
       "</g>\r\n",
       "<!-- 25 -->\r\n",
       "<g id=\"node26\" class=\"node\"><title>25</title>\r\n",
       "<polygon fill=\"none\" stroke=\"black\" points=\"643,-461.5 552,-461.5 552,-408.5 643,-408.5 643,-461.5\"/>\r\n",
       "<text text-anchor=\"middle\" x=\"597.5\" y=\"-446.3\" font-family=\"Times New Roman,serif\" font-size=\"14.00\">gini = 0.0</text>\r\n",
       "<text text-anchor=\"middle\" x=\"597.5\" y=\"-431.3\" font-family=\"Times New Roman,serif\" font-size=\"14.00\">samples = 4</text>\r\n",
       "<text text-anchor=\"middle\" x=\"597.5\" y=\"-416.3\" font-family=\"Times New Roman,serif\" font-size=\"14.00\">value = [0, 4]</text>\r\n",
       "</g>\r\n",
       "<!-- 24&#45;&gt;25 -->\r\n",
       "<g id=\"edge25\" class=\"edge\"><title>24&#45;&gt;25</title>\r\n",
       "<path fill=\"none\" stroke=\"black\" d=\"M597.5,-504.884C597.5,-494.326 597.5,-482.597 597.5,-471.854\"/>\r\n",
       "<polygon fill=\"black\" stroke=\"black\" points=\"601,-471.52 597.5,-461.52 594,-471.52 601,-471.52\"/>\r\n",
       "</g>\r\n",
       "<!-- 26 -->\r\n",
       "<g id=\"node27\" class=\"node\"><title>26</title>\r\n",
       "<polygon fill=\"none\" stroke=\"black\" points=\"752,-461.5 661,-461.5 661,-408.5 752,-408.5 752,-461.5\"/>\r\n",
       "<text text-anchor=\"middle\" x=\"706.5\" y=\"-446.3\" font-family=\"Times New Roman,serif\" font-size=\"14.00\">gini = 0.0</text>\r\n",
       "<text text-anchor=\"middle\" x=\"706.5\" y=\"-431.3\" font-family=\"Times New Roman,serif\" font-size=\"14.00\">samples = 1</text>\r\n",
       "<text text-anchor=\"middle\" x=\"706.5\" y=\"-416.3\" font-family=\"Times New Roman,serif\" font-size=\"14.00\">value = [1, 0]</text>\r\n",
       "</g>\r\n",
       "<!-- 24&#45;&gt;26 -->\r\n",
       "<g id=\"edge26\" class=\"edge\"><title>24&#45;&gt;26</title>\r\n",
       "<path fill=\"none\" stroke=\"black\" d=\"M632.889,-504.884C645.347,-493.226 659.33,-480.141 671.736,-468.532\"/>\r\n",
       "<polygon fill=\"black\" stroke=\"black\" points=\"674.319,-470.908 679.229,-461.52 669.536,-465.797 674.319,-470.908\"/>\r\n",
       "</g>\r\n",
       "</g>\r\n",
       "</svg>\r\n"
      ],
      "text/plain": [
       "<graphviz.files.Source at 0x23748f0b128>"
      ]
     },
     "execution_count": 8,
     "metadata": {},
     "output_type": "execute_result"
    }
   ],
   "source": [
    "dot_data = export_graphviz(dtree, out_file=None) \n",
    "graph = graphviz.Source(dot_data) \n",
    "graph"
   ]
  },
  {
   "cell_type": "markdown",
   "metadata": {},
   "source": [
    "Next let's examine the extremely randomized tree method. This algorithm implements a meta estimator that fits a number of randomized decision trees (a.k.a. extra-trees) on various sub-samples of the dataset and use averaging to improve the predictive accuracy and control over-fitting. Some of the arguments for the ExtraTreesClassifier() method include the following: \n",
    "\n",
    "  1. n_estimators: integer, optional (default=10)\n",
    "  2. criterion: string, optional (default='gini', and the alternative includes 'entropy', both of which measures the impurity functions\n",
    "  3. max_features: int, float, string or None, optional (default='auto')\n",
    "  \n",
    "The maximum feature determines the number of features to consider when looking for the best split. Having a value of 'int' considers 'max_features' features at each split. Having a value of 'float' implies that 'max_features' is a percentage and int(max_features * n_features) features are considered at each split. If 'auto', then max_features=sqrt(n_features). If 'log2', then max_features=log2(n_features). If None value is supported, then max_features=n_features (here n_feature denotes the number of total features in the model). \n",
    "\n",
    "There are many other optional arguments for this method which can be found in the online documentation. \n",
    "\n",
    "Now let's apply this method to the same dataset and compare:"
   ]
  },
  {
   "cell_type": "code",
   "execution_count": 9,
   "metadata": {},
   "outputs": [
    {
     "name": "stdout",
     "output_type": "stream",
     "text": [
      "             precision    recall  f1-score   support\n",
      "\n",
      "     absent       0.79      1.00      0.88        19\n",
      "    present       1.00      0.17      0.29         6\n",
      "\n",
      "avg / total       0.84      0.80      0.74        25\n",
      "\n"
     ]
    }
   ],
   "source": [
    "extratree = ExtraTreesClassifier()\n",
    "extratree.fit(X_train,y_train)\n",
    "predictions = extratree.predict(X_test)\n",
    "print(classification_report(y_test,predictions))"
   ]
  },
  {
   "cell_type": "markdown",
   "metadata": {},
   "source": [
    "If you would like to see how each tree is performed, you can do the following:"
   ]
  },
  {
   "cell_type": "code",
   "execution_count": 10,
   "metadata": {},
   "outputs": [
    {
     "data": {
      "text/plain": [
       "[ExtraTreeClassifier(class_weight=None, criterion='gini', max_depth=None,\n",
       "           max_features='auto', max_leaf_nodes=None,\n",
       "           min_impurity_decrease=0.0, min_impurity_split=None,\n",
       "           min_samples_leaf=1, min_samples_split=2,\n",
       "           min_weight_fraction_leaf=0.0, random_state=1666104221,\n",
       "           splitter='random'),\n",
       " ExtraTreeClassifier(class_weight=None, criterion='gini', max_depth=None,\n",
       "           max_features='auto', max_leaf_nodes=None,\n",
       "           min_impurity_decrease=0.0, min_impurity_split=None,\n",
       "           min_samples_leaf=1, min_samples_split=2,\n",
       "           min_weight_fraction_leaf=0.0, random_state=205006053,\n",
       "           splitter='random'),\n",
       " ExtraTreeClassifier(class_weight=None, criterion='gini', max_depth=None,\n",
       "           max_features='auto', max_leaf_nodes=None,\n",
       "           min_impurity_decrease=0.0, min_impurity_split=None,\n",
       "           min_samples_leaf=1, min_samples_split=2,\n",
       "           min_weight_fraction_leaf=0.0, random_state=631527514,\n",
       "           splitter='random'),\n",
       " ExtraTreeClassifier(class_weight=None, criterion='gini', max_depth=None,\n",
       "           max_features='auto', max_leaf_nodes=None,\n",
       "           min_impurity_decrease=0.0, min_impurity_split=None,\n",
       "           min_samples_leaf=1, min_samples_split=2,\n",
       "           min_weight_fraction_leaf=0.0, random_state=443671712,\n",
       "           splitter='random'),\n",
       " ExtraTreeClassifier(class_weight=None, criterion='gini', max_depth=None,\n",
       "           max_features='auto', max_leaf_nodes=None,\n",
       "           min_impurity_decrease=0.0, min_impurity_split=None,\n",
       "           min_samples_leaf=1, min_samples_split=2,\n",
       "           min_weight_fraction_leaf=0.0, random_state=1977355210,\n",
       "           splitter='random'),\n",
       " ExtraTreeClassifier(class_weight=None, criterion='gini', max_depth=None,\n",
       "           max_features='auto', max_leaf_nodes=None,\n",
       "           min_impurity_decrease=0.0, min_impurity_split=None,\n",
       "           min_samples_leaf=1, min_samples_split=2,\n",
       "           min_weight_fraction_leaf=0.0, random_state=2101696744,\n",
       "           splitter='random'),\n",
       " ExtraTreeClassifier(class_weight=None, criterion='gini', max_depth=None,\n",
       "           max_features='auto', max_leaf_nodes=None,\n",
       "           min_impurity_decrease=0.0, min_impurity_split=None,\n",
       "           min_samples_leaf=1, min_samples_split=2,\n",
       "           min_weight_fraction_leaf=0.0, random_state=538502176,\n",
       "           splitter='random'),\n",
       " ExtraTreeClassifier(class_weight=None, criterion='gini', max_depth=None,\n",
       "           max_features='auto', max_leaf_nodes=None,\n",
       "           min_impurity_decrease=0.0, min_impurity_split=None,\n",
       "           min_samples_leaf=1, min_samples_split=2,\n",
       "           min_weight_fraction_leaf=0.0, random_state=1154706132,\n",
       "           splitter='random'),\n",
       " ExtraTreeClassifier(class_weight=None, criterion='gini', max_depth=None,\n",
       "           max_features='auto', max_leaf_nodes=None,\n",
       "           min_impurity_decrease=0.0, min_impurity_split=None,\n",
       "           min_samples_leaf=1, min_samples_split=2,\n",
       "           min_weight_fraction_leaf=0.0, random_state=605517548,\n",
       "           splitter='random'),\n",
       " ExtraTreeClassifier(class_weight=None, criterion='gini', max_depth=None,\n",
       "           max_features='auto', max_leaf_nodes=None,\n",
       "           min_impurity_decrease=0.0, min_impurity_split=None,\n",
       "           min_samples_leaf=1, min_samples_split=2,\n",
       "           min_weight_fraction_leaf=0.0, random_state=1627926324,\n",
       "           splitter='random')]"
      ]
     },
     "execution_count": 10,
     "metadata": {},
     "output_type": "execute_result"
    }
   ],
   "source": [
    "extratree.estimators_"
   ]
  },
  {
   "cell_type": "markdown",
   "metadata": {},
   "source": [
    "The extra tree method is hard to visualize given the random nature of the algorithm (because there are more than one trees). However, practioners often use this method to rank variable importance. "
   ]
  },
  {
   "cell_type": "code",
   "execution_count": 11,
   "metadata": {},
   "outputs": [
    {
     "name": "stdout",
     "output_type": "stream",
     "text": [
      "The features to be scored include the following in order:  ['Age', 'Number', 'Start'] \n",
      "\n",
      "Age : 0.361451460348\n",
      "Number : 0.325693315142\n",
      "Start : 0.31285522451\n",
      "\n",
      " Feature ranking:\n",
      "1. feature 0 (0.361451)\n",
      "2. feature 1 (0.325693)\n",
      "3. feature 2 (0.312855)\n"
     ]
    },
    {
     "data": {
      "image/png": "[encoded data removed]",
      "text/plain": [
       "<matplotlib.figure.Figure at 0x2374909f6a0>"
      ]
     },
     "metadata": {},
     "output_type": "display_data"
    }
   ],
   "source": [
    "Xcolumn_names=list(X_train)\n",
    "importances = extratree.feature_importances_\n",
    "feature_report = dict(zip(Xcolumn_names, importances))\n",
    "print('The features to be scored include the following in order: ', Xcolumn_names, '\\n')\n",
    "for j in feature_report:\n",
    "    print (j,':',feature_report[j])    \n",
    "    \n",
    "std = np.std([extratree.feature_importances_ for tree in extratree.estimators_],axis=0)\n",
    "indices = np.argsort(importances)[::-1]\n",
    "print(\"\\n Feature ranking:\")\n",
    "for f in range(X_train.shape[1]):\n",
    "    print(\"%d. feature %d (%f)\" % (f + 1, indices[f], importances[indices[f]]))\n",
    "    \n",
    "plt.figure()\n",
    "plt.title(\"Feature importances\")\n",
    "plt.bar(range(X_train.shape[1]), importances[indices], color=\"r\", yerr=std[indices], align=\"center\")\n",
    "plt.xticks(range(X_train.shape[1]), indices)\n",
    "plt.xlim([-1, X_train.shape[1]])\n",
    "plt.show()"
   ]
  },
  {
   "cell_type": "markdown",
   "metadata": {},
   "source": [
    "The third algorithm we will go over is the tree-bagging algorithm for classification. The main function we will be using is BaggingClassifier(). Bagging originally denotes bootstrap aggregating. Here, the BaggingClassifier() is actually a more general classifier than the originally proposed tree-bagging classification algorithm. In Python specifically, BaggingClassifier() can be encapsulated as an ensemble meta-estimator that fits base classifiers each on random subsets of the original dataset and then aggregate their individual predictions (either by voting or by averaging) to form a final prediction. Such a meta-estimator can typically be used as a way to reduce the variance of a black-box estimator (e.g., a decision tree), by introducing randomization into its construction procedure and then making an ensemble out of it.\n",
    "\n",
    "This BaggingClassifier() algorithm in Python encompasses several works from the literature. When random subsets of the dataset are drawn as random subsets of the samples, then this algorithm is known as 'Pasting'. If samples are drawn with replacement (through bootstrap), then the method is known as 'Bagging' (this is the original bagging). When random subsets of the dataset are drawn as random subsets of the features, then the method is known as 'Random Subspaces'. Finally, when base estimators are built on subsets of both samples and features, then the method is known as 'Random Patches'. The online documentation provides all the details of these algorithms and their sources from academic papers. Basically, the key here is that BaggingClassifier() not only includes the tree-bagging algorithm proposed by Breiman (1996) in his paper 'Bagging Predictors'. \n",
    "\n",
    "The BaggingClassifier() function provides a set of arguments. Here are some highlights:\n",
    "\n",
    "  1. base_estimator: object or None, optional (default=None)\n",
    "  2. n_estimators: int, optional (default=10)\n",
    "  3. max_samples: int or float, optional (default=1.0)\n",
    "  4. bootstrap: (default=True)\n",
    "  5. bootstrap_features: (default=False)\n",
    "\n",
    "For (1), the base estimator to fit on random subsets of the dataset. If the value is set 'None', then the base estimator is a decision tree. For (2), the n_estimators is the number of base estimators in the ensemble. For (3), max_samples is the number of samples to draw from X to train each base estimator. In particular:\n",
    "\n",
    "  1. If 'int', then draw max_samples samples.\n",
    "  2. If 'float', then draw max_samples * X.shape[0] samples.\n",
    "  \n",
    "For (5), the argument controls whether features are drawn with replacement. Again, there are many more arguments not discussed but can be found from the online documentation. \n",
    "\n",
    "There are also many methods associated with this algorithm. For example, score(X, y, sample_weight=None) returns the average accuracy on the given dataset and labels. For another example, predict_proba(X) can also predict class probabilities for X. The predicted class probabilities of an input sample is computed as the mean predicted class probabilities of the base estimators in the ensemble. If base estimators do not implement a predict_proba() method, then it resorts to voting and the predicted class probabilities of an input sample represents the proportion of estimators predicting each class.\n",
    "\n",
    "Below, let's create an example of using BaggingClassifier() with 100 trees and CART as the base estimator:"
   ]
  },
  {
   "cell_type": "code",
   "execution_count": 12,
   "metadata": {},
   "outputs": [
    {
     "name": "stdout",
     "output_type": "stream",
     "text": [
      "             precision    recall  f1-score   support\n",
      "\n",
      "     absent       0.79      1.00      0.88        19\n",
      "    present       1.00      0.17      0.29         6\n",
      "\n",
      "avg / total       0.84      0.80      0.74        25\n",
      "\n"
     ]
    }
   ],
   "source": [
    "CART = DecisionTreeClassifier()\n",
    "seed=10023\n",
    "num_trees = 100\n",
    "btree = BaggingClassifier(base_estimator=CART, n_estimators=num_trees, random_state=seed)\n",
    "btree.fit(X_train,y_train)\n",
    "predictions = btree.predict(X_test)\n",
    "print(classification_report(y_test,predictions))"
   ]
  },
  {
   "cell_type": "markdown",
   "metadata": {},
   "source": [
    "The BaggingClassifier() does not have the feature importance mechanism to help us select variables. "
   ]
  },
  {
   "cell_type": "markdown",
   "metadata": {},
   "source": [
    "Lastly, let's go over random forests. A random forest is a meta estimator that fits a number of decision tree classifiers on various sub-samples of the dataset and use averaging to improve the predictive accuracy and control over-fitting. The sub-sample size is always the same as the original input sample size but the samples are drawn with replacement if bootstrap=True (default).\n",
    "\n",
    "The syntax for RandomForestClassifier() is extremely similar to the previous three algorithms so we will not elaborate here, and any confusions can be cleared by referencing the online documentation. The nice thing about this function is that it has the attribute 'feature_importances_'."
   ]
  },
  {
   "cell_type": "code",
   "execution_count": 13,
   "metadata": {},
   "outputs": [
    {
     "name": "stdout",
     "output_type": "stream",
     "text": [
      "             precision    recall  f1-score   support\n",
      "\n",
      "     absent       0.79      1.00      0.88        19\n",
      "    present       1.00      0.17      0.29         6\n",
      "\n",
      "avg / total       0.84      0.80      0.74        25\n",
      "\n"
     ]
    }
   ],
   "source": [
    "rftree = RandomForestClassifier()\n",
    "rftree.fit(X_train,y_train)\n",
    "predictions = rftree.predict(X_test)\n",
    "print(classification_report(y_test,predictions))"
   ]
  },
  {
   "cell_type": "code",
   "execution_count": 14,
   "metadata": {},
   "outputs": [
    {
     "name": "stdout",
     "output_type": "stream",
     "text": [
      "The features to be scored include the following in order:  ['Age', 'Number', 'Start'] \n",
      "\n",
      "Age : 0.245541175293\n",
      "Number : 0.312572752207\n",
      "Start : 0.4418860725\n",
      "\n",
      " Feature ranking:\n",
      "1. feature 2 (0.441886)\n",
      "2. feature 1 (0.312573)\n",
      "3. feature 0 (0.245541)\n"
     ]
    },
    {
     "data": {
      "image/png": "[encoded data removed]",
      "text/plain": [
       "<matplotlib.figure.Figure at 0x237491010b8>"
      ]
     },
     "metadata": {},
     "output_type": "display_data"
    }
   ],
   "source": [
    "Xcolumn_names=list(X_train)\n",
    "importances = rftree.feature_importances_\n",
    "feature_report = dict(zip(Xcolumn_names, importances))\n",
    "print('The features to be scored include the following in order: ', Xcolumn_names, '\\n')\n",
    "for j in feature_report:\n",
    "    print (j,':',feature_report[j])    \n",
    "    \n",
    "std = np.std([rftree.feature_importances_ for tree in rftree.estimators_],axis=0)\n",
    "indices = np.argsort(importances)[::-1]\n",
    "print(\"\\n Feature ranking:\")\n",
    "for f in range(X_train.shape[1]):\n",
    "    print(\"%d. feature %d (%f)\" % (f + 1, indices[f], importances[indices[f]]))\n",
    "    \n",
    "plt.figure()\n",
    "plt.title(\"Feature importances\")\n",
    "plt.bar(range(X_train.shape[1]), importances[indices], color=\"turquoise\", yerr=std[indices], align=\"center\")\n",
    "plt.xticks(range(X_train.shape[1]), indices)\n",
    "plt.xlim([-1, X_train.shape[1]])\n",
    "plt.show()"
   ]
  },
  {
   "cell_type": "markdown",
   "metadata": {},
   "source": [
    "Additional resources:\n",
    "  - https://www.analyticsvidhya.com/blog/2016/04/complete-tutorial-tree-based-modeling-scratch-in-python/\n",
    "  - https://jakevdp.github.io/PythonDataScienceHandbook/05.08-random-forests.html\n",
    "  - https://machinelearningmastery.com/ensemble-machine-learning-algorithms-python-scikit-learn/\n",
    "  - http://scikit-learn.org/stable/modules/tree.html\n",
    "  - http://scikit-learn.org/stable/modules/generated/sklearn.tree.DecisionTreeClassifier.html\n",
    "  - http://scikit-learn.org/stable/modules/generated/sklearn.ensemble.ExtraTreesClassifier.html\n",
    "  - http://scikit-learn.org/stable/modules/generated/sklearn.ensemble.BaggingClassifier.html\n",
    "  - http://scikit-learn.org/stable/modules/generated/sklearn.ensemble.RandomForestClassifier.html "
   ]
  },
  {
   "cell_type": "code",
   "execution_count": null,
   "metadata": {
    "collapsed": true
   },
   "outputs": [],
   "source": []
  }
 ],
 "metadata": {
  "kernelspec": {
   "display_name": "Python 3",
   "language": "python",
   "name": "python3"
  },
  "language_info": {
   "codemirror_mode": {
    "name": "ipython",
    "version": 3
   },
   "file_extension": ".py",
   "mimetype": "text/x-python",
   "name": "python",
   "nbconvert_exporter": "python",
   "pygments_lexer": "ipython3",
   "version": "3.6.3"
  }
 },
 "nbformat": 4,
 "nbformat_minor": 2
}
