{
 "cells": [
  {
   "cell_type": "markdown",
   "metadata": {},
   "source": [
    "In this lecture, we go over some hard problems of data manipulations and explain the techniques in a more applied setting."
   ]
  },
  {
   "cell_type": "markdown",
   "metadata": {},
   "source": [
    "Our first example comes from the healthcare industry. In healthcare, data scientists are often faced with administrative data (billing data). Examples include diagnosis codes, POA codes, procedure codes, revenue codes and admission/discharge dates etc. Often, when we deal with heathcare data, we are often faced with many categorical variables. Before running any machine learning algorithms, we must convert these categorical variables into indicators/flags with 1 or 0. When there are a large number of columns that need to be dealt with (say we receive data that has 99 diagnosis codes, each code could be different or the same), we face an issue here. "
   ]
  },
  {
   "cell_type": "code",
   "execution_count": 1,
   "metadata": {},
   "outputs": [],
   "source": [
    "import numpy as np\n",
    "import pandas as pd"
   ]
  },
  {
   "cell_type": "markdown",
   "metadata": {},
   "source": [
    "Let's create a pseudo-dataset. Suppose we have a snippet of the healthcare data like below. We have three diagnosis fields (dx1-dx3). For simplicity, they are now represented by pseudo-diagnosis codes using English letters 'a', 'b', 'c'. etc. In real data, these can be either real diagnosis codes (e.g. A06.89), real procedure codes, POA codes, or revenue codes etc. Here for simplicity and for illustrative purposes, we only use generic 'a', 'b', 'c' without loss of generality. You can think of each record as one encounter in the inpatient setting:"
   ]
  },
  {
   "cell_type": "code",
   "execution_count": 2,
   "metadata": {},
   "outputs": [
    {
     "data": {
      "text/html": [
       "<div>\n",
       "<style scoped>\n",
       "    .dataframe tbody tr th:only-of-type {\n",
       "        vertical-align: middle;\n",
       "    }\n",
       "\n",
       "    .dataframe tbody tr th {\n",
       "        vertical-align: top;\n",
       "    }\n",
       "\n",
       "    .dataframe thead th {\n",
       "        text-align: right;\n",
       "    }\n",
       "</style>\n",
       "<table border=\"1\" class=\"dataframe\">\n",
       "  <thead>\n",
       "    <tr style=\"text-align: right;\">\n",
       "      <th></th>\n",
       "      <th>PatientID</th>\n",
       "      <th>x</th>\n",
       "      <th>dx1</th>\n",
       "      <th>dx2</th>\n",
       "      <th>dx3</th>\n",
       "      <th>y</th>\n",
       "    </tr>\n",
       "  </thead>\n",
       "  <tbody>\n",
       "    <tr>\n",
       "      <th>0</th>\n",
       "      <td>111</td>\n",
       "      <td>5.5</td>\n",
       "      <td>a</td>\n",
       "      <td>b</td>\n",
       "      <td>c</td>\n",
       "      <td>1.3</td>\n",
       "    </tr>\n",
       "    <tr>\n",
       "      <th>1</th>\n",
       "      <td>111</td>\n",
       "      <td>3.0</td>\n",
       "      <td>a</td>\n",
       "      <td>b</td>\n",
       "      <td>e</td>\n",
       "      <td>3.2</td>\n",
       "    </tr>\n",
       "    <tr>\n",
       "      <th>2</th>\n",
       "      <td>222</td>\n",
       "      <td>1.2</td>\n",
       "      <td>b</td>\n",
       "      <td>a</td>\n",
       "      <td>c</td>\n",
       "      <td>2.4</td>\n",
       "    </tr>\n",
       "    <tr>\n",
       "      <th>3</th>\n",
       "      <td>222</td>\n",
       "      <td>3.5</td>\n",
       "      <td>a</td>\n",
       "      <td>NA</td>\n",
       "      <td>d</td>\n",
       "      <td>1.5</td>\n",
       "    </tr>\n",
       "    <tr>\n",
       "      <th>4</th>\n",
       "      <td>333</td>\n",
       "      <td>7.2</td>\n",
       "      <td>a</td>\n",
       "      <td>NA</td>\n",
       "      <td>NA</td>\n",
       "      <td>3.5</td>\n",
       "    </tr>\n",
       "    <tr>\n",
       "      <th>5</th>\n",
       "      <td>333</td>\n",
       "      <td>2.1</td>\n",
       "      <td>a</td>\n",
       "      <td>b</td>\n",
       "      <td>NA</td>\n",
       "      <td>6.6</td>\n",
       "    </tr>\n",
       "    <tr>\n",
       "      <th>6</th>\n",
       "      <td>333</td>\n",
       "      <td>2.2</td>\n",
       "      <td>a</td>\n",
       "      <td>b</td>\n",
       "      <td>d</td>\n",
       "      <td>6.9</td>\n",
       "    </tr>\n",
       "    <tr>\n",
       "      <th>7</th>\n",
       "      <td>333</td>\n",
       "      <td>2.1</td>\n",
       "      <td>a</td>\n",
       "      <td>b</td>\n",
       "      <td>d</td>\n",
       "      <td>9.2</td>\n",
       "    </tr>\n",
       "  </tbody>\n",
       "</table>\n",
       "</div>"
      ],
      "text/plain": [
       "  PatientID    x dx1 dx2 dx3    y\n",
       "0       111  5.5   a   b   c  1.3\n",
       "1       111  3.0   a   b   e  3.2\n",
       "2       222  1.2   b   a   c  2.4\n",
       "3       222  3.5   a  NA   d  1.5\n",
       "4       333  7.2   a  NA  NA  3.5\n",
       "5       333  2.1   a   b  NA  6.6\n",
       "6       333  2.2   a   b   d  6.9\n",
       "7       333  2.1   a   b   d  9.2"
      ]
     },
     "execution_count": 2,
     "metadata": {},
     "output_type": "execute_result"
    }
   ],
   "source": [
    "my_data = np.array([[111, 5.5, 'a', 'b', 'c', 1.3],\n",
    "                    [111, 3.0, 'a', 'b', 'e', 3.2],\n",
    "                    [222, 1.2, 'b', 'a', 'c', 2.4],\n",
    "                    [222, 3.5, 'a', 'NA', 'd', 1.5],\n",
    "                    [333, 7.2, 'a', 'NA', 'NA', 3.5],\n",
    "                    [333, 2.1, 'a', 'b', 'NA', 6.6],\n",
    "                    [333, 2.2, 'a', 'b', 'd', 6.9],\n",
    "                    [333, 2.1, 'a', 'b', 'd', 9.2]])\n",
    "df=pd.DataFrame(data=my_data, columns=['PatientID', 'x', 'dx1', 'dx2', 'dx3', 'y'])\n",
    "df"
   ]
  },
  {
   "cell_type": "markdown",
   "metadata": {
    "collapsed": true
   },
   "source": [
    "The simpliest way to get dummy variables is to use the get_dummies() methods. We first create a table for each diagnosis code and then later concatenate them based on row index, creating a final table that simply contains all diagnosis code flags (called 'DX' here in our example):"
   ]
  },
  {
   "cell_type": "code",
   "execution_count": 3,
   "metadata": {},
   "outputs": [
    {
     "data": {
      "text/html": [
       "<div>\n",
       "<style scoped>\n",
       "    .dataframe tbody tr th:only-of-type {\n",
       "        vertical-align: middle;\n",
       "    }\n",
       "\n",
       "    .dataframe tbody tr th {\n",
       "        vertical-align: top;\n",
       "    }\n",
       "\n",
       "    .dataframe thead th {\n",
       "        text-align: right;\n",
       "    }\n",
       "</style>\n",
       "<table border=\"1\" class=\"dataframe\">\n",
       "  <thead>\n",
       "    <tr style=\"text-align: right;\">\n",
       "      <th></th>\n",
       "      <th>dx1_a</th>\n",
       "      <th>dx1_b</th>\n",
       "      <th>dx2_NA</th>\n",
       "      <th>dx2_a</th>\n",
       "      <th>dx2_b</th>\n",
       "      <th>dx3_NA</th>\n",
       "      <th>dx3_c</th>\n",
       "      <th>dx3_d</th>\n",
       "      <th>dx3_e</th>\n",
       "    </tr>\n",
       "  </thead>\n",
       "  <tbody>\n",
       "    <tr>\n",
       "      <th>0</th>\n",
       "      <td>1</td>\n",
       "      <td>0</td>\n",
       "      <td>0</td>\n",
       "      <td>0</td>\n",
       "      <td>1</td>\n",
       "      <td>0</td>\n",
       "      <td>1</td>\n",
       "      <td>0</td>\n",
       "      <td>0</td>\n",
       "    </tr>\n",
       "    <tr>\n",
       "      <th>1</th>\n",
       "      <td>1</td>\n",
       "      <td>0</td>\n",
       "      <td>0</td>\n",
       "      <td>0</td>\n",
       "      <td>1</td>\n",
       "      <td>0</td>\n",
       "      <td>0</td>\n",
       "      <td>0</td>\n",
       "      <td>1</td>\n",
       "    </tr>\n",
       "    <tr>\n",
       "      <th>2</th>\n",
       "      <td>0</td>\n",
       "      <td>1</td>\n",
       "      <td>0</td>\n",
       "      <td>1</td>\n",
       "      <td>0</td>\n",
       "      <td>0</td>\n",
       "      <td>1</td>\n",
       "      <td>0</td>\n",
       "      <td>0</td>\n",
       "    </tr>\n",
       "    <tr>\n",
       "      <th>3</th>\n",
       "      <td>1</td>\n",
       "      <td>0</td>\n",
       "      <td>1</td>\n",
       "      <td>0</td>\n",
       "      <td>0</td>\n",
       "      <td>0</td>\n",
       "      <td>0</td>\n",
       "      <td>1</td>\n",
       "      <td>0</td>\n",
       "    </tr>\n",
       "    <tr>\n",
       "      <th>4</th>\n",
       "      <td>1</td>\n",
       "      <td>0</td>\n",
       "      <td>1</td>\n",
       "      <td>0</td>\n",
       "      <td>0</td>\n",
       "      <td>1</td>\n",
       "      <td>0</td>\n",
       "      <td>0</td>\n",
       "      <td>0</td>\n",
       "    </tr>\n",
       "    <tr>\n",
       "      <th>5</th>\n",
       "      <td>1</td>\n",
       "      <td>0</td>\n",
       "      <td>0</td>\n",
       "      <td>0</td>\n",
       "      <td>1</td>\n",
       "      <td>1</td>\n",
       "      <td>0</td>\n",
       "      <td>0</td>\n",
       "      <td>0</td>\n",
       "    </tr>\n",
       "    <tr>\n",
       "      <th>6</th>\n",
       "      <td>1</td>\n",
       "      <td>0</td>\n",
       "      <td>0</td>\n",
       "      <td>0</td>\n",
       "      <td>1</td>\n",
       "      <td>0</td>\n",
       "      <td>0</td>\n",
       "      <td>1</td>\n",
       "      <td>0</td>\n",
       "    </tr>\n",
       "    <tr>\n",
       "      <th>7</th>\n",
       "      <td>1</td>\n",
       "      <td>0</td>\n",
       "      <td>0</td>\n",
       "      <td>0</td>\n",
       "      <td>1</td>\n",
       "      <td>0</td>\n",
       "      <td>0</td>\n",
       "      <td>1</td>\n",
       "      <td>0</td>\n",
       "    </tr>\n",
       "  </tbody>\n",
       "</table>\n",
       "</div>"
      ],
      "text/plain": [
       "   dx1_a  dx1_b  dx2_NA  dx2_a  dx2_b  dx3_NA  dx3_c  dx3_d  dx3_e\n",
       "0      1      0       0      0      1       0      1      0      0\n",
       "1      1      0       0      0      1       0      0      0      1\n",
       "2      0      1       0      1      0       0      1      0      0\n",
       "3      1      0       1      0      0       0      0      1      0\n",
       "4      1      0       1      0      0       1      0      0      0\n",
       "5      1      0       0      0      1       1      0      0      0\n",
       "6      1      0       0      0      1       0      0      1      0\n",
       "7      1      0       0      0      1       0      0      1      0"
      ]
     },
     "execution_count": 3,
     "metadata": {},
     "output_type": "execute_result"
    }
   ],
   "source": [
    "dx1= pd.get_dummies(df['dx1'], prefix='dx1')\n",
    "dx2 = pd.get_dummies(df['dx2'], prefix='dx2')\n",
    "dx3 = pd.get_dummies(df['dx3'], prefix='dx3')\n",
    "# print('dx1:\\n', dx1, '\\n')\n",
    "# print('dx2:\\n', dx2, '\\n')\n",
    "# print('dx3:\\n', dx3, '\\n')\n",
    "DX = pd.concat([dx1, dx2, dx3], axis=1)\n",
    "del dx1,dx2,dx3\n",
    "DX"
   ]
  },
  {
   "cell_type": "markdown",
   "metadata": {
    "collapsed": true
   },
   "source": [
    "Now let's roll up the encounters for each patient by adding up all of the diagnosis codes in the sense that we want to get the count of each diagnosis code (if there is no diagnosis code, or NA, then we count NA as a dummy diagnosis code). First, let's now combine the diagnosis table with the original data and do a group-by analysis to sum up all the counts of the diagnosis codes per patient:"
   ]
  },
  {
   "cell_type": "code",
   "execution_count": 4,
   "metadata": {},
   "outputs": [
    {
     "name": "stdout",
     "output_type": "stream",
     "text": [
      "['PatientID', 'x', 'y', 'dx1_a', 'dx1_b', 'dx2_NA', 'dx2_a', 'dx2_b', 'dx3_NA', 'dx3_c', 'dx3_d', 'dx3_e']\n",
      "['dx1_a', 'dx1_b', 'dx2_NA', 'dx2_a', 'dx2_b', 'dx3_NA', 'dx3_c', 'dx3_d', 'dx3_e']\n",
      "['x', 'y']\n"
     ]
    },
    {
     "data": {
      "text/html": [
       "<div>\n",
       "<style scoped>\n",
       "    .dataframe tbody tr th:only-of-type {\n",
       "        vertical-align: middle;\n",
       "    }\n",
       "\n",
       "    .dataframe tbody tr th {\n",
       "        vertical-align: top;\n",
       "    }\n",
       "\n",
       "    .dataframe thead th {\n",
       "        text-align: right;\n",
       "    }\n",
       "</style>\n",
       "<table border=\"1\" class=\"dataframe\">\n",
       "  <thead>\n",
       "    <tr style=\"text-align: right;\">\n",
       "      <th></th>\n",
       "      <th>dx1_a</th>\n",
       "      <th>dx1_b</th>\n",
       "      <th>dx2_NA</th>\n",
       "      <th>dx2_a</th>\n",
       "      <th>dx2_b</th>\n",
       "      <th>dx3_NA</th>\n",
       "      <th>dx3_c</th>\n",
       "      <th>dx3_d</th>\n",
       "      <th>dx3_e</th>\n",
       "    </tr>\n",
       "    <tr>\n",
       "      <th>PatientID</th>\n",
       "      <th></th>\n",
       "      <th></th>\n",
       "      <th></th>\n",
       "      <th></th>\n",
       "      <th></th>\n",
       "      <th></th>\n",
       "      <th></th>\n",
       "      <th></th>\n",
       "      <th></th>\n",
       "    </tr>\n",
       "  </thead>\n",
       "  <tbody>\n",
       "    <tr>\n",
       "      <th>111</th>\n",
       "      <td>2</td>\n",
       "      <td>0</td>\n",
       "      <td>0</td>\n",
       "      <td>0</td>\n",
       "      <td>2</td>\n",
       "      <td>0</td>\n",
       "      <td>1</td>\n",
       "      <td>0</td>\n",
       "      <td>1</td>\n",
       "    </tr>\n",
       "    <tr>\n",
       "      <th>222</th>\n",
       "      <td>1</td>\n",
       "      <td>1</td>\n",
       "      <td>1</td>\n",
       "      <td>1</td>\n",
       "      <td>0</td>\n",
       "      <td>0</td>\n",
       "      <td>1</td>\n",
       "      <td>1</td>\n",
       "      <td>0</td>\n",
       "    </tr>\n",
       "    <tr>\n",
       "      <th>333</th>\n",
       "      <td>4</td>\n",
       "      <td>0</td>\n",
       "      <td>1</td>\n",
       "      <td>0</td>\n",
       "      <td>3</td>\n",
       "      <td>2</td>\n",
       "      <td>0</td>\n",
       "      <td>2</td>\n",
       "      <td>0</td>\n",
       "    </tr>\n",
       "  </tbody>\n",
       "</table>\n",
       "</div>"
      ],
      "text/plain": [
       "           dx1_a  dx1_b  dx2_NA  dx2_a  dx2_b  dx3_NA  dx3_c  dx3_d  dx3_e\n",
       "PatientID                                                                 \n",
       "111            2      0       0      0      2       0      1      0      1\n",
       "222            1      1       1      1      0       0      1      1      0\n",
       "333            4      0       1      0      3       2      0      2      0"
      ]
     },
     "execution_count": 4,
     "metadata": {},
     "output_type": "execute_result"
    }
   ],
   "source": [
    "mydata = pd.concat([df,DX], axis=1)\n",
    "mydata.drop(['dx1','dx2','dx3'], axis=1, inplace=True)\n",
    "varlist1=mydata.columns.tolist()\n",
    "varlist2=[v for v in varlist1 if str(v).startswith('dx')] # column names that are diagnosis\n",
    "varlist3=[v for v in varlist1 if not str(v).startswith('dx') and v != 'PatientID'] # column names that are not diagnosis\n",
    "print(varlist1, varlist2, varlist3, sep='\\n')\n",
    "df2=mydata.groupby(['PatientID'])[varlist2].sum()\n",
    "df2"
   ]
  },
  {
   "cell_type": "markdown",
   "metadata": {},
   "source": [
    "Above, we created the 'df2' object which contains all the diagnosis codes for each patient, and all information has been rolled up on the patient ID level. However, the diagnosis codes flags are still indicated by diagnosis sequence (e.g. principal/secondary/tertiary diagnosis codes etc.). We need to further combine them by getting rid of the coding hierarchy and just get the count:"
   ]
  },
  {
   "cell_type": "code",
   "execution_count": 5,
   "metadata": {},
   "outputs": [
    {
     "name": "stdout",
     "output_type": "stream",
     "text": [
      "All diag codes in all diag codes fields:  {'d', 'c', 'NA', 'a', 'e', 'b'}\n"
     ]
    },
    {
     "data": {
      "text/html": [
       "<div>\n",
       "<style scoped>\n",
       "    .dataframe tbody tr th:only-of-type {\n",
       "        vertical-align: middle;\n",
       "    }\n",
       "\n",
       "    .dataframe tbody tr th {\n",
       "        vertical-align: top;\n",
       "    }\n",
       "\n",
       "    .dataframe thead th {\n",
       "        text-align: right;\n",
       "    }\n",
       "</style>\n",
       "<table border=\"1\" class=\"dataframe\">\n",
       "  <thead>\n",
       "    <tr style=\"text-align: right;\">\n",
       "      <th></th>\n",
       "      <th>d</th>\n",
       "      <th>c</th>\n",
       "      <th>NA</th>\n",
       "      <th>a</th>\n",
       "      <th>e</th>\n",
       "      <th>b</th>\n",
       "    </tr>\n",
       "    <tr>\n",
       "      <th>PatientID</th>\n",
       "      <th></th>\n",
       "      <th></th>\n",
       "      <th></th>\n",
       "      <th></th>\n",
       "      <th></th>\n",
       "      <th></th>\n",
       "    </tr>\n",
       "  </thead>\n",
       "  <tbody>\n",
       "    <tr>\n",
       "      <th>111</th>\n",
       "      <td>0</td>\n",
       "      <td>1</td>\n",
       "      <td>0</td>\n",
       "      <td>2</td>\n",
       "      <td>1</td>\n",
       "      <td>2</td>\n",
       "    </tr>\n",
       "    <tr>\n",
       "      <th>222</th>\n",
       "      <td>1</td>\n",
       "      <td>1</td>\n",
       "      <td>1</td>\n",
       "      <td>2</td>\n",
       "      <td>0</td>\n",
       "      <td>1</td>\n",
       "    </tr>\n",
       "    <tr>\n",
       "      <th>333</th>\n",
       "      <td>2</td>\n",
       "      <td>0</td>\n",
       "      <td>3</td>\n",
       "      <td>4</td>\n",
       "      <td>0</td>\n",
       "      <td>3</td>\n",
       "    </tr>\n",
       "  </tbody>\n",
       "</table>\n",
       "</div>"
      ],
      "text/plain": [
       "           d  c  NA  a  e  b\n",
       "PatientID                   \n",
       "111        0  1   0  2  1  2\n",
       "222        1  1   1  2  0  1\n",
       "333        2  0   3  4  0  3"
      ]
     },
     "execution_count": 5,
     "metadata": {},
     "output_type": "execute_result"
    }
   ],
   "source": [
    "dxset1=set(df['dx1'].tolist())\n",
    "dxset2=set(df['dx2'].tolist())\n",
    "dxset3=set(df['dx3'].tolist())\n",
    "varlist4=dxset1|dxset2|dxset3\n",
    "print('All diag codes in all diag codes fields: ', varlist4)\n",
    "for j in varlist4:\n",
    "    idx = df2.columns.str.endswith(str(j))\n",
    "    df2[str(j)]=df2.iloc[:,idx].sum(axis=1)\n",
    "df2.drop(varlist2, axis=1, inplace=True)\n",
    "df2"
   ]
  },
  {
   "cell_type": "markdown",
   "metadata": {
    "collapsed": true
   },
   "source": [
    "Now let's merge all the data together. Let's pick the maximum value of x and y for each patient. Our final dataset (see 'df4' below) is characterized by the fact that 1) One row has one patient; 2) We have diagnosis codes counts for each type of diagnosis codes, regardless whether it's principal, secondary, or tertiary etc.; 3) The other variables (x and y in our example) is indicated by its maximum value throughout its patient history. This type of datasets is often used in deep learning problems:"
   ]
  },
  {
   "cell_type": "code",
   "execution_count": 6,
   "metadata": {},
   "outputs": [
    {
     "data": {
      "text/html": [
       "<div>\n",
       "<style scoped>\n",
       "    .dataframe tbody tr th:only-of-type {\n",
       "        vertical-align: middle;\n",
       "    }\n",
       "\n",
       "    .dataframe tbody tr th {\n",
       "        vertical-align: top;\n",
       "    }\n",
       "\n",
       "    .dataframe thead th {\n",
       "        text-align: right;\n",
       "    }\n",
       "</style>\n",
       "<table border=\"1\" class=\"dataframe\">\n",
       "  <thead>\n",
       "    <tr style=\"text-align: right;\">\n",
       "      <th></th>\n",
       "      <th>d</th>\n",
       "      <th>c</th>\n",
       "      <th>NA</th>\n",
       "      <th>a</th>\n",
       "      <th>e</th>\n",
       "      <th>b</th>\n",
       "      <th>x</th>\n",
       "      <th>y</th>\n",
       "    </tr>\n",
       "    <tr>\n",
       "      <th>PatientID</th>\n",
       "      <th></th>\n",
       "      <th></th>\n",
       "      <th></th>\n",
       "      <th></th>\n",
       "      <th></th>\n",
       "      <th></th>\n",
       "      <th></th>\n",
       "      <th></th>\n",
       "    </tr>\n",
       "  </thead>\n",
       "  <tbody>\n",
       "    <tr>\n",
       "      <th>111</th>\n",
       "      <td>0</td>\n",
       "      <td>1</td>\n",
       "      <td>0</td>\n",
       "      <td>2</td>\n",
       "      <td>1</td>\n",
       "      <td>2</td>\n",
       "      <td>5.5</td>\n",
       "      <td>3.2</td>\n",
       "    </tr>\n",
       "    <tr>\n",
       "      <th>222</th>\n",
       "      <td>1</td>\n",
       "      <td>1</td>\n",
       "      <td>1</td>\n",
       "      <td>2</td>\n",
       "      <td>0</td>\n",
       "      <td>1</td>\n",
       "      <td>3.5</td>\n",
       "      <td>2.4</td>\n",
       "    </tr>\n",
       "    <tr>\n",
       "      <th>333</th>\n",
       "      <td>2</td>\n",
       "      <td>0</td>\n",
       "      <td>3</td>\n",
       "      <td>4</td>\n",
       "      <td>0</td>\n",
       "      <td>3</td>\n",
       "      <td>7.2</td>\n",
       "      <td>9.2</td>\n",
       "    </tr>\n",
       "  </tbody>\n",
       "</table>\n",
       "</div>"
      ],
      "text/plain": [
       "           d  c  NA  a  e  b    x    y\n",
       "PatientID                             \n",
       "111        0  1   0  2  1  2  5.5  3.2\n",
       "222        1  1   1  2  0  1  3.5  2.4\n",
       "333        2  0   3  4  0  3  7.2  9.2"
      ]
     },
     "execution_count": 6,
     "metadata": {},
     "output_type": "execute_result"
    }
   ],
   "source": [
    "df3=df.groupby(['PatientID'])[varlist3].max()\n",
    "df4=pd.concat([df2,df3], axis=1)\n",
    "df4"
   ]
  },
  {
   "cell_type": "markdown",
   "metadata": {
    "collapsed": true
   },
   "source": [
    "Now, let's learn how to do the first-dot type of syntax in SAS. Specifically, we want to get the first row of each group, here is a dataset we need to work on. We want to group this by [\"id\",\"value\"] and get the first row of each group:"
   ]
  },
  {
   "cell_type": "code",
   "execution_count": 7,
   "metadata": {},
   "outputs": [
    {
     "name": "stdout",
     "output_type": "stream",
     "text": [
      "    id   value\n",
      "0    1   first\n",
      "1    1  second\n",
      "2    1   third\n",
      "3    2   first\n",
      "4    2  second\n",
      "5    3   first\n",
      "6    3  second\n",
      "7    3   third\n",
      "8    3  fourth\n",
      "9    4   first\n",
      "10   4  second\n",
      "11   5   first\n",
      "12   6   first\n",
      "13   6  second\n",
      "14   6   third\n",
      "15   7   first\n",
      "16   7  second \n",
      "\n",
      "    value\n",
      "id       \n",
      "1   first\n",
      "2   first\n",
      "3   first\n",
      "4   first\n",
      "5   first\n",
      "6   first\n",
      "7   first \n",
      "\n",
      "     value\n",
      "id        \n",
      "1    third\n",
      "2   second\n",
      "3   fourth\n",
      "4   second\n",
      "5    first\n",
      "6    third\n",
      "7   second\n"
     ]
    }
   ],
   "source": [
    "df5 = pd.DataFrame({'id' : [1,1,1,2,2,3,3,3,3,4,4,5,6,6,6,7,7],\n",
    "                    'value': [\"first\",\"second\",\"third\",\"first\",\n",
    "                              \"second\",\"first\",\"second\",\"third\",\n",
    "                              \"fourth\",\"first\",\"second\",\"first\",\n",
    "                              \"first\",\"second\",\"third\",\"first\",\"second\"]})\n",
    "print(df5, '\\n')\n",
    "print(df5.groupby('id').first(), '\\n')\n",
    "print(df5.groupby('id').last())"
   ]
  },
  {
   "cell_type": "markdown",
   "metadata": {},
   "source": [
    "The melt() method is very similar to the 'proc transpose' in SAS, essentially transposing the data to gather columns into rows:"
   ]
  },
  {
   "cell_type": "code",
   "execution_count": 8,
   "metadata": {},
   "outputs": [
    {
     "name": "stdout",
     "output_type": "stream",
     "text": [
      "  PatientID    x    y  dx1_a  dx1_b  dx2_NA  dx2_a  dx2_b  dx3_NA  dx3_c  \\\n",
      "0       111  5.5  1.3      1      0       0      0      1       0      1   \n",
      "1       111  3.0  3.2      1      0       0      0      1       0      0   \n",
      "2       222  1.2  2.4      0      1       0      1      0       0      1   \n",
      "3       222  3.5  1.5      1      0       1      0      0       0      0   \n",
      "4       333  7.2  3.5      1      0       1      0      0       1      0   \n",
      "5       333  2.1  6.6      1      0       0      0      1       1      0   \n",
      "6       333  2.2  6.9      1      0       0      0      1       0      0   \n",
      "7       333  2.1  9.2      1      0       0      0      1       0      0   \n",
      "\n",
      "   dx3_d  dx3_e  \n",
      "0      0      0  \n",
      "1      0      1  \n",
      "2      0      0  \n",
      "3      1      0  \n",
      "4      0      0  \n",
      "5      0      0  \n",
      "6      1      0  \n",
      "7      1      0   \n",
      "\n",
      "     variable value\n",
      "0   PatientID   111\n",
      "1   PatientID   111\n",
      "2   PatientID   222\n",
      "3   PatientID   222\n",
      "4   PatientID   333\n",
      "..        ...   ...\n",
      "91      dx3_e     0\n",
      "92      dx3_e     0\n",
      "93      dx3_e     0\n",
      "94      dx3_e     0\n",
      "95      dx3_e     0\n",
      "\n",
      "[96 rows x 2 columns]\n"
     ]
    }
   ],
   "source": [
    "print(mydata, '\\n')\n",
    "print(pd.melt(mydata))"
   ]
  },
  {
   "cell_type": "markdown",
   "metadata": {},
   "source": [
    "Lastly, let's learn how to manipulate texts. Suppose we have a dataset that contains many texts, our goal is to replace some of the substrings in the texts for every row. Suppose I have a list of weekdays. I want to replace all of them with 'blah-blah'. We need to create a user-defined function to do this."
   ]
  },
  {
   "cell_type": "code",
   "execution_count": 9,
   "metadata": {},
   "outputs": [
    {
     "data": {
      "text/html": [
       "<div>\n",
       "<style scoped>\n",
       "    .dataframe tbody tr th:only-of-type {\n",
       "        vertical-align: middle;\n",
       "    }\n",
       "\n",
       "    .dataframe tbody tr th {\n",
       "        vertical-align: top;\n",
       "    }\n",
       "\n",
       "    .dataframe thead th {\n",
       "        text-align: right;\n",
       "    }\n",
       "</style>\n",
       "<table border=\"1\" class=\"dataframe\">\n",
       "  <thead>\n",
       "    <tr style=\"text-align: right;\">\n",
       "      <th></th>\n",
       "      <th>Ticket Number</th>\n",
       "      <th>message</th>\n",
       "    </tr>\n",
       "  </thead>\n",
       "  <tbody>\n",
       "    <tr>\n",
       "      <th>0</th>\n",
       "      <td>1</td>\n",
       "      <td>today is monday, and after today is Wednesday;...</td>\n",
       "    </tr>\n",
       "    <tr>\n",
       "      <th>1</th>\n",
       "      <td>2</td>\n",
       "      <td>yesterday is thursday; tomorrow is saturday, w...</td>\n",
       "    </tr>\n",
       "    <tr>\n",
       "      <th>2</th>\n",
       "      <td>3</td>\n",
       "      <td>which seat should I take</td>\n",
       "    </tr>\n",
       "    <tr>\n",
       "      <th>3</th>\n",
       "      <td>4</td>\n",
       "      <td>I am Rebecca Black;\\nI like singing Friday, or...</td>\n",
       "    </tr>\n",
       "    <tr>\n",
       "      <th>4</th>\n",
       "      <td>5</td>\n",
       "      <td></td>\n",
       "    </tr>\n",
       "    <tr>\n",
       "      <th>5</th>\n",
       "      <td>6</td>\n",
       "      <td>---------------</td>\n",
       "    </tr>\n",
       "  </tbody>\n",
       "</table>\n",
       "</div>"
      ],
      "text/plain": [
       "  Ticket Number                                            message\n",
       "0             1  today is monday, and after today is Wednesday;...\n",
       "1             2  yesterday is thursday; tomorrow is saturday, w...\n",
       "2             3                           which seat should I take\n",
       "3             4  I am Rebecca Black;\\nI like singing Friday, or...\n",
       "4             5                                                   \n",
       "5             6                                    ---------------"
      ]
     },
     "execution_count": 9,
     "metadata": {},
     "output_type": "execute_result"
    }
   ],
   "source": [
    "remove_tokens=['monday','tuesday','wednesday','thursday','friday','saturday', 'friday-saturday']\n",
    "df0 = np.array([[1, \"today is monday, and after today is Wednesday;\\n wednesday? \\r don't you love Wednesday!\"],\n",
    "                [2, \"yesterday is thursday; tomorrow is saturday, we, we are so excited, so excited\"],\n",
    "                [3, \"which seat should I take\"],\n",
    "                [4, \"I am Rebecca Black;\\nI like singing Friday, or Friday-Saturday\"],\n",
    "                [5, \"\"],\n",
    "                [6, \"---------------\"]])\n",
    "df=pd.DataFrame(data=df0, columns=['Ticket Number', 'message'])\n",
    "df                 "
   ]
  },
  {
   "cell_type": "code",
   "execution_count": 10,
   "metadata": {},
   "outputs": [],
   "source": [
    "def clean_text(s):\n",
    "    for i in remove_tokens:\n",
    "        s=s.lower().replace(i, 'blah')\n",
    "    return s"
   ]
  },
  {
   "cell_type": "code",
   "execution_count": 11,
   "metadata": {},
   "outputs": [
    {
     "name": "stdout",
     "output_type": "stream",
     "text": [
      "0 : today is blah, and after today is blah;\n",
      " blah? \r",
      " don't you love blah! \n",
      "\n",
      "1 : yesterday is blah; tomorrow is blah, we, we are so excited, so excited \n",
      "\n",
      "2 : which seat should i take \n",
      "\n",
      "3 : i am rebecca black;\n",
      "i like singing blah, or blah-blah \n",
      "\n",
      "4 :  \n",
      "\n",
      "5 : --------------- \n",
      "\n"
     ]
    }
   ],
   "source": [
    "df['clean_msg']=df['message'].apply(clean_text)\n",
    "\n",
    "for j in range(6):\n",
    "    print(j, ':', df.clean_msg.iloc[j],'\\n')"
   ]
  },
  {
   "cell_type": "markdown",
   "metadata": {},
   "source": [
    "Notice that there is a problem, because we expect the string friday-saturday to be replaced by 'blah'. So the trick here is to sort the list based on its length:"
   ]
  },
  {
   "cell_type": "code",
   "execution_count": 12,
   "metadata": {},
   "outputs": [
    {
     "name": "stdout",
     "output_type": "stream",
     "text": [
      "['friday-saturday', 'wednesday', 'thursday', 'saturday', 'tuesday', 'monday', 'friday']\n"
     ]
    }
   ],
   "source": [
    "remove_tokens.sort(key=lambda xs: len(xs), reverse=True)\n",
    "print(remove_tokens)\n",
    "\n",
    "def clean_text2(s):\n",
    "    for i in remove_tokens:\n",
    "        s=s.lower().replace(i, 'blah')\n",
    "    return s"
   ]
  },
  {
   "cell_type": "code",
   "execution_count": 13,
   "metadata": {},
   "outputs": [
    {
     "name": "stdout",
     "output_type": "stream",
     "text": [
      "0 : today is blah, and after today is blah;\n",
      " blah? \r",
      " don't you love blah! \n",
      "\n",
      "1 : yesterday is blah; tomorrow is blah, we, we are so excited, so excited \n",
      "\n",
      "2 : which seat should i take \n",
      "\n",
      "3 : i am rebecca black;\n",
      "i like singing blah, or blah \n",
      "\n",
      "4 :  \n",
      "\n",
      "5 : --------------- \n",
      "\n"
     ]
    }
   ],
   "source": [
    "df['clean_msg']=df['message'].apply(clean_text)\n",
    "\n",
    "for j in range(6):\n",
    "    print(j, ':', df.clean_msg.iloc[j],'\\n')"
   ]
  },
  {
   "cell_type": "markdown",
   "metadata": {},
   "source": [
    "Additional Resources:\n",
    "   - https://stackoverflow.com/questions/28236305/how-do-i-sum-values-in-a-column-that-match-a-given-condition-using-pandas\n",
    "   - https://stackoverflow.com/questions/11587782/creating-dummy-variables-in-pandas-for-python\n",
    "   - http://pandas.pydata.org/pandas-docs/stable/merging.html\n",
    "   - https://stackoverflow.com/questions/34797774/summing-up-values-for-rows-per-columns-starting-with-col\n",
    "   - https://stackoverflow.com/questions/35101426/return-subset-of-list-that-matches-condition\n",
    "   - https://stackoverflow.com/questions/44327999/python-pandas-merge-multiple-dataframes\n",
    "   - https://stackoverflow.com/questions/20067636/pandas-dataframe-get-first-row-of-each-group\n",
    "   - https://pandas.pydata.org/Pandas_Cheat_Sheet.pdf"
   ]
  },
  {
   "cell_type": "code",
   "execution_count": null,
   "metadata": {
    "collapsed": true
   },
   "outputs": [],
   "source": []
  }
 ],
 "metadata": {
  "kernelspec": {
   "display_name": "Python 3",
   "language": "python",
   "name": "python3"
  },
  "language_info": {
   "codemirror_mode": {
    "name": "ipython",
    "version": 3
   },
   "file_extension": ".py",
   "mimetype": "text/x-python",
   "name": "python",
   "nbconvert_exporter": "python",
   "pygments_lexer": "ipython3",
   "version": "3.7.6"
  }
 },
 "nbformat": 4,
 "nbformat_minor": 2
}
